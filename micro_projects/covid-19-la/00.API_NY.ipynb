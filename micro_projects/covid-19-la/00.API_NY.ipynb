{
 "cells": [
  {
   "cell_type": "markdown",
   "metadata": {},
   "source": [
    "##  PURPOSE OF THIS NOTEBOOK IS TO CHECK IF ATTOM DATA SOLUTIONS API QUERY WORKS AND DEBUG AS NECESSARY"
   ]
  },
  {
   "cell_type": "code",
   "execution_count": 1,
   "metadata": {},
   "outputs": [],
   "source": [
    "import requests\n",
    "import json\n",
    "import pandas as pd"
   ]
  },
  {
   "cell_type": "markdown",
   "metadata": {},
   "source": [
    "## Attempted to fetch some data from ATTOM. See if query works\n",
    "\n",
    "https://api.developer.attomdata.com/docs#!/Sales32Trend32by32Quarter/getSalesTrendByQuarter"
   ]
  },
  {
   "cell_type": "code",
   "execution_count": 1,
   "metadata": {},
   "outputs": [],
   "source": [
    "baseurl = 'https://api.gateway.attomdata.com/propertyapi/v1.0.0/property/address'\n",
    "queryparams = {'postalcode':10025,\n",
    "         'propertytype': 'TOWNHOUSE/ROWHOUSE', \n",
    "         'pagesize': 3}\n",
    "\n",
    "# AP_API_KEY = '522739f66b76ac63523c45dab14c3aa9', CW_API_KEY = '2b1e86b638620bf2404521e6e9e1b19e', CW_API_2= ' \t0c05e174a8009b9c7a14d06778d5b7fd'\n",
    "\n",
    "# New_APIS\n",
    "attom_keys = ['1aca7ca361664d5b70c603ebd9daa6c7','57fb3873cfd2b0e57cd38d92450c81d1','123b348cfa3af52b50aac55d5fc2a853','81e1f74972e2f35a610c43b670d54de','97a972418c6f6329d2ec3d5fe4e4c31c']\n",
    "headers = {'apikey': '2b1e86b638620bf2404521e6e9e1b19e', 'accept': 'application/JSON'}"
   ]
  },
  {
   "cell_type": "code",
   "execution_count": 4,
   "metadata": {},
   "outputs": [
    {
     "output_type": "execute_result",
     "data": {
      "text/plain": [
       "'https://api.gateway.attomdata.com/propertyapi/v1.0.0/property/address?postalcode=10025&propertytype=TOWNHOUSE%2FROWHOUSE&pagesize=3'"
      ]
     },
     "metadata": {},
     "execution_count": 4
    }
   ],
   "source": [
    "response = requests.get(baseurl, params = queryparams,headers=headers)\n",
    "response.url"
   ]
  },
  {
   "cell_type": "code",
   "execution_count": 5,
   "metadata": {},
   "outputs": [],
   "source": [
    "pydata = response.json()    # pydata is a python list/dictionary NOT JSON\n",
    "pydata = pydata['property']\n"
   ]
  },
  {
   "cell_type": "code",
   "execution_count": 5,
   "metadata": {},
   "outputs": [],
   "source": [
    "# UNCOMMENT TO SEE\n",
    "#print(json.dumps(pydata, indent = 3))"
   ]
  },
  {
   "cell_type": "code",
   "execution_count": 6,
   "metadata": {},
   "outputs": [],
   "source": [
    "with open('exported.txt', 'w') as outfile:\n",
    "    json.dump(pydata, outfile)"
   ]
  },
  {
   "cell_type": "code",
   "execution_count": 7,
   "metadata": {},
   "outputs": [],
   "source": [
    "import pandas as pd\n",
    "with open('exported.txt') as project_file:    \n",
    "    data = json.load(project_file)  \n",
    "\n",
    "df = pd.json_normalize(data)\n"
   ]
  },
  {
   "cell_type": "code",
   "execution_count": 8,
   "metadata": {},
   "outputs": [
    {
     "data": {
      "text/plain": [
       "(3, 22)"
      ]
     },
     "execution_count": 8,
     "metadata": {},
     "output_type": "execute_result"
    }
   ],
   "source": [
    "df.shape"
   ]
  },
  {
   "cell_type": "code",
   "execution_count": 10,
   "metadata": {},
   "outputs": [
    {
     "data": {
      "text/html": [
       "<div>\n",
       "<style scoped>\n",
       "    .dataframe tbody tr th:only-of-type {\n",
       "        vertical-align: middle;\n",
       "    }\n",
       "\n",
       "    .dataframe tbody tr th {\n",
       "        vertical-align: top;\n",
       "    }\n",
       "\n",
       "    .dataframe thead th {\n",
       "        text-align: right;\n",
       "    }\n",
       "</style>\n",
       "<table border=\"1\" class=\"dataframe\">\n",
       "  <thead>\n",
       "    <tr style=\"text-align: right;\">\n",
       "      <th></th>\n",
       "      <th>identifier.Id</th>\n",
       "      <th>identifier.fips</th>\n",
       "      <th>identifier.apn</th>\n",
       "      <th>identifier.apnOrig</th>\n",
       "      <th>identifier.attomId</th>\n",
       "      <th>address.country</th>\n",
       "      <th>address.countrySubd</th>\n",
       "      <th>address.line1</th>\n",
       "      <th>address.line2</th>\n",
       "      <th>address.locality</th>\n",
       "      <th>address.matchCode</th>\n",
       "      <th>address.oneLine</th>\n",
       "      <th>address.postal1</th>\n",
       "      <th>address.postal2</th>\n",
       "      <th>address.postal3</th>\n",
       "      <th>location.accuracy</th>\n",
       "      <th>location.latitude</th>\n",
       "      <th>location.longitude</th>\n",
       "      <th>location.distance</th>\n",
       "      <th>location.geoid</th>\n",
       "      <th>vintage.lastModified</th>\n",
       "      <th>vintage.pubDate</th>\n",
       "    </tr>\n",
       "  </thead>\n",
       "  <tbody>\n",
       "    <tr>\n",
       "      <th>0</th>\n",
       "      <td>5109917</td>\n",
       "      <td>06001</td>\n",
       "      <td>501 163007500</td>\n",
       "      <td>501163007500</td>\n",
       "      <td>5109917</td>\n",
       "      <td>US</td>\n",
       "      <td>CA</td>\n",
       "      <td>3768 COLET TER</td>\n",
       "      <td>FREMONT, CA 94536</td>\n",
       "      <td>FREMONT</td>\n",
       "      <td>ExaStr</td>\n",
       "      <td>3768 COLET TER, FREMONT, CA 94536</td>\n",
       "      <td>94536</td>\n",
       "      <td>6005</td>\n",
       "      <td>C061</td>\n",
       "      <td>Rooftop</td>\n",
       "      <td>37.554617</td>\n",
       "      <td>-121.995952</td>\n",
       "      <td>0.0</td>\n",
       "      <td>CO06001, CS0691070, DB0614400, ND0000000924, R...</td>\n",
       "      <td>2021-4-8</td>\n",
       "      <td>2021-4-8</td>\n",
       "    </tr>\n",
       "    <tr>\n",
       "      <th>1</th>\n",
       "      <td>10851195</td>\n",
       "      <td>06001</td>\n",
       "      <td>501 060717000</td>\n",
       "      <td>501060717000</td>\n",
       "      <td>10851195</td>\n",
       "      <td>US</td>\n",
       "      <td>CA</td>\n",
       "      <td>37631 MURIETTA TER</td>\n",
       "      <td>FREMONT, CA 94536</td>\n",
       "      <td>FREMONT</td>\n",
       "      <td>ExaStr</td>\n",
       "      <td>37631 MURIETTA TER, FREMONT, CA 94536</td>\n",
       "      <td>94536</td>\n",
       "      <td>6644</td>\n",
       "      <td>C060</td>\n",
       "      <td>Rooftop</td>\n",
       "      <td>37.545177</td>\n",
       "      <td>-122.012501</td>\n",
       "      <td>0.0</td>\n",
       "      <td>CO06001, CS0691070, DB0614400, ND0000000927, P...</td>\n",
       "      <td>2021-4-8</td>\n",
       "      <td>2021-4-8</td>\n",
       "    </tr>\n",
       "    <tr>\n",
       "      <th>2</th>\n",
       "      <td>20409996</td>\n",
       "      <td>06001</td>\n",
       "      <td>507 042010200</td>\n",
       "      <td>507042010200</td>\n",
       "      <td>20409996</td>\n",
       "      <td>US</td>\n",
       "      <td>CA</td>\n",
       "      <td>38604 ROYAL ANN CMN</td>\n",
       "      <td>FREMONT, CA 94536</td>\n",
       "      <td>FREMONT</td>\n",
       "      <td>ExaStr</td>\n",
       "      <td>38604 ROYAL ANN CMN, FREMONT, CA 94536</td>\n",
       "      <td>94536</td>\n",
       "      <td>4218</td>\n",
       "      <td>C085</td>\n",
       "      <td>Rooftop</td>\n",
       "      <td>37.566768</td>\n",
       "      <td>-121.971207</td>\n",
       "      <td>0.0</td>\n",
       "      <td>CO06001, CS0691070, DB0614400, ND0004779170, P...</td>\n",
       "      <td>2021-4-8</td>\n",
       "      <td>2021-4-8</td>\n",
       "    </tr>\n",
       "  </tbody>\n",
       "</table>\n",
       "</div>"
      ],
      "text/plain": [
       "   identifier.Id identifier.fips identifier.apn identifier.apnOrig  \\\n",
       "0        5109917           06001  501 163007500       501163007500   \n",
       "1       10851195           06001  501 060717000       501060717000   \n",
       "2       20409996           06001  507 042010200       507042010200   \n",
       "\n",
       "   identifier.attomId address.country address.countrySubd  \\\n",
       "0             5109917              US                  CA   \n",
       "1            10851195              US                  CA   \n",
       "2            20409996              US                  CA   \n",
       "\n",
       "         address.line1      address.line2 address.locality address.matchCode  \\\n",
       "0       3768 COLET TER  FREMONT, CA 94536          FREMONT            ExaStr   \n",
       "1   37631 MURIETTA TER  FREMONT, CA 94536          FREMONT            ExaStr   \n",
       "2  38604 ROYAL ANN CMN  FREMONT, CA 94536          FREMONT            ExaStr   \n",
       "\n",
       "                          address.oneLine address.postal1 address.postal2  \\\n",
       "0       3768 COLET TER, FREMONT, CA 94536           94536            6005   \n",
       "1   37631 MURIETTA TER, FREMONT, CA 94536           94536            6644   \n",
       "2  38604 ROYAL ANN CMN, FREMONT, CA 94536           94536            4218   \n",
       "\n",
       "  address.postal3 location.accuracy location.latitude location.longitude  \\\n",
       "0            C061           Rooftop         37.554617        -121.995952   \n",
       "1            C060           Rooftop         37.545177        -122.012501   \n",
       "2            C085           Rooftop         37.566768        -121.971207   \n",
       "\n",
       "   location.distance                                     location.geoid  \\\n",
       "0                0.0  CO06001, CS0691070, DB0614400, ND0000000924, R...   \n",
       "1                0.0  CO06001, CS0691070, DB0614400, ND0000000927, P...   \n",
       "2                0.0  CO06001, CS0691070, DB0614400, ND0004779170, P...   \n",
       "\n",
       "  vintage.lastModified vintage.pubDate  \n",
       "0             2021-4-8        2021-4-8  \n",
       "1             2021-4-8        2021-4-8  \n",
       "2             2021-4-8        2021-4-8  "
      ]
     },
     "execution_count": 10,
     "metadata": {},
     "output_type": "execute_result"
    }
   ],
   "source": [
    "pd.set_option('display.max_columns', 500)\n",
    "df.head()"
   ]
  },
  {
   "cell_type": "markdown",
   "metadata": {},
   "source": [
    "## conclusion: learnt to fetch data \n",
    "## convert responseobject ---> python list of dictionary of lists ---> write to file---> convert to pandas"
   ]
  },
  {
   "cell_type": "markdown",
   "metadata": {},
   "source": [
    "## Fetch all counties in New York FIPS ID"
   ]
  },
  {
   "cell_type": "code",
   "execution_count": 4,
   "metadata": {},
   "outputs": [
    {
     "output_type": "execute_result",
     "data": {
      "text/plain": [
       "{'response': {'inputparameter': {'package': 'lookup',\n",
       "   'resource': 'county',\n",
       "   'service': 'Area',\n",
       "   'StateId': 'ST36'},\n",
       "  'result': {'package': {'descr': 'This lookup returns all the Counties that are in a particular state. The State ID is required. The two-digit FIPS code or the two-letter abbreviation can be used for the State ID.',\n",
       "    'item': [{'geo_center_latitude': '44.0312480000',\n",
       "      'geo_center_longitude': '-73.1415810000',\n",
       "      'geo_key': 'CO50001',\n",
       "      'id': 'CO50001',\n",
       "      'name': 'Addison',\n",
       "      'type': 'CO'},\n",
       "     {'geo_center_latitude': '42.5882400000',\n",
       "      'geo_center_longitude': '-73.9740090000',\n",
       "      'geo_key': 'CO36001',\n",
       "      'id': 'CO36001',\n",
       "      'name': 'Albany',\n",
       "      'type': 'CO'},\n",
       "     {'geo_center_latitude': '42.2478530000',\n",
       "      'geo_center_longitude': '-78.0261530000',\n",
       "      'geo_key': 'CO36003',\n",
       "      'id': 'CO36003',\n",
       "      'name': 'Allegany',\n",
       "      'type': 'CO'},\n",
       "     {'geo_center_latitude': '43.0353250000',\n",
       "      'geo_center_longitude': '-73.1114600000',\n",
       "      'geo_key': 'CO50003',\n",
       "      'id': 'CO50003',\n",
       "      'name': 'Bennington',\n",
       "      'type': 'CO'},\n",
       "     {'geo_center_latitude': '40.9596990000',\n",
       "      'geo_center_longitude': '-74.0747270000',\n",
       "      'geo_key': 'CO34003',\n",
       "      'id': 'CO34003',\n",
       "      'name': 'Bergen',\n",
       "      'type': 'CO'},\n",
       "     {'geo_center_latitude': '42.3714930000',\n",
       "      'geo_center_longitude': '-73.2179280000',\n",
       "      'geo_key': 'CO25003',\n",
       "      'id': 'CO25003',\n",
       "      'name': 'Berkshire',\n",
       "      'type': 'CO'},\n",
       "     {'geo_center_latitude': '41.7915040000',\n",
       "      'geo_center_longitude': '-76.5021230000',\n",
       "      'geo_key': 'CO42015',\n",
       "      'id': 'CO42015',\n",
       "      'name': 'Bradford',\n",
       "      'type': 'CO'},\n",
       "     {'geo_center_latitude': '40.8487110000',\n",
       "      'geo_center_longitude': '-73.8529390000',\n",
       "      'geo_key': 'CO36005',\n",
       "      'id': 'CO36005',\n",
       "      'name': 'Bronx',\n",
       "      'type': 'CO'},\n",
       "     {'geo_center_latitude': '42.1619770000',\n",
       "      'geo_center_longitude': '-75.8302830000',\n",
       "      'geo_key': 'CO36007',\n",
       "      'id': 'CO36007',\n",
       "      'name': 'Broome',\n",
       "      'type': 'CO'},\n",
       "     {'geo_center_latitude': '42.2390990000',\n",
       "      'geo_center_longitude': '-78.6623320000',\n",
       "      'geo_key': 'CO36009',\n",
       "      'id': 'CO36009',\n",
       "      'name': 'Cattaraugus',\n",
       "      'type': 'CO'},\n",
       "     {'geo_center_latitude': '43.0085460000',\n",
       "      'geo_center_longitude': '-76.5745870000',\n",
       "      'geo_key': 'CO36011',\n",
       "      'id': 'CO36011',\n",
       "      'name': 'Cayuga',\n",
       "      'type': 'CO'},\n",
       "     {'geo_center_latitude': '42.3042160000',\n",
       "      'geo_center_longitude': '-79.4075950000',\n",
       "      'geo_key': 'CO36013',\n",
       "      'id': 'CO36013',\n",
       "      'name': 'Chautauqua',\n",
       "      'type': 'CO'},\n",
       "     {'geo_center_latitude': '42.1486970000',\n",
       "      'geo_center_longitude': '-76.7524710000',\n",
       "      'geo_key': 'CO36015',\n",
       "      'id': 'CO36015',\n",
       "      'name': 'Chemung',\n",
       "      'type': 'CO'},\n",
       "     {'geo_center_latitude': '42.4780240000',\n",
       "      'geo_center_longitude': '-75.6022410000',\n",
       "      'geo_key': 'CO36017',\n",
       "      'id': 'CO36017',\n",
       "      'name': 'Chenango',\n",
       "      'type': 'CO'},\n",
       "     {'geo_center_latitude': '44.4633290000',\n",
       "      'geo_center_longitude': '-73.0694100000',\n",
       "      'geo_key': 'CO50007',\n",
       "      'id': 'CO50007',\n",
       "      'name': 'Chittenden',\n",
       "      'type': 'CO'},\n",
       "     {'geo_center_latitude': '44.7527120000',\n",
       "      'geo_center_longitude': '-73.7056430000',\n",
       "      'geo_key': 'CO36019',\n",
       "      'id': 'CO36019',\n",
       "      'name': 'Clinton',\n",
       "      'type': 'CO'},\n",
       "     {'geo_center_latitude': '42.2476960000',\n",
       "      'geo_center_longitude': '-73.6267170000',\n",
       "      'geo_key': 'CO36021',\n",
       "      'id': 'CO36021',\n",
       "      'name': 'Columbia',\n",
       "      'type': 'CO'},\n",
       "     {'geo_center_latitude': '42.5940390000',\n",
       "      'geo_center_longitude': '-76.0762400000',\n",
       "      'geo_key': 'CO36023',\n",
       "      'id': 'CO36023',\n",
       "      'name': 'Cortland',\n",
       "      'type': 'CO'},\n",
       "     {'geo_center_latitude': '42.1939870000',\n",
       "      'geo_center_longitude': '-74.9667280000',\n",
       "      'geo_key': 'CO36025',\n",
       "      'id': 'CO36025',\n",
       "      'name': 'Delaware',\n",
       "      'type': 'CO'},\n",
       "     {'geo_center_latitude': '41.7547700000',\n",
       "      'geo_center_longitude': '-73.7400410000',\n",
       "      'geo_key': 'CO36027',\n",
       "      'id': 'CO36027',\n",
       "      'name': 'Dutchess',\n",
       "      'type': 'CO'},\n",
       "     {'geo_center_latitude': '42.7527590000',\n",
       "      'geo_center_longitude': '-78.7781920000',\n",
       "      'geo_key': 'CO36029',\n",
       "      'id': 'CO36029',\n",
       "      'name': 'Erie',\n",
       "      'type': 'CO'},\n",
       "     {'geo_center_latitude': '42.1179520000',\n",
       "      'geo_center_longitude': '-80.0963860000',\n",
       "      'geo_key': 'CO42049',\n",
       "      'id': 'CO42049',\n",
       "      'name': 'Erie',\n",
       "      'type': 'CO'},\n",
       "     {'geo_center_latitude': '44.1096000000',\n",
       "      'geo_center_longitude': '-73.7784310000',\n",
       "      'geo_key': 'CO36031',\n",
       "      'id': 'CO36031',\n",
       "      'name': 'Essex',\n",
       "      'type': 'CO'},\n",
       "     {'geo_center_latitude': '41.2274130000',\n",
       "      'geo_center_longitude': '-73.3670610000',\n",
       "      'geo_key': 'CO09001',\n",
       "      'id': 'CO09001',\n",
       "      'name': 'Fairfield',\n",
       "      'type': 'CO'},\n",
       "     {'geo_center_latitude': '44.5943760000',\n",
       "      'geo_center_longitude': '-74.3106700000',\n",
       "      'geo_key': 'CO36033',\n",
       "      'id': 'CO36033',\n",
       "      'name': 'Franklin',\n",
       "      'type': 'CO'},\n",
       "     {'geo_center_latitude': '43.1156090000',\n",
       "      'geo_center_longitude': '-74.4236780000',\n",
       "      'geo_key': 'CO36035',\n",
       "      'id': 'CO36035',\n",
       "      'name': 'Fulton',\n",
       "      'type': 'CO'},\n",
       "     {'geo_center_latitude': '43.0009100000',\n",
       "      'geo_center_longitude': '-78.1927780000',\n",
       "      'geo_key': 'CO36037',\n",
       "      'id': 'CO36037',\n",
       "      'name': 'Genesee',\n",
       "      'type': 'CO'},\n",
       "     {'geo_center_latitude': '44.7957430000',\n",
       "      'geo_center_longitude': '-73.2950820000',\n",
       "      'geo_key': 'CO50013',\n",
       "      'id': 'CO50013',\n",
       "      'name': 'Grand Isle',\n",
       "      'type': 'CO'},\n",
       "     {'geo_center_latitude': '42.2798210000',\n",
       "      'geo_center_longitude': '-74.1420250000',\n",
       "      'geo_key': 'CO36039',\n",
       "      'id': 'CO36039',\n",
       "      'name': 'Greene',\n",
       "      'type': 'CO'},\n",
       "     {'geo_center_latitude': '43.6578790000',\n",
       "      'geo_center_longitude': '-74.5024560000',\n",
       "      'geo_key': 'CO36041',\n",
       "      'id': 'CO36041',\n",
       "      'name': 'Hamilton',\n",
       "      'type': 'CO'},\n",
       "     {'geo_center_latitude': '43.5710090000',\n",
       "      'geo_center_longitude': '-74.8410970000',\n",
       "      'geo_key': 'CO36043',\n",
       "      'id': 'CO36043',\n",
       "      'name': 'Herkimer',\n",
       "      'type': 'CO'},\n",
       "     {'geo_center_latitude': '40.7313750000',\n",
       "      'geo_center_longitude': '-74.0786010000',\n",
       "      'geo_key': 'CO34017',\n",
       "      'id': 'CO34017',\n",
       "      'name': 'Hudson',\n",
       "      'type': 'CO'},\n",
       "     {'geo_center_latitude': '43.9963890000',\n",
       "      'geo_center_longitude': '-76.0529680000',\n",
       "      'geo_key': 'CO36045',\n",
       "      'id': 'CO36045',\n",
       "      'name': 'Jefferson',\n",
       "      'type': 'CO'},\n",
       "     {'geo_center_latitude': '40.6350450000',\n",
       "      'geo_center_longitude': '-73.9506400000',\n",
       "      'geo_key': 'CO36047',\n",
       "      'id': 'CO36047',\n",
       "      'name': 'Kings',\n",
       "      'type': 'CO'},\n",
       "     {'geo_center_latitude': '43.7826810000',\n",
       "      'geo_center_longitude': '-75.4441400000',\n",
       "      'geo_key': 'CO36049',\n",
       "      'id': 'CO36049',\n",
       "      'name': 'Lewis',\n",
       "      'type': 'CO'},\n",
       "     {'geo_center_latitude': '41.7918830000',\n",
       "      'geo_center_longitude': '-73.2354040000',\n",
       "      'geo_key': 'CO09005',\n",
       "      'id': 'CO09005',\n",
       "      'name': 'Litchfield',\n",
       "      'type': 'CO'},\n",
       "     {'geo_center_latitude': '42.7290420000',\n",
       "      'geo_center_longitude': '-77.7784630000',\n",
       "      'geo_key': 'CO36051',\n",
       "      'id': 'CO36051',\n",
       "      'name': 'Livingston',\n",
       "      'type': 'CO'},\n",
       "     {'geo_center_latitude': '42.9100260000',\n",
       "      'geo_center_longitude': '-75.6635750000',\n",
       "      'geo_key': 'CO36053',\n",
       "      'id': 'CO36053',\n",
       "      'name': 'Madison',\n",
       "      'type': 'CO'},\n",
       "     {'geo_center_latitude': '41.8145900000',\n",
       "      'geo_center_longitude': '-78.5724630000',\n",
       "      'geo_key': 'CO42083',\n",
       "      'id': 'CO42083',\n",
       "      'name': 'McKean',\n",
       "      'type': 'CO'},\n",
       "     {'geo_center_latitude': '41.4330030000',\n",
       "      'geo_center_longitude': '-72.5227800000',\n",
       "      'geo_key': 'CO09007',\n",
       "      'id': 'CO09007',\n",
       "      'name': 'Middlesex',\n",
       "      'type': 'CO'},\n",
       "     {'geo_center_latitude': '40.4396210000',\n",
       "      'geo_center_longitude': '-74.4074300000',\n",
       "      'geo_key': 'CO34023',\n",
       "      'id': 'CO34023',\n",
       "      'name': 'Middlesex',\n",
       "      'type': 'CO'},\n",
       "     {'geo_center_latitude': '40.2870480000',\n",
       "      'geo_center_longitude': '-74.1524460000',\n",
       "      'geo_key': 'CO34025',\n",
       "      'id': 'CO34025',\n",
       "      'name': 'Monmouth',\n",
       "      'type': 'CO'},\n",
       "     {'geo_center_latitude': '43.2503470000',\n",
       "      'geo_center_longitude': '-77.7005180000',\n",
       "      'geo_key': 'CO36055',\n",
       "      'id': 'CO36055',\n",
       "      'name': 'Monroe',\n",
       "      'type': 'CO'},\n",
       "     {'geo_center_latitude': '42.9008910000',\n",
       "      'geo_center_longitude': '-74.4353570000',\n",
       "      'geo_key': 'CO36057',\n",
       "      'id': 'CO36057',\n",
       "      'name': 'Montgomery',\n",
       "      'type': 'CO'},\n",
       "     {'geo_center_latitude': '40.7296120000',\n",
       "      'geo_center_longitude': '-73.5894140000',\n",
       "      'geo_key': 'CO36059',\n",
       "      'id': 'CO36059',\n",
       "      'name': 'Nassau',\n",
       "      'type': 'CO'},\n",
       "     {'geo_center_latitude': '41.3497190000',\n",
       "      'geo_center_longitude': '-72.9002030000',\n",
       "      'geo_key': 'CO09009',\n",
       "      'id': 'CO09009',\n",
       "      'name': 'New Haven',\n",
       "      'type': 'CO'},\n",
       "     {'geo_center_latitude': '41.4726520000',\n",
       "      'geo_center_longitude': '-72.1086340000',\n",
       "      'geo_key': 'CO09011',\n",
       "      'id': 'CO09011',\n",
       "      'name': 'New London',\n",
       "      'type': 'CO'},\n",
       "     {'geo_center_latitude': '40.7766420000',\n",
       "      'geo_center_longitude': '-73.9701870000',\n",
       "      'geo_key': 'CO36061',\n",
       "      'id': 'CO36061',\n",
       "      'name': 'New York',\n",
       "      'type': 'CO'},\n",
       "     {'geo_center_latitude': '43.2726720000',\n",
       "      'geo_center_longitude': '-78.8129430000',\n",
       "      'geo_key': 'CO36063',\n",
       "      'id': 'CO36063',\n",
       "      'name': 'Niagara',\n",
       "      'type': 'CO'},\n",
       "     {'geo_center_latitude': '43.2427270000',\n",
       "      'geo_center_longitude': '-75.4342820000',\n",
       "      'geo_key': 'CO36065',\n",
       "      'id': 'CO36065',\n",
       "      'name': 'Oneida',\n",
       "      'type': 'CO'},\n",
       "     {'geo_center_latitude': '43.0065160000',\n",
       "      'geo_center_longitude': '-76.1961340000',\n",
       "      'geo_key': 'CO36067',\n",
       "      'id': 'CO36067',\n",
       "      'name': 'Onondaga',\n",
       "      'type': 'CO'},\n",
       "     {'geo_center_latitude': '42.8563580000',\n",
       "      'geo_center_longitude': '-77.3034970000',\n",
       "      'geo_key': 'CO36069',\n",
       "      'id': 'CO36069',\n",
       "      'name': 'Ontario',\n",
       "      'type': 'CO'},\n",
       "     {'geo_center_latitude': '41.4024100000',\n",
       "      'geo_center_longitude': '-74.3062520000',\n",
       "      'geo_key': 'CO36071',\n",
       "      'id': 'CO36071',\n",
       "      'name': 'Orange',\n",
       "      'type': 'CO'},\n",
       "     {'geo_center_latitude': '43.3399060000',\n",
       "      'geo_center_longitude': '-78.2070280000',\n",
       "      'geo_key': 'CO36073',\n",
       "      'id': 'CO36073',\n",
       "      'name': 'Orleans',\n",
       "      'type': 'CO'},\n",
       "     {'geo_center_latitude': '43.4614430000',\n",
       "      'geo_center_longitude': '-76.2092620000',\n",
       "      'geo_key': 'CO36075',\n",
       "      'id': 'CO36075',\n",
       "      'name': 'Oswego',\n",
       "      'type': 'CO'},\n",
       "     {'geo_center_latitude': '42.6297760000',\n",
       "      'geo_center_longitude': '-75.0288410000',\n",
       "      'geo_key': 'CO36077',\n",
       "      'id': 'CO36077',\n",
       "      'name': 'Otsego',\n",
       "      'type': 'CO'},\n",
       "     {'geo_center_latitude': '41.0366550000',\n",
       "      'geo_center_longitude': '-74.2994080000',\n",
       "      'geo_key': 'CO34031',\n",
       "      'id': 'CO34031',\n",
       "      'name': 'Passaic',\n",
       "      'type': 'CO'},\n",
       "     {'geo_center_latitude': '41.3259490000',\n",
       "      'geo_center_longitude': '-75.0315140000',\n",
       "      'geo_key': 'CO42103',\n",
       "      'id': 'CO42103',\n",
       "      'name': 'Pike',\n",
       "      'type': 'CO'},\n",
       "     {'geo_center_latitude': '41.7485870000',\n",
       "      'geo_center_longitude': '-77.8944360000',\n",
       "      'geo_key': 'CO42105',\n",
       "      'id': 'CO42105',\n",
       "      'name': 'Potter',\n",
       "      'type': 'CO'},\n",
       "     {'geo_center_latitude': '41.4279070000',\n",
       "      'geo_center_longitude': '-73.7438610000',\n",
       "      'geo_key': 'CO36079',\n",
       "      'id': 'CO36079',\n",
       "      'name': 'Putnam',\n",
       "      'type': 'CO'},\n",
       "     {'geo_center_latitude': '40.6546580000',\n",
       "      'geo_center_longitude': '-73.8412090000',\n",
       "      'geo_key': 'CO36081',\n",
       "      'id': 'CO36081',\n",
       "      'name': 'Queens',\n",
       "      'type': 'CO'},\n",
       "     {'geo_center_latitude': '42.7104210000',\n",
       "      'geo_center_longitude': '-73.5138450000',\n",
       "      'geo_key': 'CO36083',\n",
       "      'id': 'CO36083',\n",
       "      'name': 'Rensselaer',\n",
       "      'type': 'CO'},\n",
       "     {'geo_center_latitude': '40.5612630000',\n",
       "      'geo_center_longitude': '-74.1398990000',\n",
       "      'geo_key': 'CO36085',\n",
       "      'id': 'CO36085',\n",
       "      'name': 'Richmond',\n",
       "      'type': 'CO'},\n",
       "     {'geo_center_latitude': '41.1546280000',\n",
       "      'geo_center_longitude': '-74.0246620000',\n",
       "      'geo_key': 'CO36087',\n",
       "      'id': 'CO36087',\n",
       "      'name': 'Rockland',\n",
       "      'type': 'CO'},\n",
       "     {'geo_center_latitude': '43.5808580000',\n",
       "      'geo_center_longitude': '-73.0382020000',\n",
       "      'geo_key': 'CO50021',\n",
       "      'id': 'CO50021',\n",
       "      'name': 'Rutland',\n",
       "      'type': 'CO'},\n",
       "     {'geo_center_latitude': '43.1061350000',\n",
       "      'geo_center_longitude': '-73.8553870000',\n",
       "      'geo_key': 'CO36091',\n",
       "      'id': 'CO36091',\n",
       "      'name': 'Saratoga',\n",
       "      'type': 'CO'},\n",
       "     {'geo_center_latitude': '42.8175520000',\n",
       "      'geo_center_longitude': '-74.0435590000',\n",
       "      'geo_key': 'CO36093',\n",
       "      'id': 'CO36093',\n",
       "      'name': 'Schenectady',\n",
       "      'type': 'CO'},\n",
       "     {'geo_center_latitude': '42.5912940000',\n",
       "      'geo_center_longitude': '-74.4381720000',\n",
       "      'geo_key': 'CO36095',\n",
       "      'id': 'CO36095',\n",
       "      'name': 'Schoharie',\n",
       "      'type': 'CO'},\n",
       "     {'geo_center_latitude': '42.4197760000',\n",
       "      'geo_center_longitude': '-76.9386030000',\n",
       "      'geo_key': 'CO36097',\n",
       "      'id': 'CO36097',\n",
       "      'name': 'Schuyler',\n",
       "      'type': 'CO'},\n",
       "     {'geo_center_latitude': '42.7822940000',\n",
       "      'geo_center_longitude': '-76.8270880000',\n",
       "      'geo_key': 'CO36099',\n",
       "      'id': 'CO36099',\n",
       "      'name': 'Seneca',\n",
       "      'type': 'CO'},\n",
       "     {'geo_center_latitude': '44.4881130000',\n",
       "      'geo_center_longitude': '-75.0743110000',\n",
       "      'geo_key': 'CO36089',\n",
       "      'id': 'CO36089',\n",
       "      'name': 'St. Lawrence',\n",
       "      'type': 'CO'},\n",
       "     {'geo_center_latitude': '42.2667250000',\n",
       "      'geo_center_longitude': '-77.3855250000',\n",
       "      'geo_key': 'CO36101',\n",
       "      'id': 'CO36101',\n",
       "      'name': 'Steuben',\n",
       "      'type': 'CO'},\n",
       "     {'geo_center_latitude': '40.9435540000',\n",
       "      'geo_center_longitude': '-72.6922180000',\n",
       "      'geo_key': 'CO36103',\n",
       "      'id': 'CO36103',\n",
       "      'name': 'Suffolk',\n",
       "      'type': 'CO'},\n",
       "     {'geo_center_latitude': '41.7199930000',\n",
       "      'geo_center_longitude': '-74.7715770000',\n",
       "      'geo_key': 'CO36105',\n",
       "      'id': 'CO36105',\n",
       "      'name': 'Sullivan',\n",
       "      'type': 'CO'},\n",
       "     {'geo_center_latitude': '41.8196650000',\n",
       "      'geo_center_longitude': '-75.8009690000',\n",
       "      'geo_key': 'CO42115',\n",
       "      'id': 'CO42115',\n",
       "      'name': 'Susquehanna',\n",
       "      'type': 'CO'},\n",
       "     {'geo_center_latitude': '41.1374610000',\n",
       "      'geo_center_longitude': '-74.6919140000',\n",
       "      'geo_key': 'CO34037',\n",
       "      'id': 'CO34037',\n",
       "      'name': 'Sussex',\n",
       "      'type': 'CO'},\n",
       "     {'geo_center_latitude': '42.1780560000',\n",
       "      'geo_center_longitude': '-76.2974560000',\n",
       "      'geo_key': 'CO36107',\n",
       "      'id': 'CO36107',\n",
       "      'name': 'Tioga',\n",
       "      'type': 'CO'},\n",
       "     {'geo_center_latitude': '41.7668590000',\n",
       "      'geo_center_longitude': '-77.2572880000',\n",
       "      'geo_key': 'CO42117',\n",
       "      'id': 'CO42117',\n",
       "      'name': 'Tioga',\n",
       "      'type': 'CO'},\n",
       "     {'geo_center_latitude': '42.4530060000',\n",
       "      'geo_center_longitude': '-76.4734840000',\n",
       "      'geo_key': 'CO36109',\n",
       "      'id': 'CO36109',\n",
       "      'name': 'Tompkins',\n",
       "      'type': 'CO'},\n",
       "     {'geo_center_latitude': '41.9472120000',\n",
       "      'geo_center_longitude': '-74.2654580000',\n",
       "      'geo_key': 'CO36111',\n",
       "      'id': 'CO36111',\n",
       "      'name': 'Ulster',\n",
       "      'type': 'CO'},\n",
       "     {'geo_center_latitude': '40.6598710000',\n",
       "      'geo_center_longitude': '-74.3086960000',\n",
       "      'geo_key': 'CO34039',\n",
       "      'id': 'CO34039',\n",
       "      'name': 'Union',\n",
       "      'type': 'CO'},\n",
       "     {'geo_center_latitude': '43.5551050000',\n",
       "      'geo_center_longitude': '-73.8381390000',\n",
       "      'geo_key': 'CO36113',\n",
       "      'id': 'CO36113',\n",
       "      'name': 'Warren',\n",
       "      'type': 'CO'},\n",
       "     {'geo_center_latitude': '41.8342980000',\n",
       "      'geo_center_longitude': '-79.2981820000',\n",
       "      'geo_key': 'CO42123',\n",
       "      'id': 'CO42123',\n",
       "      'name': 'Warren',\n",
       "      'type': 'CO'},\n",
       "     {'geo_center_latitude': '43.3123770000',\n",
       "      'geo_center_longitude': '-73.4394280000',\n",
       "      'geo_key': 'CO36115',\n",
       "      'id': 'CO36115',\n",
       "      'name': 'Washington',\n",
       "      'type': 'CO'},\n",
       "     {'geo_center_latitude': '41.3967920000',\n",
       "      'geo_center_longitude': '-71.6202820000',\n",
       "      'geo_key': 'CO44009',\n",
       "      'id': 'CO44009',\n",
       "      'name': 'Washington',\n",
       "      'type': 'CO'},\n",
       "     {'geo_center_latitude': '43.2181140000',\n",
       "      'geo_center_longitude': '-77.0494020000',\n",
       "      'geo_key': 'CO36117',\n",
       "      'id': 'CO36117',\n",
       "      'name': 'Wayne',\n",
       "      'type': 'CO'},\n",
       "     {'geo_center_latitude': '41.6466020000',\n",
       "      'geo_center_longitude': '-75.2924930000',\n",
       "      'geo_key': 'CO42127',\n",
       "      'id': 'CO42127',\n",
       "      'name': 'Wayne',\n",
       "      'type': 'CO'},\n",
       "     {'geo_center_latitude': '41.1526860000',\n",
       "      'geo_center_longitude': '-73.7457530000',\n",
       "      'geo_key': 'CO36119',\n",
       "      'id': 'CO36119',\n",
       "      'name': 'Westchester',\n",
       "      'type': 'CO'},\n",
       "     {'geo_center_latitude': '42.7013630000',\n",
       "      'geo_center_longitude': '-78.2285670000',\n",
       "      'geo_key': 'CO36121',\n",
       "      'id': 'CO36121',\n",
       "      'name': 'Wyoming',\n",
       "      'type': 'CO'},\n",
       "     {'geo_center_latitude': '42.6382370000',\n",
       "      'geo_center_longitude': '-77.1043240000',\n",
       "      'geo_key': 'CO36123',\n",
       "      'id': 'CO36123',\n",
       "      'name': 'Yates',\n",
       "      'type': 'CO'}],\n",
       "    'name': 'Lookup',\n",
       "    'notice': '',\n",
       "    'resource': 'County',\n",
       "    'service': 'Area',\n",
       "    'version': '2.0'},\n",
       "   'xml_record': '90'},\n",
       "  'status': {'code': '0',\n",
       "   'long_description': 'Your request was successfully processed.',\n",
       "   'short_description': 'Success'},\n",
       "  'xmlns': 'https://api.gateway.attomdata.com/areaapi/v2.0.0'}}"
      ]
     },
     "metadata": {},
     "execution_count": 4
    }
   ],
   "source": [
    "\n",
    "baseurl = 'https://api.gateway.attomdata.com/areaapi/v2.0.0/county/lookup'\n",
    "queryparams = {'StateId':'ST36'} # ST06 = Cali , ST36 = NY , ST34 = NJ\n",
    "headers = {'apikey': '2b1e86b638620bf2404521e6e9e1b19e', 'accept': 'application/JSON'}\n",
    "\n",
    "\n",
    "response = requests.get(baseurl, params = queryparams,headers=headers)\n",
    "pydata = response.json()\n",
    "pydata"
   ]
  },
  {
   "cell_type": "code",
   "execution_count": 5,
   "metadata": {},
   "outputs": [],
   "source": [
    "# parsing the results to reach inner nest\n",
    "pydata = pydata['response']['result']['package']['item']"
   ]
  },
  {
   "cell_type": "code",
   "execution_count": 128,
   "metadata": {},
   "outputs": [
    {
     "output_type": "execute_result",
     "data": {
      "text/plain": [
       "   geo_center_latitude geo_center_longitude  geo_key       id         name  \\\n",
       "0        44.0312480000       -73.1415810000  CO50001  CO50001      Addison   \n",
       "1        42.5882400000       -73.9740090000  CO36001  CO36001       Albany   \n",
       "2        42.2478530000       -78.0261530000  CO36003  CO36003     Allegany   \n",
       "3        43.0353250000       -73.1114600000  CO50003  CO50003   Bennington   \n",
       "4        40.9596990000       -74.0747270000  CO34003  CO34003       Bergen   \n",
       "..                 ...                  ...      ...      ...          ...   \n",
       "85       43.2181140000       -77.0494020000  CO36117  CO36117        Wayne   \n",
       "86       41.6466020000       -75.2924930000  CO42127  CO42127        Wayne   \n",
       "87       41.1526860000       -73.7457530000  CO36119  CO36119  Westchester   \n",
       "88       42.7013630000       -78.2285670000  CO36121  CO36121      Wyoming   \n",
       "89       42.6382370000       -77.1043240000  CO36123  CO36123        Yates   \n",
       "\n",
       "   type  \n",
       "0    CO  \n",
       "1    CO  \n",
       "2    CO  \n",
       "3    CO  \n",
       "4    CO  \n",
       "..  ...  \n",
       "85   CO  \n",
       "86   CO  \n",
       "87   CO  \n",
       "88   CO  \n",
       "89   CO  \n",
       "\n",
       "[90 rows x 6 columns]"
      ],
      "text/html": "<div>\n<style scoped>\n    .dataframe tbody tr th:only-of-type {\n        vertical-align: middle;\n    }\n\n    .dataframe tbody tr th {\n        vertical-align: top;\n    }\n\n    .dataframe thead th {\n        text-align: right;\n    }\n</style>\n<table border=\"1\" class=\"dataframe\">\n  <thead>\n    <tr style=\"text-align: right;\">\n      <th></th>\n      <th>geo_center_latitude</th>\n      <th>geo_center_longitude</th>\n      <th>geo_key</th>\n      <th>id</th>\n      <th>name</th>\n      <th>type</th>\n    </tr>\n  </thead>\n  <tbody>\n    <tr>\n      <th>0</th>\n      <td>44.0312480000</td>\n      <td>-73.1415810000</td>\n      <td>CO50001</td>\n      <td>CO50001</td>\n      <td>Addison</td>\n      <td>CO</td>\n    </tr>\n    <tr>\n      <th>1</th>\n      <td>42.5882400000</td>\n      <td>-73.9740090000</td>\n      <td>CO36001</td>\n      <td>CO36001</td>\n      <td>Albany</td>\n      <td>CO</td>\n    </tr>\n    <tr>\n      <th>2</th>\n      <td>42.2478530000</td>\n      <td>-78.0261530000</td>\n      <td>CO36003</td>\n      <td>CO36003</td>\n      <td>Allegany</td>\n      <td>CO</td>\n    </tr>\n    <tr>\n      <th>3</th>\n      <td>43.0353250000</td>\n      <td>-73.1114600000</td>\n      <td>CO50003</td>\n      <td>CO50003</td>\n      <td>Bennington</td>\n      <td>CO</td>\n    </tr>\n    <tr>\n      <th>4</th>\n      <td>40.9596990000</td>\n      <td>-74.0747270000</td>\n      <td>CO34003</td>\n      <td>CO34003</td>\n      <td>Bergen</td>\n      <td>CO</td>\n    </tr>\n    <tr>\n      <th>...</th>\n      <td>...</td>\n      <td>...</td>\n      <td>...</td>\n      <td>...</td>\n      <td>...</td>\n      <td>...</td>\n    </tr>\n    <tr>\n      <th>85</th>\n      <td>43.2181140000</td>\n      <td>-77.0494020000</td>\n      <td>CO36117</td>\n      <td>CO36117</td>\n      <td>Wayne</td>\n      <td>CO</td>\n    </tr>\n    <tr>\n      <th>86</th>\n      <td>41.6466020000</td>\n      <td>-75.2924930000</td>\n      <td>CO42127</td>\n      <td>CO42127</td>\n      <td>Wayne</td>\n      <td>CO</td>\n    </tr>\n    <tr>\n      <th>87</th>\n      <td>41.1526860000</td>\n      <td>-73.7457530000</td>\n      <td>CO36119</td>\n      <td>CO36119</td>\n      <td>Westchester</td>\n      <td>CO</td>\n    </tr>\n    <tr>\n      <th>88</th>\n      <td>42.7013630000</td>\n      <td>-78.2285670000</td>\n      <td>CO36121</td>\n      <td>CO36121</td>\n      <td>Wyoming</td>\n      <td>CO</td>\n    </tr>\n    <tr>\n      <th>89</th>\n      <td>42.6382370000</td>\n      <td>-77.1043240000</td>\n      <td>CO36123</td>\n      <td>CO36123</td>\n      <td>Yates</td>\n      <td>CO</td>\n    </tr>\n  </tbody>\n</table>\n<p>90 rows × 6 columns</p>\n</div>"
     },
     "metadata": {},
     "execution_count": 128
    }
   ],
   "source": [
    "# Create a NY_counties file with all long and lat\n",
    "# Read in NY_counties to DataFrame\n",
    "with open('ny_counties.txt', 'w') as outfile:\n",
    "    json.dump(pydata, outfile)"
   ]
  },
  {
   "cell_type": "code",
   "execution_count": 9,
   "metadata": {},
   "outputs": [
    {
     "output_type": "execute_result",
     "data": {
      "text/plain": [
       "   geo_center_latitude geo_center_longitude  geo_key       id         name  \\\n",
       "0        44.0312480000       -73.1415810000  CO50001  CO50001      Addison   \n",
       "1        42.5882400000       -73.9740090000  CO36001  CO36001       Albany   \n",
       "2        42.2478530000       -78.0261530000  CO36003  CO36003     Allegany   \n",
       "3        43.0353250000       -73.1114600000  CO50003  CO50003   Bennington   \n",
       "4        40.9596990000       -74.0747270000  CO34003  CO34003       Bergen   \n",
       "..                 ...                  ...      ...      ...          ...   \n",
       "85       43.2181140000       -77.0494020000  CO36117  CO36117        Wayne   \n",
       "86       41.6466020000       -75.2924930000  CO42127  CO42127        Wayne   \n",
       "87       41.1526860000       -73.7457530000  CO36119  CO36119  Westchester   \n",
       "88       42.7013630000       -78.2285670000  CO36121  CO36121      Wyoming   \n",
       "89       42.6382370000       -77.1043240000  CO36123  CO36123        Yates   \n",
       "\n",
       "   type  \n",
       "0    CO  \n",
       "1    CO  \n",
       "2    CO  \n",
       "3    CO  \n",
       "4    CO  \n",
       "..  ...  \n",
       "85   CO  \n",
       "86   CO  \n",
       "87   CO  \n",
       "88   CO  \n",
       "89   CO  \n",
       "\n",
       "[90 rows x 6 columns]"
      ],
      "text/html": "<div>\n<style scoped>\n    .dataframe tbody tr th:only-of-type {\n        vertical-align: middle;\n    }\n\n    .dataframe tbody tr th {\n        vertical-align: top;\n    }\n\n    .dataframe thead th {\n        text-align: right;\n    }\n</style>\n<table border=\"1\" class=\"dataframe\">\n  <thead>\n    <tr style=\"text-align: right;\">\n      <th></th>\n      <th>geo_center_latitude</th>\n      <th>geo_center_longitude</th>\n      <th>geo_key</th>\n      <th>id</th>\n      <th>name</th>\n      <th>type</th>\n    </tr>\n  </thead>\n  <tbody>\n    <tr>\n      <th>0</th>\n      <td>44.0312480000</td>\n      <td>-73.1415810000</td>\n      <td>CO50001</td>\n      <td>CO50001</td>\n      <td>Addison</td>\n      <td>CO</td>\n    </tr>\n    <tr>\n      <th>1</th>\n      <td>42.5882400000</td>\n      <td>-73.9740090000</td>\n      <td>CO36001</td>\n      <td>CO36001</td>\n      <td>Albany</td>\n      <td>CO</td>\n    </tr>\n    <tr>\n      <th>2</th>\n      <td>42.2478530000</td>\n      <td>-78.0261530000</td>\n      <td>CO36003</td>\n      <td>CO36003</td>\n      <td>Allegany</td>\n      <td>CO</td>\n    </tr>\n    <tr>\n      <th>3</th>\n      <td>43.0353250000</td>\n      <td>-73.1114600000</td>\n      <td>CO50003</td>\n      <td>CO50003</td>\n      <td>Bennington</td>\n      <td>CO</td>\n    </tr>\n    <tr>\n      <th>4</th>\n      <td>40.9596990000</td>\n      <td>-74.0747270000</td>\n      <td>CO34003</td>\n      <td>CO34003</td>\n      <td>Bergen</td>\n      <td>CO</td>\n    </tr>\n    <tr>\n      <th>...</th>\n      <td>...</td>\n      <td>...</td>\n      <td>...</td>\n      <td>...</td>\n      <td>...</td>\n      <td>...</td>\n    </tr>\n    <tr>\n      <th>85</th>\n      <td>43.2181140000</td>\n      <td>-77.0494020000</td>\n      <td>CO36117</td>\n      <td>CO36117</td>\n      <td>Wayne</td>\n      <td>CO</td>\n    </tr>\n    <tr>\n      <th>86</th>\n      <td>41.6466020000</td>\n      <td>-75.2924930000</td>\n      <td>CO42127</td>\n      <td>CO42127</td>\n      <td>Wayne</td>\n      <td>CO</td>\n    </tr>\n    <tr>\n      <th>87</th>\n      <td>41.1526860000</td>\n      <td>-73.7457530000</td>\n      <td>CO36119</td>\n      <td>CO36119</td>\n      <td>Westchester</td>\n      <td>CO</td>\n    </tr>\n    <tr>\n      <th>88</th>\n      <td>42.7013630000</td>\n      <td>-78.2285670000</td>\n      <td>CO36121</td>\n      <td>CO36121</td>\n      <td>Wyoming</td>\n      <td>CO</td>\n    </tr>\n    <tr>\n      <th>89</th>\n      <td>42.6382370000</td>\n      <td>-77.1043240000</td>\n      <td>CO36123</td>\n      <td>CO36123</td>\n      <td>Yates</td>\n      <td>CO</td>\n    </tr>\n  </tbody>\n</table>\n<p>90 rows × 6 columns</p>\n</div>"
     },
     "metadata": {},
     "execution_count": 9
    }
   ],
   "source": [
    "# Read in counties file\n",
    "with open('datasets/NY_data/process_files/ny_counties.txt') as project_file:    \n",
    "    ny_counties_data = json.load(project_file)  \n",
    "\n",
    "df_counties = pd.json_normalize(ny_counties_data)\n",
    "df_counties  "
   ]
  },
  {
   "cell_type": "code",
   "execution_count": 10,
   "metadata": {},
   "outputs": [
    {
     "output_type": "execute_result",
     "data": {
      "text/plain": [
       "['CO50001',\n",
       " 'CO36001',\n",
       " 'CO36003',\n",
       " 'CO50003',\n",
       " 'CO34003',\n",
       " 'CO25003',\n",
       " 'CO42015',\n",
       " 'CO36005',\n",
       " 'CO36007',\n",
       " 'CO36009']"
      ]
     },
     "metadata": {},
     "execution_count": 10
    }
   ],
   "source": [
    "# extract geoIDs for counties and put them in a list\n",
    "county_geoids = list(df_counties['id'])\n",
    "# show first 10 county geoIDs out of 90\n",
    "county_geoids[:10]"
   ]
  },
  {
   "cell_type": "code",
   "execution_count": 11,
   "metadata": {},
   "outputs": [
    {
     "output_type": "execute_result",
     "data": {
      "text/plain": [
       "Erie          2\n",
       "Warren        2\n",
       "Middlesex     2\n",
       "Tioga         2\n",
       "Wayne         2\n",
       "Washington    2\n",
       "Name: name, dtype: int64"
      ]
     },
     "metadata": {},
     "execution_count": 11
    }
   ],
   "source": [
    "# There are counties with duplicate names\n",
    "ny_county_count = df_counties.name.value_counts()\n",
    "ny_county_count[ny_county_count>1]"
   ]
  },
  {
   "cell_type": "code",
   "execution_count": 12,
   "metadata": {},
   "outputs": [],
   "source": [
    "# Let's rename these for downstream activities\n",
    "duplicates = dict(ny_county_count[ny_county_count>1])\n",
    "for ck in duplicates.keys():\n",
    "    n = 0\n",
    "    for index, row in df_counties[df_counties.name == ck].iterrows():\n",
    "        n += 1\n",
    "        df_counties.iloc[index]['name'] = f\"{ck}_{n}\""
   ]
  },
  {
   "cell_type": "code",
   "execution_count": 13,
   "metadata": {},
   "outputs": [
    {
     "output_type": "stream",
     "name": "stdout",
     "text": [
      "Erie_1\nErie_2\nWarren_1\nWarren_2\nMiddlesex_1\nMiddlesex_2\nTioga_1\nTioga_2\nWayne_1\nWayne_2\nWashington_1\nWashington_2\n"
     ]
    }
   ],
   "source": [
    "# checking the new names\n",
    "for ck in duplicates.keys():\n",
    "    for index, row in df_counties[df_counties.name.str.contains(ck)].iterrows():\n",
    "        print(df_counties.iloc[index]['name'])\n"
   ]
  },
  {
   "cell_type": "code",
   "execution_count": 14,
   "metadata": {},
   "outputs": [],
   "source": [
    "# Create a dictionary of NY counties\n",
    "ny_county_dict = dict()\n",
    "for index, row in df_counties.iterrows():\n",
    "    ny_county_dict[df_counties.iloc[index]['id']] = df_counties.iloc[index]['name']\n",
    "\n",
    "# Store the counties dictionary\n",
    "import pickle\n",
    "with open('ny_county_dict.txt', 'wb') as fp:\n",
    "    pickle.dump(ny_county_dict, fp)\n",
    "\n",
    "\n",
    "# Uncomment below to read this file back in\n",
    "# with open('ny_county_dict.txt') as project_file:    \n",
    "# ny_county_dict = json.load(project_file) \n"
   ]
  },
  {
   "cell_type": "code",
   "execution_count": 15,
   "metadata": {},
   "outputs": [],
   "source": [
    "# Extract big counties to isolate in case of time out \n",
    "big_county_list = ['New York', 'Kings','Bronx','Richmond','Queens']\n",
    "small_county_df = df_counties[~df_counties.name.isin(big_county_list)]\n",
    "big_county_df = df_counties[df_counties.name.isin(big_county_list)]"
   ]
  },
  {
   "cell_type": "markdown",
   "metadata": {},
   "source": [
    "## There are 90 counties in NYC each with an ID or geoid"
   ]
  },
  {
   "cell_type": "code",
   "execution_count": 16,
   "metadata": {},
   "outputs": [],
   "source": [
    "# For each county, we'll make 1 API call and generated 1 text file containing sales data  \n",
    "# county_geoids is the LIST of all 74 counties in California\n",
    "\n",
    "# following function pulls all sales data between 200k and 5 million dollars from start of covid\n",
    "# function takes as input the geoID of the county \n",
    "# function outputs a generated text file containing JSON of all SALES transactions between $0.5M and $5M in that county\n",
    "# function has defaults of from date of 1st Jan 2019 upto 1st Apr 2021. These can be changed as desired.\n",
    "# i've set pagesize to 50,000 records for each county.\n",
    "\n",
    "def salesdata_scraper_bycounty(county_geoid,from_date ='2019-01-01', to_date ='2021-04-01'): \n",
    "    baseurl = 'https://api.gateway.attomdata.com/propertyapi/v1.0.0/sale/snapshot'\n",
    "    queryparams = {'geoid':county_geoid, \n",
    "               'minsaleamt'200000,: 50000000,\n",
    "               'maxsaleamt': 50 \n",
    "              'startsalesearchdate':from_date,\n",
    "               'endsalesearchdate': to_date,\n",
    "                'pagesize' :50000}        \n",
    "    headers = {'apikey': '1aca7ca361664d5b70c603ebd9daa6c7', 'accept': 'application/JSON'} #c24d144ee2dbd747f25e44384132f9b3\n",
    "    response = requests.get(baseurl, params = queryparams,headers=headers)\n",
    "    pydata = response.json()         # converting response object to python list of dictionaries\n",
    "    if pydata['status']['total'] > 0:   # this condition is to avoid writing empty files in case of zero transactions in a county\n",
    "        pydata = pydata['property']   # this is to reach inner nested part where our results lie\n",
    "        with open(county_geoid, 'w') as outfile:   # The name of each file will be CO06001, CO06003, etc.74 files created            \n",
    "            json.dump(pydata, outfile) \n",
    "    "
   ]
  },
  {
   "cell_type": "markdown",
   "metadata": {},
   "source": [
    "## Cannot iterate all 90 counties in 1 for loop. API request times out/doesn't return status header. Its blank. Had to do in batches for loop as below."
   ]
  },
  {
   "cell_type": "code",
   "execution_count": 17,
   "metadata": {},
   "outputs": [
    {
     "output_type": "stream",
     "name": "stdout",
     "text": [
      "done\n"
     ]
    }
   ],
   "source": [
    "# NY Large counties first\n",
    "for county_geoid in big_county_df.id:   \n",
    "    salesdata_scraper_bycounty(county_geoid)\n",
    "print('done')"
   ]
  },
  {
   "cell_type": "code",
   "execution_count": 18,
   "metadata": {},
   "outputs": [
    {
     "output_type": "stream",
     "name": "stdout",
     "text": [
      "done\n"
     ]
    }
   ],
   "source": [
    "for county_geoid in small_county_df.id[:10]:\n",
    "    salesdata_scraper_bycounty(county_geoid)\n",
    "print('done')"
   ]
  },
  {
   "cell_type": "code",
   "execution_count": 19,
   "metadata": {},
   "outputs": [
    {
     "output_type": "stream",
     "name": "stdout",
     "text": [
      "done\n"
     ]
    }
   ],
   "source": [
    "for county_geoid in small_county_df.id[10:20]:\n",
    "    salesdata_scraper_bycounty(county_geoid)\n",
    "print('done')"
   ]
  },
  {
   "cell_type": "code",
   "execution_count": 20,
   "metadata": {},
   "outputs": [
    {
     "output_type": "stream",
     "name": "stdout",
     "text": [
      "done\n"
     ]
    }
   ],
   "source": [
    "for county_geoid in small_county_df.id[20:30]:\n",
    "    salesdata_scraper_bycounty(county_geoid)\n",
    "print('done')"
   ]
  },
  {
   "cell_type": "code",
   "execution_count": 21,
   "metadata": {},
   "outputs": [
    {
     "output_type": "stream",
     "name": "stdout",
     "text": [
      "done\n"
     ]
    }
   ],
   "source": [
    "for county_geoid in small_county_df.id[30:40]:\n",
    "    salesdata_scraper_bycounty(county_geoid)\n",
    "print('done')"
   ]
  },
  {
   "cell_type": "code",
   "execution_count": 22,
   "metadata": {},
   "outputs": [
    {
     "output_type": "stream",
     "name": "stdout",
     "text": [
      "done\n"
     ]
    }
   ],
   "source": [
    "for county_geoid in small_county_df.id[40:50]:\n",
    "    salesdata_scraper_bycounty(county_geoid)\n",
    "print('done')"
   ]
  },
  {
   "cell_type": "code",
   "execution_count": 23,
   "metadata": {},
   "outputs": [
    {
     "output_type": "stream",
     "name": "stdout",
     "text": [
      "done\n"
     ]
    }
   ],
   "source": [
    "for county_geoid in small_county_df.id[50:60]:\n",
    "    salesdata_scraper_bycounty(county_geoid)\n",
    "print('done')"
   ]
  },
  {
   "cell_type": "code",
   "execution_count": 24,
   "metadata": {},
   "outputs": [
    {
     "output_type": "stream",
     "name": "stdout",
     "text": [
      "done\n"
     ]
    }
   ],
   "source": [
    "for county_geoid in small_county_df.id[60:70]:\n",
    "    salesdata_scraper_bycounty(county_geoid)\n",
    "print('done')"
   ]
  },
  {
   "cell_type": "code",
   "execution_count": 25,
   "metadata": {},
   "outputs": [
    {
     "output_type": "stream",
     "name": "stdout",
     "text": [
      "done\n"
     ]
    }
   ],
   "source": [
    "for county_geoid in small_county_df.id[70:80]:\n",
    "    salesdata_scraper_bycounty(county_geoid)\n",
    "print('done')"
   ]
  },
  {
   "cell_type": "code",
   "execution_count": 26,
   "metadata": {},
   "outputs": [
    {
     "output_type": "stream",
     "name": "stdout",
     "text": [
      "done\n"
     ]
    }
   ],
   "source": [
    "for county_geoid in small_county_df.id[80:85]:\n",
    "    salesdata_scraper_bycounty(county_geoid)\n",
    "print('done')"
   ]
  },
  {
   "cell_type": "markdown",
   "metadata": {},
   "source": [
    "## Following shows each of the ~90 files can be imported into a dictionary of dataframes for processing. There will be 1 dataframe for 1 geoid."
   ]
  },
  {
   "cell_type": "code",
   "execution_count": 27,
   "metadata": {},
   "outputs": [],
   "source": [
    "# loop files; create dict of df; county name as dict key\n",
    "import os\n",
    "files = os.listdir(\"datasets/NY_data/attom_county_sales\")\n",
    "files.remove('.DS_Store')\n",
    "ny_df_dict = {}\n",
    "for county_f in files:\n",
    "    with open('datasets/NY_data/attom_county_sales/'+county_f) as project_file:\n",
    "        data = json.load(project_file)\n",
    "        df = pd.json_normalize(data) \n",
    "        ny_df_dict[ny_county_dict[county_f]] = df"
   ]
  },
  {
   "cell_type": "code",
   "execution_count": 31,
   "metadata": {},
   "outputs": [
    {
     "output_type": "stream",
     "name": "stdout",
     "text": [
      "Everything checks out!\n"
     ]
    }
   ],
   "source": [
    "# Test\n",
    "if len(set(df_counties.name)) != len(set(ny_df_dict.keys())):\n",
    "    print('Not all counties here \\n'\\\n",
    "        f'{len(df_counties.name)} in county list, {len(ny_df_dict.keys())} in dataframe')\n",
    "    missing_county =[c for c in list(df_counties.name) if c not in ny_df_dict.keys()]\n",
    "    print(f'Missing counties are: {missing_county}')\n",
    "print('Everything checks out!')"
   ]
  },
  {
   "cell_type": "code",
   "execution_count": 238,
   "metadata": {},
   "outputs": [],
   "source": [
    "# df_counties[df_counties.name == 'Warren_2']['id'] # GEOID = CO42123\n",
    "# salesdata_scraper_bycounty(county_geoid='CO42123')\n",
    "# Running the above doesn't return any information"
   ]
  },
  {
   "source": [
    "# Import & Clean Columns"
   ],
   "cell_type": "markdown",
   "metadata": {}
  },
  {
   "cell_type": "code",
   "execution_count": 32,
   "metadata": {},
   "outputs": [
    {
     "output_type": "stream",
     "name": "stdout",
     "text": [
      "done\n"
     ]
    }
   ],
   "source": [
    "# Export\n",
    "with open(\"NY_dict_df.pkl\",\"wb\") as ny_dump:\n",
    "    pickle.dump(ny_df_dict,ny_dump)\n",
    "    print('done')"
   ]
  },
  {
   "cell_type": "code",
   "execution_count": 3,
   "metadata": {},
   "outputs": [
    {
     "output_type": "stream",
     "name": "stdout",
     "text": [
      "done\n"
     ]
    }
   ],
   "source": [
    "# Read pickle file back in\n",
    "ny_dict_df = pd.read_pickle(\"datasets/NY_data/final_data_frame/NY_dict_df.pkl\")\n",
    "print('done')"
   ]
  },
  {
   "cell_type": "code",
   "execution_count": 40,
   "metadata": {},
   "outputs": [],
   "source": [
    "# Create dictionary for renaming\n",
    "col_dict = {'sale.saleTransDate':'transaction_date','address.postal1':'zipcode','sale.amount.saleamt':'sale_price','lot.lotSize1':'lot_size','building.size.universalsize':'size','location.latitude':'latitude','location.longitude':'longitude','summary.propsubtype':'sub_type','summary.proptype':'type','summary.yearbuilt':'year_built','building.rooms.bathstotal':'bathrooms','building.rooms.beds':'bedrooms'}\n",
    "# Create list for anti filter drop\n",
    "col_drop_list = [ col for col in ny_dict_df['Albany'].columns if col not in col_dict.keys()]"
   ]
  },
  {
   "cell_type": "code",
   "execution_count": 48,
   "metadata": {},
   "outputs": [],
   "source": [
    "for data in ny_dict_df.keys():\n",
    "    ny_dict_df[data].rename(columns = col_dict, inplace=True)\n",
    "    ny_dict_df[data].drop(col_drop_list, inplace=True, axis=1, errors='ignore')"
   ]
  },
  {
   "cell_type": "code",
   "execution_count": 49,
   "metadata": {},
   "outputs": [
    {
     "output_type": "execute_result",
     "data": {
      "text/plain": [
       "Index(['lot_size', 'zipcode', 'latitude', 'longitude', 'sub_type', 'type',\n",
       "       'year_built', 'size', 'bathrooms', 'bedrooms', 'transaction_date',\n",
       "       'sale_price'],\n",
       "      dtype='object')"
      ]
     },
     "metadata": {},
     "execution_count": 49
    }
   ],
   "source": [
    "# Let's check our work\n",
    "ny_dict_df['Albany'].columns"
   ]
  },
  {
   "source": [
    "# Cleaned\n",
    "## let's export the cleaned version"
   ],
   "cell_type": "markdown",
   "metadata": {}
  },
  {
   "cell_type": "code",
   "execution_count": 52,
   "metadata": {},
   "outputs": [
    {
     "output_type": "stream",
     "name": "stdout",
     "text": [
      "done\n"
     ]
    }
   ],
   "source": [
    "# export cleaned dictionary of dataframe\n",
    "with open(\"NY_dict_df_col_cleaned.pkl\",\"wb\") as ny_dump:\n",
    "    pickle.dump(ny_dict_df,ny_dump)\n",
    "    print('done')"
   ]
  },
  {
   "cell_type": "code",
   "execution_count": 8,
   "metadata": {},
   "outputs": [
    {
     "output_type": "stream",
     "name": "stdout",
     "text": [
      "Total length is 274694\n"
     ]
    }
   ],
   "source": [
    "total_size = 0\n",
    "for bc in ny_dict_df.keys():\n",
    "    total_size += ny_dict_df[bc].shape[0]\n",
    "print(f'Total length is {total_size}')"
   ]
  },
  {
   "cell_type": "code",
   "execution_count": 55,
   "metadata": {},
   "outputs": [],
   "source": [
    "import datetime"
   ]
  },
  {
   "cell_type": "code",
   "execution_count": 66,
   "metadata": {},
   "outputs": [
    {
     "output_type": "stream",
     "name": "stdout",
     "text": [
      "Bergen shape: (9998, 12), first sale: 2019-01-01 00:00:00, last sale: 2021-03-16 00:00:00\n",
      "Suffolk shape: (9981, 12), first sale: 2019-01-02 00:00:00, last sale: 2021-03-03 00:00:00\n",
      "Kings shape: (9986, 12), first sale: 2019-01-02 00:00:00, last sale: 2021-03-31 00:00:00\n",
      "New Haven shape: (9998, 12), first sale: 2019-01-02 00:00:00, last sale: 2021-04-01 00:00:00\n",
      "Fairfield shape: (9999, 12), first sale: 2019-01-02 00:00:00, last sale: 2021-04-01 00:00:00\n",
      "Westchester shape: (9995, 12), first sale: 2019-01-01 00:00:00, last sale: 2021-03-29 00:00:00\n",
      "Hudson shape: (9998, 12), first sale: 2019-01-01 00:00:00, last sale: 2021-02-22 00:00:00\n",
      "Union shape: (9999, 12), first sale: 2019-01-02 00:00:00, last sale: 2021-03-31 00:00:00\n",
      "Queens shape: (9994, 12), first sale: 2019-01-02 00:00:00, last sale: 2021-04-01 00:00:00\n",
      "Erie_1 shape: (9997, 12), first sale: 2019-01-02 00:00:00, last sale: 2021-03-19 00:00:00\n",
      "Nassau shape: (9980, 12), first sale: 2019-01-02 00:00:00, last sale: 2021-03-08 00:00:00\n",
      "New York shape: (9996, 12), first sale: 2019-01-02 00:00:00, last sale: 2021-04-01 00:00:00\n",
      "Middlesex_2 shape: (9997, 12), first sale: 2019-01-01 00:00:00, last sale: 2021-03-29 00:00:00\n",
      "Monmouth shape: (9997, 12), first sale: 2019-01-02 00:00:00, last sale: 2021-03-05 00:00:00\n"
     ]
    }
   ],
   "source": [
    "# Let's spot check\n",
    "for bc in ny_dict_df.keys():\n",
    "    # convert sale date column to datetime\n",
    "    ny_dict_df[bc]['transaction_date'] = pd.to_datetime(ny_dict_df[bc]['transaction_date'])\n",
    "\n",
    "    # Look for large volumne transaction trends to make sure we didn't run into  api limits\n",
    "    if ny_dict_df[bc].shape[0] >9000:\n",
    "        print(\n",
    "            f\"{bc} shape: {ny_dict_df[bc].shape}\"\\\n",
    "            f\", first sale: {ny_dict_df[bc]['transaction_date'].min()}\"\\\n",
    "            f\", last sale: {ny_dict_df[bc]['transaction_date'].max()}\"\n",
    "        )"
   ]
  },
  {
   "cell_type": "code",
   "execution_count": 1,
   "metadata": {},
   "outputs": [],
   "source": [
    "# There appears to be a 10k limit for a call. We will need to subdivide for these counties.\n",
    "# Create a list to divide these up by quarters\n",
    "county_subdividing = ['Bergen','Suffolk','Kings','New Haven','Fairfield','Westchester','Hudson','Union','Queens','Erie_1','Nassau','New York','Middlesex_2','Monmouth']"
   ]
  },
  {
   "cell_type": "code",
   "execution_count": 24,
   "metadata": {},
   "outputs": [
    {
     "output_type": "execute_result",
     "data": {
      "text/plain": [
       "14"
      ]
     },
     "metadata": {},
     "execution_count": 24
    }
   ],
   "source": [
    "len(county_subdividing)"
   ]
  },
  {
   "source": [
    "# Recalling API to navigate the discovered 10k reponse limit"
   ],
   "cell_type": "markdown",
   "metadata": {}
  },
  {
   "cell_type": "code",
   "execution_count": 68,
   "metadata": {},
   "outputs": [],
   "source": [
    "import pickle\n",
    "import pandas as pd\n",
    "import requests\n",
    "import json\n",
    "import os\n"
   ]
  },
  {
   "cell_type": "code",
   "execution_count": 25,
   "metadata": {},
   "outputs": [],
   "source": [
    "# Read back in county list\n",
    "\n",
    "# Read in counties file\n",
    "with open('datasets/NY_data/process_files/ny_counties.txt') as project_file:    \n",
    "    ny_counties_data = json.load(project_file)  \n",
    "\n",
    "df_counties = pd.json_normalize(ny_counties_data)\n",
    "\n",
    "# Create a dictionary of NY counties\n",
    "ny_county_dict = dict()\n",
    "for index, row in df_counties.iterrows():\n",
    "    ny_county_dict[df_counties.iloc[index]['id']] = df_counties.iloc[index]['name']\n",
    "\n",
    "# Again rename duplicates for downstream activities\n",
    "ny_county_count = df_counties.name.value_counts()\n",
    "duplicates = dict(ny_county_count[ny_county_count>1])\n",
    "for ck in duplicates.keys():\n",
    "    n = 0\n",
    "    for index, row in df_counties[df_counties.name == ck].iterrows():\n",
    "        n += 1\n",
    "        df_counties.iloc[index]['name'] = f\"{ck}_{n}\"\n",
    "\n",
    "# Create \n",
    "recall_df = df_counties[df_counties.name.isin(county_subdividing)]"
   ]
  },
  {
   "cell_type": "code",
   "execution_count": 27,
   "metadata": {},
   "outputs": [
    {
     "output_type": "execute_result",
     "data": {
      "text/plain": [
       "   geo_center_latitude geo_center_longitude  geo_key       id         name  \\\n",
       "4        40.9596990000       -74.0747270000  CO34003  CO34003       Bergen   \n",
       "20       42.7527590000       -78.7781920000  CO36029  CO36029       Erie_1   \n",
       "23       41.2274130000       -73.3670610000  CO09001  CO09001    Fairfield   \n",
       "31       40.7313750000       -74.0786010000  CO34017  CO34017       Hudson   \n",
       "33       40.6350450000       -73.9506400000  CO36047  CO36047        Kings   \n",
       "40       40.4396210000       -74.4074300000  CO34023  CO34023  Middlesex_2   \n",
       "41       40.2870480000       -74.1524460000  CO34025  CO34025     Monmouth   \n",
       "44       40.7296120000       -73.5894140000  CO36059  CO36059       Nassau   \n",
       "45       41.3497190000       -72.9002030000  CO09009  CO09009    New Haven   \n",
       "47       40.7766420000       -73.9701870000  CO36061  CO36061     New York   \n",
       "60       40.6546580000       -73.8412090000  CO36081  CO36081       Queens   \n",
       "72       40.9435540000       -72.6922180000  CO36103  CO36103      Suffolk   \n",
       "80       40.6598710000       -74.3086960000  CO34039  CO34039        Union   \n",
       "87       41.1526860000       -73.7457530000  CO36119  CO36119  Westchester   \n",
       "\n",
       "   type  \n",
       "4    CO  \n",
       "20   CO  \n",
       "23   CO  \n",
       "31   CO  \n",
       "33   CO  \n",
       "40   CO  \n",
       "41   CO  \n",
       "44   CO  \n",
       "45   CO  \n",
       "47   CO  \n",
       "60   CO  \n",
       "72   CO  \n",
       "80   CO  \n",
       "87   CO  "
      ],
      "text/html": "<div>\n<style scoped>\n    .dataframe tbody tr th:only-of-type {\n        vertical-align: middle;\n    }\n\n    .dataframe tbody tr th {\n        vertical-align: top;\n    }\n\n    .dataframe thead th {\n        text-align: right;\n    }\n</style>\n<table border=\"1\" class=\"dataframe\">\n  <thead>\n    <tr style=\"text-align: right;\">\n      <th></th>\n      <th>geo_center_latitude</th>\n      <th>geo_center_longitude</th>\n      <th>geo_key</th>\n      <th>id</th>\n      <th>name</th>\n      <th>type</th>\n    </tr>\n  </thead>\n  <tbody>\n    <tr>\n      <th>4</th>\n      <td>40.9596990000</td>\n      <td>-74.0747270000</td>\n      <td>CO34003</td>\n      <td>CO34003</td>\n      <td>Bergen</td>\n      <td>CO</td>\n    </tr>\n    <tr>\n      <th>20</th>\n      <td>42.7527590000</td>\n      <td>-78.7781920000</td>\n      <td>CO36029</td>\n      <td>CO36029</td>\n      <td>Erie_1</td>\n      <td>CO</td>\n    </tr>\n    <tr>\n      <th>23</th>\n      <td>41.2274130000</td>\n      <td>-73.3670610000</td>\n      <td>CO09001</td>\n      <td>CO09001</td>\n      <td>Fairfield</td>\n      <td>CO</td>\n    </tr>\n    <tr>\n      <th>31</th>\n      <td>40.7313750000</td>\n      <td>-74.0786010000</td>\n      <td>CO34017</td>\n      <td>CO34017</td>\n      <td>Hudson</td>\n      <td>CO</td>\n    </tr>\n    <tr>\n      <th>33</th>\n      <td>40.6350450000</td>\n      <td>-73.9506400000</td>\n      <td>CO36047</td>\n      <td>CO36047</td>\n      <td>Kings</td>\n      <td>CO</td>\n    </tr>\n    <tr>\n      <th>40</th>\n      <td>40.4396210000</td>\n      <td>-74.4074300000</td>\n      <td>CO34023</td>\n      <td>CO34023</td>\n      <td>Middlesex_2</td>\n      <td>CO</td>\n    </tr>\n    <tr>\n      <th>41</th>\n      <td>40.2870480000</td>\n      <td>-74.1524460000</td>\n      <td>CO34025</td>\n      <td>CO34025</td>\n      <td>Monmouth</td>\n      <td>CO</td>\n    </tr>\n    <tr>\n      <th>44</th>\n      <td>40.7296120000</td>\n      <td>-73.5894140000</td>\n      <td>CO36059</td>\n      <td>CO36059</td>\n      <td>Nassau</td>\n      <td>CO</td>\n    </tr>\n    <tr>\n      <th>45</th>\n      <td>41.3497190000</td>\n      <td>-72.9002030000</td>\n      <td>CO09009</td>\n      <td>CO09009</td>\n      <td>New Haven</td>\n      <td>CO</td>\n    </tr>\n    <tr>\n      <th>47</th>\n      <td>40.7766420000</td>\n      <td>-73.9701870000</td>\n      <td>CO36061</td>\n      <td>CO36061</td>\n      <td>New York</td>\n      <td>CO</td>\n    </tr>\n    <tr>\n      <th>60</th>\n      <td>40.6546580000</td>\n      <td>-73.8412090000</td>\n      <td>CO36081</td>\n      <td>CO36081</td>\n      <td>Queens</td>\n      <td>CO</td>\n    </tr>\n    <tr>\n      <th>72</th>\n      <td>40.9435540000</td>\n      <td>-72.6922180000</td>\n      <td>CO36103</td>\n      <td>CO36103</td>\n      <td>Suffolk</td>\n      <td>CO</td>\n    </tr>\n    <tr>\n      <th>80</th>\n      <td>40.6598710000</td>\n      <td>-74.3086960000</td>\n      <td>CO34039</td>\n      <td>CO34039</td>\n      <td>Union</td>\n      <td>CO</td>\n    </tr>\n    <tr>\n      <th>87</th>\n      <td>41.1526860000</td>\n      <td>-73.7457530000</td>\n      <td>CO36119</td>\n      <td>CO36119</td>\n      <td>Westchester</td>\n      <td>CO</td>\n    </tr>\n  </tbody>\n</table>\n</div>"
     },
     "metadata": {},
     "execution_count": 27
    }
   ],
   "source": [
    "# Check our df\n",
    "recall_df"
   ]
  },
  {
   "cell_type": "code",
   "execution_count": 30,
   "metadata": {},
   "outputs": [],
   "source": [
    "# Again Let's isolate NYC Counties\n",
    "big_county_list = ['New York', 'Kings','Bronx','Richmond','Queens']\n",
    "small_county_df = recall_df[~recall_df.name.isin(big_county_list)]\n",
    "big_county_df = recall_df[recall_df.name.isin(big_county_list)]"
   ]
  },
  {
   "cell_type": "code",
   "execution_count": 29,
   "metadata": {},
   "outputs": [],
   "source": [
    "# For each county, we'll make 1 API call and generated 1 text file containing sales data  \n",
    "# county_geoids is the LIST of all 74 counties in California\n",
    "\n",
    "# following function pulls all sales data between 200k and 5 million dollars from start of covid\n",
    "# function takes as input the geoID of the county \n",
    "# function outputs a generated text file containing JSON of all SALES transactions between $0.2M and $5M in that county\n",
    "# function has defaults of from date of 1st Jan 2019 upto 1st Apr 2021. These can be changed as desired.\n",
    "# i've set pagesize to 50,000 records for each county.\n",
    "\n",
    "def salesdata_scraper_bycounty_v2(county_geoid,from_date ='2019-01-01', to_date ='2021-04-01'): \n",
    "    baseurl = 'https://api.gateway.attomdata.com/propertyapi/v1.0.0/sale/snapshot'\n",
    "    queryparams = {'geoid':county_geoid, \n",
    "               'minsaleamt': 200000,\n",
    "               'maxsaleamt': 50000000, \n",
    "              'startsalesearchdate':from_date,\n",
    "               'endsalesearchdate': to_date,\n",
    "                'pagesize' :50000}        \n",
    "    headers = {'apikey': '1aca7ca361664d5b70c603ebd9daa6c7', 'accept': 'application/JSON'} #c24d144ee2dbd747f25e44384132f9b3\n",
    "    response = requests.get(baseurl, params = queryparams,headers=headers)\n",
    "    pydata = response.json()         # converting response object to python list of dictionaries\n",
    "    number_of_records = pydata['status']['total']\n",
    "    if number_of_records > 0:   # this condition is to avoid writing empty files in case of zero transactions in a county\n",
    "        if number_of_records == 10000:\n",
    "            print('{} county has over 10000 records. Truncated.Run query separately by month instead of year'.format(county_geoid))\n",
    "        else:    # no files will be created right now for counti 10,000 records\n",
    "            print(f\"Number of records is {number_of_records}\")     \n",
    "            pydata = pydata['property']   # this is to reach inner nested part where our results lie\n",
    "            with open(county_geoid+'_'+from_date+'-'+to_date, 'w') as outfile:   # The name of each file will be CO06001, CO06003, etc.74 files created            \n",
    "                json.dump(pydata, outfile) "
   ]
  },
  {
   "cell_type": "code",
   "execution_count": null,
   "metadata": {},
   "outputs": [],
   "source": []
  },
  {
   "source": [
    "# Manual Step Through Process of API calls"
   ],
   "cell_type": "markdown",
   "metadata": {}
  },
  {
   "cell_type": "code",
   "execution_count": 33,
   "metadata": {},
   "outputs": [
    {
     "output_type": "stream",
     "name": "stdout",
     "text": [
      "Trying CO34003\n",
      "Number of records is3167\n",
      "Trying CO36029\n",
      "Number of records is1138\n",
      "Trying CO09001\n",
      "Number of records is2858\n",
      "Trying CO34017\n",
      "Number of records is2156\n",
      "Trying CO34023\n",
      "Number of records is2626\n",
      "Trying CO34025\n",
      "Number of records is2661\n",
      "Trying CO36059\n",
      "Number of records is4101\n",
      "Trying CO09009\n",
      "Number of records is1684\n",
      "Trying CO36103\n",
      "Number of records is5585\n",
      "Trying CO34039\n",
      "Number of records is1806\n",
      "Trying CO36119\n",
      "Number of records is2371\n",
      "done\n"
     ]
    }
   ],
   "source": [
    "# Start with the smaller of the large set\n",
    "for county_geoid in small_county_df.id: \n",
    "    print(f\"Trying {county_geoid}\")  \n",
    "    salesdata_scraper_bycounty_v2(county_geoid,from_date ='2019-01-01', to_date ='2019-06-01')\n",
    "print('done')"
   ]
  },
  {
   "cell_type": "code",
   "execution_count": 34,
   "metadata": {},
   "outputs": [
    {
     "output_type": "stream",
     "name": "stdout",
     "text": [
      "Trying CO34003\n",
      "CO34003 county has over 10000 records. Truncated.Run query separately by month instead of year\n",
      "Trying CO36029\n",
      "Number of records is4666\n",
      "Trying CO09001\n",
      "CO09001 county has over 10000 records. Truncated.Run query separately by month instead of year\n",
      "Trying CO34017\n",
      "Number of records is6117\n",
      "Trying CO34023\n",
      "Number of records is8759\n",
      "Trying CO34025\n",
      "Number of records is9775\n",
      "Trying CO36059\n",
      "CO36059 county has over 10000 records. Truncated.Run query separately by month instead of year\n",
      "Trying CO09009\n",
      "Number of records is5993\n",
      "Trying CO36103\n",
      "CO36103 county has over 10000 records. Truncated.Run query separately by month instead of year\n",
      "Trying CO34039\n",
      "Number of records is6035\n",
      "Trying CO36119\n",
      "Number of records is8943\n",
      "done\n"
     ]
    }
   ],
   "source": [
    "for county_geoid in small_county_df.id: \n",
    "    print(f\"Trying {county_geoid}\")  \n",
    "    salesdata_scraper_bycounty_v2(county_geoid,from_date ='2019-06-01', to_date ='2020-06-01')\n",
    "print('done')"
   ]
  },
  {
   "cell_type": "code",
   "execution_count": 64,
   "metadata": {},
   "outputs": [
    {
     "output_type": "execute_result",
     "data": {
      "text/plain": [
       "   geo_center_latitude geo_center_longitude  geo_key       id         name  \\\n",
       "20       42.7527590000       -78.7781920000  CO36029  CO36029       Erie_1   \n",
       "31       40.7313750000       -74.0786010000  CO34017  CO34017       Hudson   \n",
       "40       40.4396210000       -74.4074300000  CO34023  CO34023  Middlesex_2   \n",
       "41       40.2870480000       -74.1524460000  CO34025  CO34025     Monmouth   \n",
       "45       41.3497190000       -72.9002030000  CO09009  CO09009    New Haven   \n",
       "80       40.6598710000       -74.3086960000  CO34039  CO34039        Union   \n",
       "\n",
       "   type  \n",
       "20   CO  \n",
       "31   CO  \n",
       "40   CO  \n",
       "41   CO  \n",
       "45   CO  \n",
       "80   CO  "
      ],
      "text/html": "<div>\n<style scoped>\n    .dataframe tbody tr th:only-of-type {\n        vertical-align: middle;\n    }\n\n    .dataframe tbody tr th {\n        vertical-align: top;\n    }\n\n    .dataframe thead th {\n        text-align: right;\n    }\n</style>\n<table border=\"1\" class=\"dataframe\">\n  <thead>\n    <tr style=\"text-align: right;\">\n      <th></th>\n      <th>geo_center_latitude</th>\n      <th>geo_center_longitude</th>\n      <th>geo_key</th>\n      <th>id</th>\n      <th>name</th>\n      <th>type</th>\n    </tr>\n  </thead>\n  <tbody>\n    <tr>\n      <th>20</th>\n      <td>42.7527590000</td>\n      <td>-78.7781920000</td>\n      <td>CO36029</td>\n      <td>CO36029</td>\n      <td>Erie_1</td>\n      <td>CO</td>\n    </tr>\n    <tr>\n      <th>31</th>\n      <td>40.7313750000</td>\n      <td>-74.0786010000</td>\n      <td>CO34017</td>\n      <td>CO34017</td>\n      <td>Hudson</td>\n      <td>CO</td>\n    </tr>\n    <tr>\n      <th>40</th>\n      <td>40.4396210000</td>\n      <td>-74.4074300000</td>\n      <td>CO34023</td>\n      <td>CO34023</td>\n      <td>Middlesex_2</td>\n      <td>CO</td>\n    </tr>\n    <tr>\n      <th>41</th>\n      <td>40.2870480000</td>\n      <td>-74.1524460000</td>\n      <td>CO34025</td>\n      <td>CO34025</td>\n      <td>Monmouth</td>\n      <td>CO</td>\n    </tr>\n    <tr>\n      <th>45</th>\n      <td>41.3497190000</td>\n      <td>-72.9002030000</td>\n      <td>CO09009</td>\n      <td>CO09009</td>\n      <td>New Haven</td>\n      <td>CO</td>\n    </tr>\n    <tr>\n      <th>80</th>\n      <td>40.6598710000</td>\n      <td>-74.3086960000</td>\n      <td>CO34039</td>\n      <td>CO34039</td>\n      <td>Union</td>\n      <td>CO</td>\n    </tr>\n  </tbody>\n</table>\n</div>"
     },
     "metadata": {},
     "execution_count": 64
    }
   ],
   "source": [
    "small_county_sub_list_missed = ['CO09009','CO34017','CO34023','CO34025','CO34039','CO36029']\n",
    "small_county_df_vmiss = small_county_df[small_county_df.id.isin(small_county_sub_list_missed)]\n",
    "small_county_df_vmiss"
   ]
  },
  {
   "cell_type": "code",
   "execution_count": 65,
   "metadata": {},
   "outputs": [
    {
     "output_type": "stream",
     "name": "stdout",
     "text": [
      "Trying CO36029\n",
      "Number of records is4922\n",
      "Trying CO34017\n",
      "Number of records is2798\n",
      "Trying CO34023\n",
      "Number of records is8950\n",
      "Trying CO34025\n",
      "Number of records is6817\n",
      "Trying CO09009\n",
      "Number of records is7328\n",
      "Trying CO34039\n",
      "Number of records is6128\n",
      "done\n"
     ]
    }
   ],
   "source": [
    "for county_geoid in small_county_df_vmiss.id: \n",
    "    print(f\"Trying {county_geoid}\")  \n",
    "    salesdata_scraper_bycounty_v2(county_geoid,from_date ='2020-06-02', to_date ='2021-04-01')\n",
    "print('done')"
   ]
  },
  {
   "cell_type": "code",
   "execution_count": 67,
   "metadata": {},
   "outputs": [
    {
     "output_type": "stream",
     "name": "stdout",
     "text": [
      "Number of records is9126\n",
      "done\n"
     ]
    }
   ],
   "source": [
    "salesdata_scraper_bycounty_v2('CO36119',from_date ='2020-06-02', to_date ='2021-04-01')\n",
    "print('done')"
   ]
  },
  {
   "cell_type": "code",
   "execution_count": 36,
   "metadata": {},
   "outputs": [
    {
     "output_type": "execute_result",
     "data": {
      "text/plain": [
       "   geo_center_latitude geo_center_longitude  geo_key       id       name type\n",
       "4        40.9596990000       -74.0747270000  CO34003  CO34003     Bergen   CO\n",
       "23       41.2274130000       -73.3670610000  CO09001  CO09001  Fairfield   CO\n",
       "44       40.7296120000       -73.5894140000  CO36059  CO36059     Nassau   CO\n",
       "72       40.9435540000       -72.6922180000  CO36103  CO36103    Suffolk   CO"
      ],
      "text/html": "<div>\n<style scoped>\n    .dataframe tbody tr th:only-of-type {\n        vertical-align: middle;\n    }\n\n    .dataframe tbody tr th {\n        vertical-align: top;\n    }\n\n    .dataframe thead th {\n        text-align: right;\n    }\n</style>\n<table border=\"1\" class=\"dataframe\">\n  <thead>\n    <tr style=\"text-align: right;\">\n      <th></th>\n      <th>geo_center_latitude</th>\n      <th>geo_center_longitude</th>\n      <th>geo_key</th>\n      <th>id</th>\n      <th>name</th>\n      <th>type</th>\n    </tr>\n  </thead>\n  <tbody>\n    <tr>\n      <th>4</th>\n      <td>40.9596990000</td>\n      <td>-74.0747270000</td>\n      <td>CO34003</td>\n      <td>CO34003</td>\n      <td>Bergen</td>\n      <td>CO</td>\n    </tr>\n    <tr>\n      <th>23</th>\n      <td>41.2274130000</td>\n      <td>-73.3670610000</td>\n      <td>CO09001</td>\n      <td>CO09001</td>\n      <td>Fairfield</td>\n      <td>CO</td>\n    </tr>\n    <tr>\n      <th>44</th>\n      <td>40.7296120000</td>\n      <td>-73.5894140000</td>\n      <td>CO36059</td>\n      <td>CO36059</td>\n      <td>Nassau</td>\n      <td>CO</td>\n    </tr>\n    <tr>\n      <th>72</th>\n      <td>40.9435540000</td>\n      <td>-72.6922180000</td>\n      <td>CO36103</td>\n      <td>CO36103</td>\n      <td>Suffolk</td>\n      <td>CO</td>\n    </tr>\n  </tbody>\n</table>\n</div>"
     },
     "metadata": {},
     "execution_count": 36
    }
   ],
   "source": [
    "small_county_sub_list = ['CO34003','CO09001','CO36059','CO36103']\n",
    "small_county_df_v2 = small_county_df[small_county_df.id.isin(small_county_sub_list)]\n",
    "small_county_df_v2"
   ]
  },
  {
   "cell_type": "code",
   "execution_count": 52,
   "metadata": {},
   "outputs": [
    {
     "output_type": "execute_result",
     "data": {
      "text/plain": [
       "   geo_center_latitude geo_center_longitude  geo_key       id       name type\n",
       "4        40.9596990000       -74.0747270000  CO34003  CO34003     Bergen   CO\n",
       "23       41.2274130000       -73.3670610000  CO09001  CO09001  Fairfield   CO\n",
       "44       40.7296120000       -73.5894140000  CO36059  CO36059     Nassau   CO"
      ],
      "text/html": "<div>\n<style scoped>\n    .dataframe tbody tr th:only-of-type {\n        vertical-align: middle;\n    }\n\n    .dataframe tbody tr th {\n        vertical-align: top;\n    }\n\n    .dataframe thead th {\n        text-align: right;\n    }\n</style>\n<table border=\"1\" class=\"dataframe\">\n  <thead>\n    <tr style=\"text-align: right;\">\n      <th></th>\n      <th>geo_center_latitude</th>\n      <th>geo_center_longitude</th>\n      <th>geo_key</th>\n      <th>id</th>\n      <th>name</th>\n      <th>type</th>\n    </tr>\n  </thead>\n  <tbody>\n    <tr>\n      <th>4</th>\n      <td>40.9596990000</td>\n      <td>-74.0747270000</td>\n      <td>CO34003</td>\n      <td>CO34003</td>\n      <td>Bergen</td>\n      <td>CO</td>\n    </tr>\n    <tr>\n      <th>23</th>\n      <td>41.2274130000</td>\n      <td>-73.3670610000</td>\n      <td>CO09001</td>\n      <td>CO09001</td>\n      <td>Fairfield</td>\n      <td>CO</td>\n    </tr>\n    <tr>\n      <th>44</th>\n      <td>40.7296120000</td>\n      <td>-73.5894140000</td>\n      <td>CO36059</td>\n      <td>CO36059</td>\n      <td>Nassau</td>\n      <td>CO</td>\n    </tr>\n  </tbody>\n</table>\n</div>"
     },
     "metadata": {},
     "execution_count": 52
    }
   ],
   "source": [
    "small_county_df_v3 = small_county_df_v2[small_county_df_v2.id != 'CO36103']\n",
    "small_county_df_v3"
   ]
  },
  {
   "cell_type": "code",
   "execution_count": 37,
   "metadata": {},
   "outputs": [
    {
     "output_type": "stream",
     "name": "stdout",
     "text": [
      "Trying CO34003\n",
      "Number of records is6793\n",
      "Trying CO09001\n",
      "Number of records is6648\n",
      "Trying CO36059\n",
      "Number of records is9513\n",
      "Trying CO36103\n",
      "CO36103 county has over 10000 records. Truncated.Run query separately by month instead of year\n",
      "done\n"
     ]
    }
   ],
   "source": [
    "for county_geoid in small_county_df_v2.id: \n",
    "    print(f\"Trying {county_geoid}\")  \n",
    "    salesdata_scraper_bycounty_v2(county_geoid,from_date ='2019-06-01', to_date ='2020-01-01')\n",
    "print('done')"
   ]
  },
  {
   "cell_type": "code",
   "execution_count": null,
   "metadata": {},
   "outputs": [],
   "source": []
  },
  {
   "cell_type": "code",
   "execution_count": 39,
   "metadata": {},
   "outputs": [
    {
     "output_type": "stream",
     "name": "stdout",
     "text": [
      "Number of records is9579\n",
      "done\n"
     ]
    }
   ],
   "source": [
    "# Hamptons ( Suffolk ) surged during the pandemic we need to subdivide this further\n",
    "salesdata_scraper_bycounty_v2('CO36103',from_date ='2019-06-01', to_date ='2019-11-01')\n",
    "print('done')"
   ]
  },
  {
   "cell_type": "code",
   "execution_count": 41,
   "metadata": {},
   "outputs": [
    {
     "output_type": "stream",
     "name": "stdout",
     "text": [
      "Number of records is7971\n",
      "done\n"
     ]
    }
   ],
   "source": [
    "# Hamptons ( Suffolk ) surged during the pandemic we need to subdivide this further\n",
    "salesdata_scraper_bycounty_v2('CO36103',from_date ='2019-11-02', to_date ='2020-04-01')\n",
    "print('done')"
   ]
  },
  {
   "cell_type": "code",
   "execution_count": 44,
   "metadata": {},
   "outputs": [
    {
     "output_type": "stream",
     "name": "stdout",
     "text": [
      "Number of records is3980\n",
      "done\n"
     ]
    }
   ],
   "source": [
    "# Hamptons ( Suffolk ) surged during the pandemic we need to subdivide this further\n",
    "salesdata_scraper_bycounty_v2('CO36103',from_date ='2020-04-02', to_date ='2020-7-01')\n",
    "print('done')"
   ]
  },
  {
   "cell_type": "code",
   "execution_count": 45,
   "metadata": {},
   "outputs": [
    {
     "output_type": "stream",
     "name": "stdout",
     "text": [
      "Number of records is8781\n",
      "done\n"
     ]
    }
   ],
   "source": [
    "# Hamptons ( Suffolk ) surged during the pandemic we need to subdivide this further\n",
    "salesdata_scraper_bycounty_v2('CO36103',from_date ='2020-7-02', to_date ='2020-11-01')\n",
    "print('done')"
   ]
  },
  {
   "cell_type": "code",
   "execution_count": 46,
   "metadata": {},
   "outputs": [
    {
     "output_type": "stream",
     "name": "stdout",
     "text": [
      "Number of records is4745\n",
      "done\n"
     ]
    }
   ],
   "source": [
    "# Hamptons ( Suffolk ) surged during the pandemic we need to subdivide this further\n",
    "salesdata_scraper_bycounty_v2('CO36103',from_date ='2020-11-01', to_date ='2021-02-01')\n",
    "print('done')"
   ]
  },
  {
   "cell_type": "code",
   "execution_count": 47,
   "metadata": {},
   "outputs": [
    {
     "output_type": "stream",
     "name": "stdout",
     "text": [
      "Number of records is66\ndone\n"
     ]
    }
   ],
   "source": [
    "# Hamptons ( Suffolk ) surged during the pandemic we need to subdivide this further\n",
    "salesdata_scraper_bycounty_v2('CO36103',from_date ='2021-02-02', to_date ='2021-04-01')\n",
    "print('done')"
   ]
  },
  {
   "source": [
    "# Okay captured: Hamptons ( Suffolk )\n",
    "## Next the rest of the smaller counties"
   ],
   "cell_type": "markdown",
   "metadata": {}
  },
  {
   "cell_type": "code",
   "execution_count": 53,
   "metadata": {},
   "outputs": [
    {
     "output_type": "stream",
     "name": "stdout",
     "text": [
      "Trying CO34003\n",
      "Number of records is8232\n",
      "Trying CO09001\n",
      "Number of records is9428\n",
      "Trying CO36059\n",
      "Number of records is9515\n",
      "done\n"
     ]
    }
   ],
   "source": [
    "for county_geoid in small_county_df_v3.id: \n",
    "    print(f\"Trying {county_geoid}\")  \n",
    "    salesdata_scraper_bycounty_v2(county_geoid,from_date ='2020-01-02', to_date ='2020-10-01')\n",
    "print('done')"
   ]
  },
  {
   "cell_type": "code",
   "execution_count": 54,
   "metadata": {},
   "outputs": [
    {
     "output_type": "stream",
     "name": "stdout",
     "text": [
      "Trying CO34003\n",
      "Number of records is4272\n",
      "Trying CO09001\n",
      "Number of records is6863\n",
      "Trying CO36059\n",
      "Number of records is7418\n",
      "done\n"
     ]
    }
   ],
   "source": [
    "for county_geoid in small_county_df_v3.id: \n",
    "    print(f\"Trying {county_geoid}\")  \n",
    "    salesdata_scraper_bycounty_v2(county_geoid,from_date ='2020-10-02', to_date ='2021-04-01')\n",
    "print('done')"
   ]
  },
  {
   "source": [
    "# Okay got the rest of the smaller counties\n",
    "## Next NYC counties"
   ],
   "cell_type": "markdown",
   "metadata": {}
  },
  {
   "cell_type": "code",
   "execution_count": 55,
   "metadata": {},
   "outputs": [],
   "source": [
    "time_tuples = [('2019-06-02','2019-10-02'),('2019-10-02','2020-02-02'),('2020-02-03','2020-06-03'),('2020-06-04','2020-10-04'),('2020-10-05','2021-02-05'),('2021-02-06','2021-04-01')]"
   ]
  },
  {
   "cell_type": "code",
   "execution_count": 57,
   "metadata": {},
   "outputs": [
    {
     "output_type": "stream",
     "name": "stdout",
     "text": [
      "Trying CO36047 from 2019-06-02 to 2019-10-02\n",
      "Number of records is3724\n",
      "Trying CO36047 from 2019-10-02 to 2020-02-02\n",
      "Number of records is3826\n",
      "Trying CO36047 from 2020-02-03 to 2020-06-03\n",
      "Number of records is2802\n",
      "Trying CO36047 from 2020-06-04 to 2020-10-04\n",
      "Number of records is2610\n",
      "Trying CO36047 from 2020-10-05 to 2021-02-05\n",
      "Number of records is4150\n",
      "Trying CO36047 from 2021-02-06 to 2021-04-01\n",
      "Number of records is1467\n",
      "Trying CO36061 from 2019-06-02 to 2019-10-02\n",
      "Number of records is3628\n",
      "Trying CO36061 from 2019-10-02 to 2020-02-02\n",
      "Number of records is2677\n",
      "Trying CO36061 from 2020-02-03 to 2020-06-03\n",
      "Number of records is2539\n",
      "Trying CO36061 from 2020-06-04 to 2020-10-04\n",
      "Number of records is2173\n",
      "Trying CO36061 from 2020-10-05 to 2021-02-05\n",
      "Number of records is3023\n",
      "Trying CO36061 from 2021-02-06 to 2021-04-01\n",
      "Number of records is1346\n",
      "Trying CO36081 from 2019-06-02 to 2019-10-02\n",
      "Number of records is4274\n",
      "Trying CO36081 from 2019-10-02 to 2020-02-02\n",
      "Number of records is4206\n",
      "Trying CO36081 from 2020-02-03 to 2020-06-03\n",
      "Number of records is2871\n",
      "Trying CO36081 from 2020-06-04 to 2020-10-04\n",
      "Number of records is3269\n",
      "Trying CO36081 from 2020-10-05 to 2021-02-05\n",
      "Number of records is4754\n",
      "Trying CO36081 from 2021-02-06 to 2021-04-01\n",
      "Number of records is1682\n",
      "done\n"
     ]
    }
   ],
   "source": [
    "for county_geoid in big_county_df.id: \n",
    "    for time in time_tuples:\n",
    "        start, stop = time\n",
    "        print(f\"Trying {county_geoid} from {start} to {stop}\")\n",
    "        salesdata_scraper_bycounty_v2(county_geoid,from_date =start, to_date =stop)\n",
    "print('done')"
   ]
  },
  {
   "cell_type": "code",
   "execution_count": 105,
   "metadata": {},
   "outputs": [
    {
     "output_type": "stream",
     "name": "stdout",
     "text": [
      "Number of records is3345\n",
      "Number of records is3214\n",
      "Number of records is3874\n",
      "done\n"
     ]
    }
   ],
   "source": [
    "# Capturing ('2019-01-01','2019-06-02')\n",
    "for county_geoid in big_county_df.id: \n",
    "        salesdata_scraper_bycounty_v2(county_geoid,from_date ='2019-01-01', to_date ='2019-06-01')\n",
    "print('done')"
   ]
  },
  {
   "source": [
    "# All done\n",
    "# Time to build the dataframes"
   ],
   "cell_type": "markdown",
   "metadata": {}
  },
  {
   "cell_type": "code",
   "execution_count": 109,
   "metadata": {},
   "outputs": [
    {
     "output_type": "stream",
     "name": "stdout",
     "text": [
      "Building CO34003_Bergen\n",
      "Building CO09009_NewHaven\n",
      "Building CO36061_NewYork\n",
      "Failed: <_io.TextIOWrapper name='datasets/NY_data/attom_county_sales/CO36061_NewYork/.DS_Store' mode='r' encoding='UTF-8'>\n",
      "Building CO36081_Queens\n",
      "Building CO36103_Suffolk\n",
      "Building CO36029_Erie_1\n",
      "Building CO36119_WestChester\n",
      "Building CO09001_Fairfield\n",
      "Building CO36047_Kings\n",
      "Building CO34039_Union\n",
      "Building CO34023_Middlesex_2\n",
      "Building CO36059_Nassau\n",
      "Building CO34025_Monmouth\n",
      "Building CO34017_Hudson\n",
      "Dictionary Created!\n"
     ]
    }
   ],
   "source": [
    "# loop files; create dict of df\n",
    "folders = ['CO34003_Bergen','CO09009_NewHaven','CO36061_NewYork','CO36081_Queens','CO36103_Suffolk','CO36029_Erie_1','CO36119_WestChester','CO09001_Fairfield','CO36047_Kings','CO34039_Union','CO34023_Middlesex_2','CO36059_Nassau','CO34025_Monmouth','CO34017_Hudson']\n",
    "ny_df_dict_v2 = {}\n",
    "for folder in folders:\n",
    "    print(f'Building {folder}')\n",
    "    # Get directories \n",
    "    files = os.listdir(\"datasets/NY_data/attom_county_sales/\"+folder)\n",
    "\n",
    "    # Get json files in directory\n",
    "    for county_f in files:\n",
    "        with open(f'datasets/NY_data/attom_county_sales/'+folder + '/' + county_f) as project_file:\n",
    "            try:\n",
    "                data = json.load(project_file)\n",
    "                df = pd.json_normalize(data) \n",
    "\n",
    "                # Concat dataframes\n",
    "                if folder in ny_df_dict_v2:\n",
    "                    df2 = ny_df_dict_v2[folder]\n",
    "                    h_concat_df = pd.concat([df2, df], axis=0)\n",
    "                    ny_df_dict_v2[folder] = h_concat_df\n",
    "                else:\n",
    "                    ny_df_dict_v2[folder] = df\n",
    "            except:\n",
    "                print(f'Failed: {project_file}')\n",
    "\n",
    "print('Dictionary Created!')"
   ]
  },
  {
   "cell_type": "code",
   "execution_count": 100,
   "metadata": {},
   "outputs": [
    {
     "output_type": "execute_result",
     "data": {
      "text/plain": [
       "dict_keys(['CO34003_Bergen', 'CO09009_NewHaven', 'CO36081_NewYork', 'CO36103_Suffolk', 'CO36029_Erie_1', 'CO36119_WestChester', 'CO09001_Fairfield', 'CO36047_Kings', 'CO34039_Union', 'CO34023_Middlesex_2', 'CO36059_Nassau', 'CO34025_Monmouth', 'CO34017_Hudson'])"
      ]
     },
     "metadata": {},
     "execution_count": 100
    }
   ],
   "source": [
    "ny_df_dict_v2.keys()"
   ]
  },
  {
   "cell_type": "code",
   "execution_count": 110,
   "metadata": {},
   "outputs": [
    {
     "output_type": "stream",
     "name": "stdout",
     "text": [
      "CO34003_Bergen shape: (22461, 43), first sale: 2019-1-1, last sale: 2021-3-3\nCO09009_NewHaven shape: (15005, 43), first sale: 2019-1-10, last sale: 2021-4-1\nCO36061_NewYork shape: (18599, 43), first sale: 2019-1-1, last sale: 2021-4-1\nCO36081_Queens shape: (24926, 43), first sale: 2019-1-1, last sale: 2021-4-1\nCO36103_Suffolk shape: (40659, 43), first sale: 2019-1-1, last sale: 2021-3-3\nCO36029_Erie_1 shape: (10725, 43), first sale: 2019-1-10, last sale: 2021-3-9\nCO36119_WestChester shape: (20429, 43), first sale: 2019-1-1, last sale: 2021-3-9\nCO09001_Fairfield shape: (25797, 43), first sale: 2019-1-10, last sale: 2021-4-1\nCO36047_Kings shape: (21903, 43), first sale: 2019-1-1, last sale: 2021-4-1\nCO34039_Union shape: (13969, 43), first sale: 2019-1-10, last sale: 2021-4-1\nCO34023_Middlesex_2 shape: (20333, 43), first sale: 2019-1-1, last sale: 2021-3-9\nCO36059_Nassau shape: (30501, 43), first sale: 2019-1-1, last sale: 2021-3-8\nCO34025_Monmouth shape: (19249, 43), first sale: 2019-1-1, last sale: 2021-3-5\nCO34017_Hudson shape: (11071, 43), first sale: 2019-1-1, last sale: 2021-2-9\nTotal length is 295627\n"
     ]
    }
   ],
   "source": [
    "# Let's Check our Dictionary\n",
    "\n",
    "total_size = 0\n",
    "for bc in ny_df_dict_v2.keys():\n",
    "    total_size += ny_df_dict_v2[bc].shape[0]\n",
    "    ny_df_dict_v2[bc]['sale.saleTransDate'] = ny_df_dict_v2[bc]['sale.saleTransDate'].astype('string')\n",
    "    print(\n",
    "            f\"{bc} shape: {ny_df_dict_v2[bc].shape}\"\\\n",
    "            f\", first sale: {ny_df_dict_v2[bc]['sale.saleTransDate'].min()}\"\\\n",
    "            f\", last sale: {ny_df_dict_v2[bc]['sale.saleTransDate'].max()}\"\n",
    "        )\n",
    "print(f'Total length is {total_size}')\n",
    "\n"
   ]
  },
  {
   "cell_type": "code",
   "execution_count": 111,
   "metadata": {},
   "outputs": [
    {
     "output_type": "execute_result",
     "data": {
      "text/plain": [
       "dict_keys(['CO34003_Bergen', 'CO09009_NewHaven', 'CO36061_NewYork', 'CO36081_Queens', 'CO36103_Suffolk', 'CO36029_Erie_1', 'CO36119_WestChester', 'CO09001_Fairfield', 'CO36047_Kings', 'CO34039_Union', 'CO34023_Middlesex_2', 'CO36059_Nassau', 'CO34025_Monmouth', 'CO34017_Hudson'])"
      ]
     },
     "metadata": {},
     "execution_count": 111
    }
   ],
   "source": [
    "ny_df_dict_v2.keys()"
   ]
  },
  {
   "cell_type": "code",
   "execution_count": 112,
   "metadata": {},
   "outputs": [],
   "source": [
    "renaming_dict = {'CO34003_Bergen':'Bergen', 'CO09009_NewHaven':\"New Haven\", 'CO36061_NewYork':'New York', 'CO36081_Queens':'Queens', 'CO36103_Suffolk':'Suffolk', 'CO36029_Erie_1':'Erie_1', 'CO36119_WestChester':'West Chester', 'CO09001_Fairfield':'Fairfield', 'CO36047_Kings':'Kings', 'CO34039_Union':'Union', 'CO34023_Middlesex_2':'Middlesex_2', 'CO36059_Nassau':'Nassau', 'CO34025_Monmouth':'Monmouth', 'CO34017_Hudson':'Hudson'}"
   ]
  },
  {
   "cell_type": "code",
   "execution_count": 113,
   "metadata": {},
   "outputs": [],
   "source": [
    "ny_df_dict_v2_renamed = {}\n",
    "for key in ny_df_dict_v2:\n",
    "    ny_df_dict_v2_renamed[renaming_dict[key]] = ny_df_dict_v2[key]"
   ]
  },
  {
   "cell_type": "code",
   "execution_count": 114,
   "metadata": {},
   "outputs": [
    {
     "output_type": "execute_result",
     "data": {
      "text/plain": [
       "dict_keys(['Bergen', 'New Haven', 'New York', 'Queens', 'Suffolk', 'Erie_1', 'West Chester', 'Fairfield', 'Kings', 'Union', 'Middlesex_2', 'Nassau', 'Monmouth', 'Hudson'])"
      ]
     },
     "metadata": {},
     "execution_count": 114
    }
   ],
   "source": [
    "ny_df_dict_v2_renamed.keys()"
   ]
  },
  {
   "cell_type": "code",
   "execution_count": 115,
   "metadata": {},
   "outputs": [
    {
     "output_type": "stream",
     "name": "stdout",
     "text": [
      "Duplicates Dropped\n"
     ]
    }
   ],
   "source": [
    "# Clean up any duplicates\n",
    "for key in ny_df_dict_v2_renamed.keys():\n",
    "    ny_df_dict_v2_renamed[key].drop_duplicates()\n",
    "print('Duplicates Dropped')"
   ]
  },
  {
   "cell_type": "code",
   "execution_count": 117,
   "metadata": {},
   "outputs": [
    {
     "output_type": "stream",
     "name": "stdout",
     "text": [
      "done\n"
     ]
    }
   ],
   "source": [
    "# Read original pickle file back in\n",
    "ny_dict_df = pd.read_pickle(\"datasets/NY_data/final_data_frame/NY_dict_df.pkl\")\n",
    "print('done')"
   ]
  },
  {
   "cell_type": "code",
   "execution_count": 118,
   "metadata": {},
   "outputs": [],
   "source": [
    "# Let's merge the dataframe dictionaries\n",
    "merged_df_dict ={}\n",
    "for key in ny_dict_df.keys():\n",
    "    if key in ny_df_dict_v2_renamed.keys():\n",
    "        merged_df_dict[key] = ny_df_dict_v2_renamed[key]\n",
    "    else:\n",
    "        merged_df_dict[key] = ny_dict_df[key]"
   ]
  },
  {
   "cell_type": "code",
   "execution_count": 125,
   "metadata": {},
   "outputs": [
    {
     "output_type": "execute_result",
     "data": {
      "text/plain": [
       "      lot_size zipcode   latitude   longitude                  sub_type  \\\n",
       "0       0.0000   10021  40.768726  -73.955679               RESIDENTIAL   \n",
       "1       0.0000   10021  40.771610  -73.959656               RESIDENTIAL   \n",
       "2       0.0000   10021  40.771708  -73.964518               RESIDENTIAL   \n",
       "3       0.0000   10011  40.740598  -73.998195  MISCELLANEOUS INDUSTRIAL   \n",
       "4       0.0000   10022  40.760356  -73.961450  MISCELLANEOUS INDUSTRIAL   \n",
       "...        ...     ...        ...         ...                       ...   \n",
       "3209    0.0000   10001  40.745084  -73.995107  MISCELLANEOUS INDUSTRIAL   \n",
       "3210    0.0000   10019  40.763387  -73.990994               RESIDENTIAL   \n",
       "3211    0.0482   10029  40.799561  -73.944941                COMMERCIAL   \n",
       "3212    0.0000   10018  40.752428  -73.982702               RESIDENTIAL   \n",
       "3213    0.0000   10021  40.769291  -73.965477               RESIDENTIAL   \n",
       "\n",
       "                type  year_built    size  bathrooms  bedrooms  \\\n",
       "0        COOPERATIVE           0  154506        0.0         0   \n",
       "1        COOPERATIVE           0       0        0.0         0   \n",
       "2        COOPERATIVE           0       0        0.0         0   \n",
       "3        CONDOMINIUM           0    1093        0.0         0   \n",
       "4          WAREHOUSE           0       0        0.0         0   \n",
       "...              ...         ...     ...        ...       ...   \n",
       "3209     CONDOMINIUM           0     992        0.0         0   \n",
       "3210     COOPERATIVE           0    9925        0.0         0   \n",
       "3211  STORE BUILDING        1953    2100        0.0         0   \n",
       "3212     CONDOMINIUM        2015    1067        0.0         0   \n",
       "3213     COOPERATIVE           0       0        0.0         0   \n",
       "\n",
       "     transaction_date  sale_price  \n",
       "0           2020-9-30      750000  \n",
       "1           2020-9-30      750000  \n",
       "2           2020-9-30     1350000  \n",
       "3           2020-9-30     1650000  \n",
       "4           2020-9-30     2550000  \n",
       "...               ...         ...  \n",
       "3209         2019-1-3     1600000  \n",
       "3210         2019-1-4      560100  \n",
       "3211         2019-1-4     1653000  \n",
       "3212         2019-1-4     2395000  \n",
       "3213         2019-1-7      310000  \n",
       "\n",
       "[18599 rows x 12 columns]"
      ],
      "text/html": "<div>\n<style scoped>\n    .dataframe tbody tr th:only-of-type {\n        vertical-align: middle;\n    }\n\n    .dataframe tbody tr th {\n        vertical-align: top;\n    }\n\n    .dataframe thead th {\n        text-align: right;\n    }\n</style>\n<table border=\"1\" class=\"dataframe\">\n  <thead>\n    <tr style=\"text-align: right;\">\n      <th></th>\n      <th>lot_size</th>\n      <th>zipcode</th>\n      <th>latitude</th>\n      <th>longitude</th>\n      <th>sub_type</th>\n      <th>type</th>\n      <th>year_built</th>\n      <th>size</th>\n      <th>bathrooms</th>\n      <th>bedrooms</th>\n      <th>transaction_date</th>\n      <th>sale_price</th>\n    </tr>\n  </thead>\n  <tbody>\n    <tr>\n      <th>0</th>\n      <td>0.0000</td>\n      <td>10021</td>\n      <td>40.768726</td>\n      <td>-73.955679</td>\n      <td>RESIDENTIAL</td>\n      <td>COOPERATIVE</td>\n      <td>0</td>\n      <td>154506</td>\n      <td>0.0</td>\n      <td>0</td>\n      <td>2020-9-30</td>\n      <td>750000</td>\n    </tr>\n    <tr>\n      <th>1</th>\n      <td>0.0000</td>\n      <td>10021</td>\n      <td>40.771610</td>\n      <td>-73.959656</td>\n      <td>RESIDENTIAL</td>\n      <td>COOPERATIVE</td>\n      <td>0</td>\n      <td>0</td>\n      <td>0.0</td>\n      <td>0</td>\n      <td>2020-9-30</td>\n      <td>750000</td>\n    </tr>\n    <tr>\n      <th>2</th>\n      <td>0.0000</td>\n      <td>10021</td>\n      <td>40.771708</td>\n      <td>-73.964518</td>\n      <td>RESIDENTIAL</td>\n      <td>COOPERATIVE</td>\n      <td>0</td>\n      <td>0</td>\n      <td>0.0</td>\n      <td>0</td>\n      <td>2020-9-30</td>\n      <td>1350000</td>\n    </tr>\n    <tr>\n      <th>3</th>\n      <td>0.0000</td>\n      <td>10011</td>\n      <td>40.740598</td>\n      <td>-73.998195</td>\n      <td>MISCELLANEOUS INDUSTRIAL</td>\n      <td>CONDOMINIUM</td>\n      <td>0</td>\n      <td>1093</td>\n      <td>0.0</td>\n      <td>0</td>\n      <td>2020-9-30</td>\n      <td>1650000</td>\n    </tr>\n    <tr>\n      <th>4</th>\n      <td>0.0000</td>\n      <td>10022</td>\n      <td>40.760356</td>\n      <td>-73.961450</td>\n      <td>MISCELLANEOUS INDUSTRIAL</td>\n      <td>WAREHOUSE</td>\n      <td>0</td>\n      <td>0</td>\n      <td>0.0</td>\n      <td>0</td>\n      <td>2020-9-30</td>\n      <td>2550000</td>\n    </tr>\n    <tr>\n      <th>...</th>\n      <td>...</td>\n      <td>...</td>\n      <td>...</td>\n      <td>...</td>\n      <td>...</td>\n      <td>...</td>\n      <td>...</td>\n      <td>...</td>\n      <td>...</td>\n      <td>...</td>\n      <td>...</td>\n      <td>...</td>\n    </tr>\n    <tr>\n      <th>3209</th>\n      <td>0.0000</td>\n      <td>10001</td>\n      <td>40.745084</td>\n      <td>-73.995107</td>\n      <td>MISCELLANEOUS INDUSTRIAL</td>\n      <td>CONDOMINIUM</td>\n      <td>0</td>\n      <td>992</td>\n      <td>0.0</td>\n      <td>0</td>\n      <td>2019-1-3</td>\n      <td>1600000</td>\n    </tr>\n    <tr>\n      <th>3210</th>\n      <td>0.0000</td>\n      <td>10019</td>\n      <td>40.763387</td>\n      <td>-73.990994</td>\n      <td>RESIDENTIAL</td>\n      <td>COOPERATIVE</td>\n      <td>0</td>\n      <td>9925</td>\n      <td>0.0</td>\n      <td>0</td>\n      <td>2019-1-4</td>\n      <td>560100</td>\n    </tr>\n    <tr>\n      <th>3211</th>\n      <td>0.0482</td>\n      <td>10029</td>\n      <td>40.799561</td>\n      <td>-73.944941</td>\n      <td>COMMERCIAL</td>\n      <td>STORE BUILDING</td>\n      <td>1953</td>\n      <td>2100</td>\n      <td>0.0</td>\n      <td>0</td>\n      <td>2019-1-4</td>\n      <td>1653000</td>\n    </tr>\n    <tr>\n      <th>3212</th>\n      <td>0.0000</td>\n      <td>10018</td>\n      <td>40.752428</td>\n      <td>-73.982702</td>\n      <td>RESIDENTIAL</td>\n      <td>CONDOMINIUM</td>\n      <td>2015</td>\n      <td>1067</td>\n      <td>0.0</td>\n      <td>0</td>\n      <td>2019-1-4</td>\n      <td>2395000</td>\n    </tr>\n    <tr>\n      <th>3213</th>\n      <td>0.0000</td>\n      <td>10021</td>\n      <td>40.769291</td>\n      <td>-73.965477</td>\n      <td>RESIDENTIAL</td>\n      <td>COOPERATIVE</td>\n      <td>0</td>\n      <td>0</td>\n      <td>0.0</td>\n      <td>0</td>\n      <td>2019-1-7</td>\n      <td>310000</td>\n    </tr>\n  </tbody>\n</table>\n<p>18599 rows × 12 columns</p>\n</div>"
     },
     "metadata": {},
     "execution_count": 125
    }
   ],
   "source": [
    "merged_df_dict['New York']"
   ]
  },
  {
   "cell_type": "code",
   "execution_count": 119,
   "metadata": {},
   "outputs": [
    {
     "output_type": "stream",
     "name": "stdout",
     "text": [
      "done\n"
     ]
    }
   ],
   "source": [
    "# Export\n",
    "with open(\"NY_dict_df_v2.pkl\",\"wb\") as ny_dump:\n",
    "    pickle.dump(merged_df_dict,ny_dump)\n",
    "    print('done')"
   ]
  },
  {
   "cell_type": "code",
   "execution_count": 120,
   "metadata": {},
   "outputs": [],
   "source": [
    "# Create dictionary for renaming\n",
    "col_dict = {'sale.saleTransDate':'transaction_date','address.postal1':'zipcode','sale.amount.saleamt':'sale_price','lot.lotSize1':'lot_size','building.size.universalsize':'size','location.latitude':'latitude','location.longitude':'longitude','summary.propsubtype':'sub_type','summary.proptype':'type','summary.yearbuilt':'year_built','building.rooms.bathstotal':'bathrooms','building.rooms.beds':'bedrooms'}\n",
    "# Create list for anti filter drop\n",
    "col_drop_list = [ col for col in merged_df_dict['Albany'].columns if col not in col_dict.keys()]"
   ]
  },
  {
   "cell_type": "code",
   "execution_count": 121,
   "metadata": {},
   "outputs": [],
   "source": [
    "for data in merged_df_dict.keys():\n",
    "    merged_df_dict[data].rename(columns = col_dict, inplace=True)\n",
    "    merged_df_dict[data].drop(col_drop_list, inplace=True, axis=1, errors='ignore')"
   ]
  },
  {
   "cell_type": "code",
   "execution_count": 122,
   "metadata": {},
   "outputs": [
    {
     "output_type": "stream",
     "name": "stdout",
     "text": [
      "done\n"
     ]
    }
   ],
   "source": [
    "# export cleaned dictionary of dataframe\n",
    "with open(\"NY_dict_df_col_cleaned_v2.pkl\",\"wb\") as ny_dump:\n",
    "    pickle.dump(merged_df_dict,ny_dump)\n",
    "    print('done')"
   ]
  },
  {
   "cell_type": "code",
   "execution_count": 123,
   "metadata": {},
   "outputs": [
    {
     "output_type": "stream",
     "name": "stdout",
     "text": [
      "Total length is 419972\n"
     ]
    }
   ],
   "source": [
    "total_size = 0\n",
    "for bc in merged_df_dict.keys():\n",
    "    total_size += merged_df_dict[bc].shape[0]\n",
    "print(f'Total length is {total_size}')"
   ]
  },
  {
   "source": [
    "# Spot Checking json files"
   ],
   "cell_type": "markdown",
   "metadata": {}
  },
  {
   "cell_type": "code",
   "execution_count": 134,
   "metadata": {},
   "outputs": [
    {
     "output_type": "stream",
     "name": "stdout",
     "text": [
      "/Users/Chris/Documents/GitHub/SIADS691-Covid-Real-Estate\n"
     ]
    }
   ],
   "source": [
    "# folder navigation\n",
    "print(os.path.abspath(os.curdir))"
   ]
  },
  {
   "cell_type": "code",
   "execution_count": 135,
   "metadata": {},
   "outputs": [
    {
     "output_type": "error",
     "ename": "SyntaxError",
     "evalue": "unexpected EOF while parsing (<ipython-input-135-78f8350615ce>, line 5)",
     "traceback": [
      "\u001b[0;36m  File \u001b[0;32m\"<ipython-input-135-78f8350615ce>\"\u001b[0;36m, line \u001b[0;32m5\u001b[0m\n\u001b[0;31m    test = pd.json_normalize(data)\u001b[0m\n\u001b[0m                                  ^\u001b[0m\n\u001b[0;31mSyntaxError\u001b[0m\u001b[0;31m:\u001b[0m unexpected EOF while parsing\n"
     ]
    }
   ],
   "source": [
    "# Get json files in directory\n",
    "with open('datasets/NY_data/attom_county_sales/CO36061_NewYork/CO36061_2021-02-06-2021-04-01') as project_file:\n",
    "    try:\n",
    "        data = json.load(project_file)\n",
    "        test = pd.json_normalize(data)"
   ]
  },
  {
   "cell_type": "code",
   "execution_count": 170,
   "metadata": {},
   "outputs": [
    {
     "output_type": "execute_result",
     "data": {
      "text/plain": [
       "      lot_size zipcode   latitude   longitude     sub_type  \\\n",
       "3388    0.6400   11706  40.765637  -73.256629  RESIDENTIAL   \n",
       "4130    0.2000   11717  40.774461  -73.231779  RESIDENTIAL   \n",
       "2130    0.4800   11705  40.737591  -73.057204  RESIDENTIAL   \n",
       "2581    0.2500   11747  40.809840  -73.394432  RESIDENTIAL   \n",
       "2581    1.0000   11743  40.880160  -73.384401  RESIDENTIAL   \n",
       "4171    0.3600   11768  40.931598  -73.367628  RESIDENTIAL   \n",
       "427     0.0494   11747  40.795979  -73.385685  RESIDENTIAL   \n",
       "1849    0.1800   11772  40.763765  -73.030806  RESIDENTIAL   \n",
       "4952    0.3700   11779  40.791962  -73.129201  RESIDENTIAL   \n",
       "693     0.2700   11755  40.854541  -73.118424  RESIDENTIAL   \n",
       "132     0.6200   11721  40.893298  -73.370260  RESIDENTIAL   \n",
       "4382    0.0661   11704  40.713854  -73.344549  RESIDENTIAL   \n",
       "3483    0.2200   11720  40.870153  -73.082600  RESIDENTIAL   \n",
       "8989    0.0170   11763  40.844261  -72.999573  RESIDENTIAL   \n",
       "3011    0.1800   11746  40.829755  -73.417651  RESIDENTIAL   \n",
       "2806    2.0000   11724  40.858559  -73.443764  RESIDENTIAL   \n",
       "3359    0.3400   11706  40.740171  -73.273117  RESIDENTIAL   \n",
       "1604    0.0600   11953  40.886778  -72.953486  RESIDENTIAL   \n",
       "2054    0.2400   11767  40.852986  -73.131529        HOUSE   \n",
       "547     0.1600   11772  40.764410  -73.032457  RESIDENTIAL   \n",
       "\n",
       "                    type  year_built  size  bathrooms  bedrooms  \\\n",
       "3388              DUPLEX           0     0        0.0         0   \n",
       "4130                 SFR           0     0        0.0         0   \n",
       "2130                 SFR           0     0        0.0         0   \n",
       "2581                 SFR           0     0        0.0         0   \n",
       "2581                 SFR           0     0        0.0         0   \n",
       "4171                 SFR           0     0        0.0         0   \n",
       "427                  SFR           0     0        0.0         0   \n",
       "1849                 SFR           0  1048        1.0         3   \n",
       "4952                 SFR           0     0        0.0         0   \n",
       "693                  SFR           0  1372        1.0         3   \n",
       "132                  SFR           0     0        0.0         0   \n",
       "4382  COMMERCIAL ACREAGE           0     0        0.0         0   \n",
       "3483                 SFR           0  1500        1.0         3   \n",
       "8989         CONDOMINIUM           0  1008        1.0         1   \n",
       "3011                 SFR           0     0        0.0         0   \n",
       "2806                 SFR           0     0        0.0         0   \n",
       "3359                 SFR           0     0        0.0         0   \n",
       "1604                 SFR           0     0        0.0         0   \n",
       "2054                 SFR        1968  2028        3.0         3   \n",
       "547                  SFR           0   979        1.0         2   \n",
       "\n",
       "     transaction_date  sale_price  \n",
       "3388        2019-1-15      345000  \n",
       "4130         2020-8-7      260000  \n",
       "2130        2020-8-10      675000  \n",
       "2581        2020-6-10      460000  \n",
       "2581       2019-11-22      890000  \n",
       "4171        2021-1-11     1265000  \n",
       "427         2020-1-15      995000  \n",
       "1849         2021-1-8      291500  \n",
       "4952        2019-9-25      505000  \n",
       "693          2019-1-3      354000  \n",
       "132          2020-3-3      815000  \n",
       "4382         2019-7-9     2000000  \n",
       "3483       2019-10-31      418000  \n",
       "8989        2019-8-14      268750  \n",
       "3011         2019-8-5      430000  \n",
       "2806        2019-8-28     1750000  \n",
       "3359        2019-1-18      469000  \n",
       "1604         2020-6-5      275000  \n",
       "2054        2019-5-31      498500  \n",
       "547         2019-1-30      319300  "
      ],
      "text/html": "<div>\n<style scoped>\n    .dataframe tbody tr th:only-of-type {\n        vertical-align: middle;\n    }\n\n    .dataframe tbody tr th {\n        vertical-align: top;\n    }\n\n    .dataframe thead th {\n        text-align: right;\n    }\n</style>\n<table border=\"1\" class=\"dataframe\">\n  <thead>\n    <tr style=\"text-align: right;\">\n      <th></th>\n      <th>lot_size</th>\n      <th>zipcode</th>\n      <th>latitude</th>\n      <th>longitude</th>\n      <th>sub_type</th>\n      <th>type</th>\n      <th>year_built</th>\n      <th>size</th>\n      <th>bathrooms</th>\n      <th>bedrooms</th>\n      <th>transaction_date</th>\n      <th>sale_price</th>\n    </tr>\n  </thead>\n  <tbody>\n    <tr>\n      <th>3388</th>\n      <td>0.6400</td>\n      <td>11706</td>\n      <td>40.765637</td>\n      <td>-73.256629</td>\n      <td>RESIDENTIAL</td>\n      <td>DUPLEX</td>\n      <td>0</td>\n      <td>0</td>\n      <td>0.0</td>\n      <td>0</td>\n      <td>2019-1-15</td>\n      <td>345000</td>\n    </tr>\n    <tr>\n      <th>4130</th>\n      <td>0.2000</td>\n      <td>11717</td>\n      <td>40.774461</td>\n      <td>-73.231779</td>\n      <td>RESIDENTIAL</td>\n      <td>SFR</td>\n      <td>0</td>\n      <td>0</td>\n      <td>0.0</td>\n      <td>0</td>\n      <td>2020-8-7</td>\n      <td>260000</td>\n    </tr>\n    <tr>\n      <th>2130</th>\n      <td>0.4800</td>\n      <td>11705</td>\n      <td>40.737591</td>\n      <td>-73.057204</td>\n      <td>RESIDENTIAL</td>\n      <td>SFR</td>\n      <td>0</td>\n      <td>0</td>\n      <td>0.0</td>\n      <td>0</td>\n      <td>2020-8-10</td>\n      <td>675000</td>\n    </tr>\n    <tr>\n      <th>2581</th>\n      <td>0.2500</td>\n      <td>11747</td>\n      <td>40.809840</td>\n      <td>-73.394432</td>\n      <td>RESIDENTIAL</td>\n      <td>SFR</td>\n      <td>0</td>\n      <td>0</td>\n      <td>0.0</td>\n      <td>0</td>\n      <td>2020-6-10</td>\n      <td>460000</td>\n    </tr>\n    <tr>\n      <th>2581</th>\n      <td>1.0000</td>\n      <td>11743</td>\n      <td>40.880160</td>\n      <td>-73.384401</td>\n      <td>RESIDENTIAL</td>\n      <td>SFR</td>\n      <td>0</td>\n      <td>0</td>\n      <td>0.0</td>\n      <td>0</td>\n      <td>2019-11-22</td>\n      <td>890000</td>\n    </tr>\n    <tr>\n      <th>4171</th>\n      <td>0.3600</td>\n      <td>11768</td>\n      <td>40.931598</td>\n      <td>-73.367628</td>\n      <td>RESIDENTIAL</td>\n      <td>SFR</td>\n      <td>0</td>\n      <td>0</td>\n      <td>0.0</td>\n      <td>0</td>\n      <td>2021-1-11</td>\n      <td>1265000</td>\n    </tr>\n    <tr>\n      <th>427</th>\n      <td>0.0494</td>\n      <td>11747</td>\n      <td>40.795979</td>\n      <td>-73.385685</td>\n      <td>RESIDENTIAL</td>\n      <td>SFR</td>\n      <td>0</td>\n      <td>0</td>\n      <td>0.0</td>\n      <td>0</td>\n      <td>2020-1-15</td>\n      <td>995000</td>\n    </tr>\n    <tr>\n      <th>1849</th>\n      <td>0.1800</td>\n      <td>11772</td>\n      <td>40.763765</td>\n      <td>-73.030806</td>\n      <td>RESIDENTIAL</td>\n      <td>SFR</td>\n      <td>0</td>\n      <td>1048</td>\n      <td>1.0</td>\n      <td>3</td>\n      <td>2021-1-8</td>\n      <td>291500</td>\n    </tr>\n    <tr>\n      <th>4952</th>\n      <td>0.3700</td>\n      <td>11779</td>\n      <td>40.791962</td>\n      <td>-73.129201</td>\n      <td>RESIDENTIAL</td>\n      <td>SFR</td>\n      <td>0</td>\n      <td>0</td>\n      <td>0.0</td>\n      <td>0</td>\n      <td>2019-9-25</td>\n      <td>505000</td>\n    </tr>\n    <tr>\n      <th>693</th>\n      <td>0.2700</td>\n      <td>11755</td>\n      <td>40.854541</td>\n      <td>-73.118424</td>\n      <td>RESIDENTIAL</td>\n      <td>SFR</td>\n      <td>0</td>\n      <td>1372</td>\n      <td>1.0</td>\n      <td>3</td>\n      <td>2019-1-3</td>\n      <td>354000</td>\n    </tr>\n    <tr>\n      <th>132</th>\n      <td>0.6200</td>\n      <td>11721</td>\n      <td>40.893298</td>\n      <td>-73.370260</td>\n      <td>RESIDENTIAL</td>\n      <td>SFR</td>\n      <td>0</td>\n      <td>0</td>\n      <td>0.0</td>\n      <td>0</td>\n      <td>2020-3-3</td>\n      <td>815000</td>\n    </tr>\n    <tr>\n      <th>4382</th>\n      <td>0.0661</td>\n      <td>11704</td>\n      <td>40.713854</td>\n      <td>-73.344549</td>\n      <td>RESIDENTIAL</td>\n      <td>COMMERCIAL ACREAGE</td>\n      <td>0</td>\n      <td>0</td>\n      <td>0.0</td>\n      <td>0</td>\n      <td>2019-7-9</td>\n      <td>2000000</td>\n    </tr>\n    <tr>\n      <th>3483</th>\n      <td>0.2200</td>\n      <td>11720</td>\n      <td>40.870153</td>\n      <td>-73.082600</td>\n      <td>RESIDENTIAL</td>\n      <td>SFR</td>\n      <td>0</td>\n      <td>1500</td>\n      <td>1.0</td>\n      <td>3</td>\n      <td>2019-10-31</td>\n      <td>418000</td>\n    </tr>\n    <tr>\n      <th>8989</th>\n      <td>0.0170</td>\n      <td>11763</td>\n      <td>40.844261</td>\n      <td>-72.999573</td>\n      <td>RESIDENTIAL</td>\n      <td>CONDOMINIUM</td>\n      <td>0</td>\n      <td>1008</td>\n      <td>1.0</td>\n      <td>1</td>\n      <td>2019-8-14</td>\n      <td>268750</td>\n    </tr>\n    <tr>\n      <th>3011</th>\n      <td>0.1800</td>\n      <td>11746</td>\n      <td>40.829755</td>\n      <td>-73.417651</td>\n      <td>RESIDENTIAL</td>\n      <td>SFR</td>\n      <td>0</td>\n      <td>0</td>\n      <td>0.0</td>\n      <td>0</td>\n      <td>2019-8-5</td>\n      <td>430000</td>\n    </tr>\n    <tr>\n      <th>2806</th>\n      <td>2.0000</td>\n      <td>11724</td>\n      <td>40.858559</td>\n      <td>-73.443764</td>\n      <td>RESIDENTIAL</td>\n      <td>SFR</td>\n      <td>0</td>\n      <td>0</td>\n      <td>0.0</td>\n      <td>0</td>\n      <td>2019-8-28</td>\n      <td>1750000</td>\n    </tr>\n    <tr>\n      <th>3359</th>\n      <td>0.3400</td>\n      <td>11706</td>\n      <td>40.740171</td>\n      <td>-73.273117</td>\n      <td>RESIDENTIAL</td>\n      <td>SFR</td>\n      <td>0</td>\n      <td>0</td>\n      <td>0.0</td>\n      <td>0</td>\n      <td>2019-1-18</td>\n      <td>469000</td>\n    </tr>\n    <tr>\n      <th>1604</th>\n      <td>0.0600</td>\n      <td>11953</td>\n      <td>40.886778</td>\n      <td>-72.953486</td>\n      <td>RESIDENTIAL</td>\n      <td>SFR</td>\n      <td>0</td>\n      <td>0</td>\n      <td>0.0</td>\n      <td>0</td>\n      <td>2020-6-5</td>\n      <td>275000</td>\n    </tr>\n    <tr>\n      <th>2054</th>\n      <td>0.2400</td>\n      <td>11767</td>\n      <td>40.852986</td>\n      <td>-73.131529</td>\n      <td>HOUSE</td>\n      <td>SFR</td>\n      <td>1968</td>\n      <td>2028</td>\n      <td>3.0</td>\n      <td>3</td>\n      <td>2019-5-31</td>\n      <td>498500</td>\n    </tr>\n    <tr>\n      <th>547</th>\n      <td>0.1600</td>\n      <td>11772</td>\n      <td>40.764410</td>\n      <td>-73.032457</td>\n      <td>RESIDENTIAL</td>\n      <td>SFR</td>\n      <td>0</td>\n      <td>979</td>\n      <td>1.0</td>\n      <td>2</td>\n      <td>2019-1-30</td>\n      <td>319300</td>\n    </tr>\n  </tbody>\n</table>\n</div>"
     },
     "metadata": {},
     "execution_count": 170
    }
   ],
   "source": [
    "merged_df_dict['Suffolk'].sample(20)"
   ]
  },
  {
   "cell_type": "code",
   "execution_count": 174,
   "metadata": {},
   "outputs": [
    {
     "output_type": "execute_result",
     "data": {
      "text/plain": [
       "      lot_size zipcode   latitude   longitude     sub_type type  year_built  \\\n",
       "3977    1.0000   11975  40.950800  -72.238100  RESIDENTIAL  SFR           0   \n",
       "1251    0.3500   11766  40.928180  -73.021396  RESIDENTIAL  SFR           0   \n",
       "7356    0.1700   11743  40.866001  -73.421423  RESIDENTIAL  SFR           0   \n",
       "5094    0.5455   11954  41.026638  -71.970759  RESIDENTIAL  SFR           0   \n",
       "5456    0.1700   11747  40.789976  -73.412164  RESIDENTIAL  SFR           0   \n",
       "3455    0.1200   11963  40.994347  -72.333400        HOUSE  SFR        1997   \n",
       "2323    0.2800   11963  40.993954  -72.294971        HOUSE  SFR        1991   \n",
       "145     0.4500   11788  40.816469  -73.229524  RESIDENTIAL  SFR           0   \n",
       "2966    0.3800   11767  40.839924  -73.137715  RESIDENTIAL  SFR           0   \n",
       "3322    1.0000   11746  40.809423  -73.344520  RESIDENTIAL  SFR           0   \n",
       "8796    0.8400   11705  40.736483  -73.067040  RESIDENTIAL  SFR           0   \n",
       "6129    0.2800   11901  40.976864  -72.689277        HOUSE  SFR        2001   \n",
       "1048    1.0700   11792  40.960216  -72.841794        HOUSE  SFR        1999   \n",
       "6749    0.2300   11751  40.743477  -73.222530  RESIDENTIAL  SFR           0   \n",
       "1519    0.4300   11937  41.038526  -72.154256  RESIDENTIAL  SFR           0   \n",
       "3007    0.7000   11751  40.717286  -73.218174  RESIDENTIAL  SFR           0   \n",
       "908     0.1200   11746  40.833520  -73.393688  RESIDENTIAL  SFR           0   \n",
       "1415    0.9200   11937  41.000740  -72.193110  RESIDENTIAL  SFR           0   \n",
       "1128    0.6700   11763  40.824596  -73.004295  RESIDENTIAL  SFR           0   \n",
       "1962    0.1100   11967  40.763436  -72.873733  RESIDENTIAL  SFR           0   \n",
       "\n",
       "      size  bathrooms  bedrooms transaction_date  sale_price  \n",
       "3977     0        0.0         0        2020-3-25     3400000  \n",
       "1251  2115        2.0         3       2020-12-30      540000  \n",
       "7356     0        0.0         0        2020-8-13      546500  \n",
       "5094     0        0.0         0        2019-4-18     4417600  \n",
       "5456     0        0.0         0        2020-7-15      665000  \n",
       "3455   640        1.0         2       2019-10-29      655000  \n",
       "2323  1228        1.0         3         2019-4-8      955000  \n",
       "145      0        0.0         0        2019-3-22      612500  \n",
       "2966     0        0.0         0        2020-8-14      650000  \n",
       "3322     0        0.0         0       2020-10-29      885000  \n",
       "8796     0        0.0         0         2019-9-4      350000  \n",
       "6129  1417        3.0         2         2020-3-9      350000  \n",
       "1048  2547        3.0         4        2020-11-3      629000  \n",
       "6749     0        0.0         0        2020-10-9      415000  \n",
       "1519     0        0.0         0        2020-9-21      522080  \n",
       "3007     0        0.0         0        2020-3-31      580000  \n",
       "908      0        0.0         0         2019-8-1      380000  \n",
       "1415     0        0.0         0        2019-5-23      918000  \n",
       "1128     0        0.0         0        2019-1-30      400000  \n",
       "1962  1050        1.0         3       2020-12-29      277312  "
      ],
      "text/html": "<div>\n<style scoped>\n    .dataframe tbody tr th:only-of-type {\n        vertical-align: middle;\n    }\n\n    .dataframe tbody tr th {\n        vertical-align: top;\n    }\n\n    .dataframe thead th {\n        text-align: right;\n    }\n</style>\n<table border=\"1\" class=\"dataframe\">\n  <thead>\n    <tr style=\"text-align: right;\">\n      <th></th>\n      <th>lot_size</th>\n      <th>zipcode</th>\n      <th>latitude</th>\n      <th>longitude</th>\n      <th>sub_type</th>\n      <th>type</th>\n      <th>year_built</th>\n      <th>size</th>\n      <th>bathrooms</th>\n      <th>bedrooms</th>\n      <th>transaction_date</th>\n      <th>sale_price</th>\n    </tr>\n  </thead>\n  <tbody>\n    <tr>\n      <th>3977</th>\n      <td>1.0000</td>\n      <td>11975</td>\n      <td>40.950800</td>\n      <td>-72.238100</td>\n      <td>RESIDENTIAL</td>\n      <td>SFR</td>\n      <td>0</td>\n      <td>0</td>\n      <td>0.0</td>\n      <td>0</td>\n      <td>2020-3-25</td>\n      <td>3400000</td>\n    </tr>\n    <tr>\n      <th>1251</th>\n      <td>0.3500</td>\n      <td>11766</td>\n      <td>40.928180</td>\n      <td>-73.021396</td>\n      <td>RESIDENTIAL</td>\n      <td>SFR</td>\n      <td>0</td>\n      <td>2115</td>\n      <td>2.0</td>\n      <td>3</td>\n      <td>2020-12-30</td>\n      <td>540000</td>\n    </tr>\n    <tr>\n      <th>7356</th>\n      <td>0.1700</td>\n      <td>11743</td>\n      <td>40.866001</td>\n      <td>-73.421423</td>\n      <td>RESIDENTIAL</td>\n      <td>SFR</td>\n      <td>0</td>\n      <td>0</td>\n      <td>0.0</td>\n      <td>0</td>\n      <td>2020-8-13</td>\n      <td>546500</td>\n    </tr>\n    <tr>\n      <th>5094</th>\n      <td>0.5455</td>\n      <td>11954</td>\n      <td>41.026638</td>\n      <td>-71.970759</td>\n      <td>RESIDENTIAL</td>\n      <td>SFR</td>\n      <td>0</td>\n      <td>0</td>\n      <td>0.0</td>\n      <td>0</td>\n      <td>2019-4-18</td>\n      <td>4417600</td>\n    </tr>\n    <tr>\n      <th>5456</th>\n      <td>0.1700</td>\n      <td>11747</td>\n      <td>40.789976</td>\n      <td>-73.412164</td>\n      <td>RESIDENTIAL</td>\n      <td>SFR</td>\n      <td>0</td>\n      <td>0</td>\n      <td>0.0</td>\n      <td>0</td>\n      <td>2020-7-15</td>\n      <td>665000</td>\n    </tr>\n    <tr>\n      <th>3455</th>\n      <td>0.1200</td>\n      <td>11963</td>\n      <td>40.994347</td>\n      <td>-72.333400</td>\n      <td>HOUSE</td>\n      <td>SFR</td>\n      <td>1997</td>\n      <td>640</td>\n      <td>1.0</td>\n      <td>2</td>\n      <td>2019-10-29</td>\n      <td>655000</td>\n    </tr>\n    <tr>\n      <th>2323</th>\n      <td>0.2800</td>\n      <td>11963</td>\n      <td>40.993954</td>\n      <td>-72.294971</td>\n      <td>HOUSE</td>\n      <td>SFR</td>\n      <td>1991</td>\n      <td>1228</td>\n      <td>1.0</td>\n      <td>3</td>\n      <td>2019-4-8</td>\n      <td>955000</td>\n    </tr>\n    <tr>\n      <th>145</th>\n      <td>0.4500</td>\n      <td>11788</td>\n      <td>40.816469</td>\n      <td>-73.229524</td>\n      <td>RESIDENTIAL</td>\n      <td>SFR</td>\n      <td>0</td>\n      <td>0</td>\n      <td>0.0</td>\n      <td>0</td>\n      <td>2019-3-22</td>\n      <td>612500</td>\n    </tr>\n    <tr>\n      <th>2966</th>\n      <td>0.3800</td>\n      <td>11767</td>\n      <td>40.839924</td>\n      <td>-73.137715</td>\n      <td>RESIDENTIAL</td>\n      <td>SFR</td>\n      <td>0</td>\n      <td>0</td>\n      <td>0.0</td>\n      <td>0</td>\n      <td>2020-8-14</td>\n      <td>650000</td>\n    </tr>\n    <tr>\n      <th>3322</th>\n      <td>1.0000</td>\n      <td>11746</td>\n      <td>40.809423</td>\n      <td>-73.344520</td>\n      <td>RESIDENTIAL</td>\n      <td>SFR</td>\n      <td>0</td>\n      <td>0</td>\n      <td>0.0</td>\n      <td>0</td>\n      <td>2020-10-29</td>\n      <td>885000</td>\n    </tr>\n    <tr>\n      <th>8796</th>\n      <td>0.8400</td>\n      <td>11705</td>\n      <td>40.736483</td>\n      <td>-73.067040</td>\n      <td>RESIDENTIAL</td>\n      <td>SFR</td>\n      <td>0</td>\n      <td>0</td>\n      <td>0.0</td>\n      <td>0</td>\n      <td>2019-9-4</td>\n      <td>350000</td>\n    </tr>\n    <tr>\n      <th>6129</th>\n      <td>0.2800</td>\n      <td>11901</td>\n      <td>40.976864</td>\n      <td>-72.689277</td>\n      <td>HOUSE</td>\n      <td>SFR</td>\n      <td>2001</td>\n      <td>1417</td>\n      <td>3.0</td>\n      <td>2</td>\n      <td>2020-3-9</td>\n      <td>350000</td>\n    </tr>\n    <tr>\n      <th>1048</th>\n      <td>1.0700</td>\n      <td>11792</td>\n      <td>40.960216</td>\n      <td>-72.841794</td>\n      <td>HOUSE</td>\n      <td>SFR</td>\n      <td>1999</td>\n      <td>2547</td>\n      <td>3.0</td>\n      <td>4</td>\n      <td>2020-11-3</td>\n      <td>629000</td>\n    </tr>\n    <tr>\n      <th>6749</th>\n      <td>0.2300</td>\n      <td>11751</td>\n      <td>40.743477</td>\n      <td>-73.222530</td>\n      <td>RESIDENTIAL</td>\n      <td>SFR</td>\n      <td>0</td>\n      <td>0</td>\n      <td>0.0</td>\n      <td>0</td>\n      <td>2020-10-9</td>\n      <td>415000</td>\n    </tr>\n    <tr>\n      <th>1519</th>\n      <td>0.4300</td>\n      <td>11937</td>\n      <td>41.038526</td>\n      <td>-72.154256</td>\n      <td>RESIDENTIAL</td>\n      <td>SFR</td>\n      <td>0</td>\n      <td>0</td>\n      <td>0.0</td>\n      <td>0</td>\n      <td>2020-9-21</td>\n      <td>522080</td>\n    </tr>\n    <tr>\n      <th>3007</th>\n      <td>0.7000</td>\n      <td>11751</td>\n      <td>40.717286</td>\n      <td>-73.218174</td>\n      <td>RESIDENTIAL</td>\n      <td>SFR</td>\n      <td>0</td>\n      <td>0</td>\n      <td>0.0</td>\n      <td>0</td>\n      <td>2020-3-31</td>\n      <td>580000</td>\n    </tr>\n    <tr>\n      <th>908</th>\n      <td>0.1200</td>\n      <td>11746</td>\n      <td>40.833520</td>\n      <td>-73.393688</td>\n      <td>RESIDENTIAL</td>\n      <td>SFR</td>\n      <td>0</td>\n      <td>0</td>\n      <td>0.0</td>\n      <td>0</td>\n      <td>2019-8-1</td>\n      <td>380000</td>\n    </tr>\n    <tr>\n      <th>1415</th>\n      <td>0.9200</td>\n      <td>11937</td>\n      <td>41.000740</td>\n      <td>-72.193110</td>\n      <td>RESIDENTIAL</td>\n      <td>SFR</td>\n      <td>0</td>\n      <td>0</td>\n      <td>0.0</td>\n      <td>0</td>\n      <td>2019-5-23</td>\n      <td>918000</td>\n    </tr>\n    <tr>\n      <th>1128</th>\n      <td>0.6700</td>\n      <td>11763</td>\n      <td>40.824596</td>\n      <td>-73.004295</td>\n      <td>RESIDENTIAL</td>\n      <td>SFR</td>\n      <td>0</td>\n      <td>0</td>\n      <td>0.0</td>\n      <td>0</td>\n      <td>2019-1-30</td>\n      <td>400000</td>\n    </tr>\n    <tr>\n      <th>1962</th>\n      <td>0.1100</td>\n      <td>11967</td>\n      <td>40.763436</td>\n      <td>-72.873733</td>\n      <td>RESIDENTIAL</td>\n      <td>SFR</td>\n      <td>0</td>\n      <td>1050</td>\n      <td>1.0</td>\n      <td>3</td>\n      <td>2020-12-29</td>\n      <td>277312</td>\n    </tr>\n  </tbody>\n</table>\n</div>"
     },
     "metadata": {},
     "execution_count": 174
    }
   ],
   "source": [
    "merged_df_dict['Suffolk'][merged_df_dict['Suffolk']['type'] == 'SFR'].sample(20)"
   ]
  },
  {
   "cell_type": "code",
   "execution_count": 162,
   "metadata": {},
   "outputs": [],
   "source": [
    "data = json.load(open('datasets/NY_data/attom_county_sales/Round 1 Calls/CO09011'))\n",
    "test = pd.json_normalize(data)"
   ]
  },
  {
   "cell_type": "code",
   "execution_count": 163,
   "metadata": {},
   "outputs": [
    {
     "output_type": "execute_result",
     "data": {
      "text/plain": [
       "      building.rooms.bathstotal  building.rooms.beds\n",
       "4136                        3.0                    4\n",
       "266                         2.0                    3\n",
       "2470                        1.0                    3\n",
       "2906                        0.0                    1\n",
       "1815                        6.0                    6\n",
       "1352                        4.0                    5\n",
       "1690                        4.0                    4\n",
       "84                          3.0                    3\n",
       "4640                        2.0                    3\n",
       "2666                        3.0                    3\n",
       "370                         0.0                    0\n",
       "2159                        2.0                    3\n",
       "329                         4.0                    4\n",
       "4029                        2.0                    3\n",
       "2298                        3.0                    5\n",
       "3060                        3.0                    4\n",
       "1888                        3.0                    4\n",
       "1150                        2.0                    3\n",
       "3250                        2.0                    3\n",
       "3168                        1.0                    2"
      ],
      "text/html": "<div>\n<style scoped>\n    .dataframe tbody tr th:only-of-type {\n        vertical-align: middle;\n    }\n\n    .dataframe tbody tr th {\n        vertical-align: top;\n    }\n\n    .dataframe thead th {\n        text-align: right;\n    }\n</style>\n<table border=\"1\" class=\"dataframe\">\n  <thead>\n    <tr style=\"text-align: right;\">\n      <th></th>\n      <th>building.rooms.bathstotal</th>\n      <th>building.rooms.beds</th>\n    </tr>\n  </thead>\n  <tbody>\n    <tr>\n      <th>4136</th>\n      <td>3.0</td>\n      <td>4</td>\n    </tr>\n    <tr>\n      <th>266</th>\n      <td>2.0</td>\n      <td>3</td>\n    </tr>\n    <tr>\n      <th>2470</th>\n      <td>1.0</td>\n      <td>3</td>\n    </tr>\n    <tr>\n      <th>2906</th>\n      <td>0.0</td>\n      <td>1</td>\n    </tr>\n    <tr>\n      <th>1815</th>\n      <td>6.0</td>\n      <td>6</td>\n    </tr>\n    <tr>\n      <th>1352</th>\n      <td>4.0</td>\n      <td>5</td>\n    </tr>\n    <tr>\n      <th>1690</th>\n      <td>4.0</td>\n      <td>4</td>\n    </tr>\n    <tr>\n      <th>84</th>\n      <td>3.0</td>\n      <td>3</td>\n    </tr>\n    <tr>\n      <th>4640</th>\n      <td>2.0</td>\n      <td>3</td>\n    </tr>\n    <tr>\n      <th>2666</th>\n      <td>3.0</td>\n      <td>3</td>\n    </tr>\n    <tr>\n      <th>370</th>\n      <td>0.0</td>\n      <td>0</td>\n    </tr>\n    <tr>\n      <th>2159</th>\n      <td>2.0</td>\n      <td>3</td>\n    </tr>\n    <tr>\n      <th>329</th>\n      <td>4.0</td>\n      <td>4</td>\n    </tr>\n    <tr>\n      <th>4029</th>\n      <td>2.0</td>\n      <td>3</td>\n    </tr>\n    <tr>\n      <th>2298</th>\n      <td>3.0</td>\n      <td>5</td>\n    </tr>\n    <tr>\n      <th>3060</th>\n      <td>3.0</td>\n      <td>4</td>\n    </tr>\n    <tr>\n      <th>1888</th>\n      <td>3.0</td>\n      <td>4</td>\n    </tr>\n    <tr>\n      <th>1150</th>\n      <td>2.0</td>\n      <td>3</td>\n    </tr>\n    <tr>\n      <th>3250</th>\n      <td>2.0</td>\n      <td>3</td>\n    </tr>\n    <tr>\n      <th>3168</th>\n      <td>1.0</td>\n      <td>2</td>\n    </tr>\n  </tbody>\n</table>\n</div>"
     },
     "metadata": {},
     "execution_count": 163
    }
   ],
   "source": [
    "test[['building.rooms.bathstotal', 'building.rooms.beds']].sample(20)"
   ]
  },
  {
   "cell_type": "code",
   "execution_count": 164,
   "metadata": {},
   "outputs": [
    {
     "output_type": "execute_result",
     "data": {
      "text/plain": [
       "(4746, 43)"
      ]
     },
     "metadata": {},
     "execution_count": 164
    }
   ],
   "source": [
    "test.shape"
   ]
  },
  {
   "cell_type": "code",
   "execution_count": null,
   "metadata": {},
   "outputs": [],
   "source": []
  }
 ],
 "metadata": {
  "kernelspec": {
   "display_name": "Python 3",
   "language": "python",
   "name": "python3"
  },
  "language_info": {
   "codemirror_mode": {
    "name": "ipython",
    "version": 3
   },
   "file_extension": ".py",
   "mimetype": "text/x-python",
   "name": "python",
   "nbconvert_exporter": "python",
   "pygments_lexer": "ipython3",
   "version": "3.9.1"
  }
 },
 "nbformat": 4,
 "nbformat_minor": 4
}