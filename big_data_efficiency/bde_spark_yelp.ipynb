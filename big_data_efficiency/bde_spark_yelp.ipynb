{
 "cells": [
  {
   "cell_type": "markdown",
   "metadata": {},
   "source": [
    "# Spark RDD User Defined Functions & Yelp Dataset"
   ]
  },
  {
   "cell_type": "code",
   "execution_count": 1,
   "metadata": {},
   "outputs": [],
   "source": [
    "from pyspark.sql import SparkSession\n",
    "import pyspark.sql.functions as f\n",
    "from pyspark.sql.functions import udf \n",
    "from pyspark.sql.types import TimestampType \n",
    "from pyspark.sql.types import MapType \n",
    "from pyspark.sql.types import StringType \n",
    "from pyspark.sql.types import IntegerType \n",
    "from pyspark.sql.types import ArrayType \n",
    "from pyspark.sql.functions import hour \n",
    "from pyspark.sql.functions import col\n",
    "import re\n",
    "\n",
    "# start the park session & context\n",
    "spark = SparkSession.builder.master(\"local[*]\").appName('Sparky').getOrCreate()\n",
    "\n",
    "sc = spark.sparkContext"
   ]
  },
  {
   "cell_type": "code",
   "execution_count": 2,
   "metadata": {},
   "outputs": [],
   "source": [
    "# read in some data\n",
    "\n",
    "business = spark.read.json('../non_auto_assignments/data/yelp_academic/yelp_academic_dataset_business.json.gz')\n",
    "checkin = spark.read.json('../non_auto_assignments/data/yelp_academic/yelp_academic_dataset_checkin.json.gz')\n",
    "review = spark.read.json('../non_auto_assignments/data/yelp_academic/yelp_academic_dataset_review.json.gz')\n",
    "tip = spark.read.json('../non_auto_assignments/data/yelp_academic/yelp_academic_dataset_tip.json.gz')\n",
    "user = spark.read.json('../non_auto_assignments/data/yelp_academic/yelp_academic_dataset_user.json.gz')"
   ]
  },
  {
   "cell_type": "markdown",
   "metadata": {},
   "source": [
    "### How many users have received more than 5000 cool votes?"
   ]
  },
  {
   "cell_type": "code",
   "execution_count": 3,
   "metadata": {},
   "outputs": [
    {
     "name": "stdout",
     "output_type": "stream",
     "text": [
      "root\n",
      " |-- average_stars: double (nullable = true)\n",
      " |-- compliment_cool: long (nullable = true)\n",
      " |-- compliment_cute: long (nullable = true)\n",
      " |-- compliment_funny: long (nullable = true)\n",
      " |-- compliment_hot: long (nullable = true)\n",
      " |-- compliment_list: long (nullable = true)\n",
      " |-- compliment_more: long (nullable = true)\n",
      " |-- compliment_note: long (nullable = true)\n",
      " |-- compliment_photos: long (nullable = true)\n",
      " |-- compliment_plain: long (nullable = true)\n",
      " |-- compliment_profile: long (nullable = true)\n",
      " |-- compliment_writer: long (nullable = true)\n",
      " |-- cool: long (nullable = true)\n",
      " |-- elite: string (nullable = true)\n",
      " |-- fans: long (nullable = true)\n",
      " |-- friends: string (nullable = true)\n",
      " |-- funny: long (nullable = true)\n",
      " |-- name: string (nullable = true)\n",
      " |-- review_count: long (nullable = true)\n",
      " |-- useful: long (nullable = true)\n",
      " |-- user_id: string (nullable = true)\n",
      " |-- yelping_since: string (nullable = true)\n",
      "\n"
     ]
    }
   ],
   "source": [
    "user.printSchema()"
   ]
  },
  {
   "cell_type": "code",
   "execution_count": 4,
   "metadata": {},
   "outputs": [
    {
     "name": "stdout",
     "output_type": "stream",
     "text": [
      "79\n"
     ]
    }
   ],
   "source": [
    "result = user.filter(user['compliment_cool'] > 5000).count()\n",
    "print(result)"
   ]
  },
  {
   "cell_type": "markdown",
   "metadata": {},
   "source": [
    "### What are the top 10 most useful positive reviews?\n",
    "<p> I considered a 5 star review as a positive review. I then took the top ten useful 5 star reviews by sort order and did not consider ties. The top ten 5 star reivews had useful cvotes of between 358 and 203.</p>"
   ]
  },
  {
   "cell_type": "code",
   "execution_count": 5,
   "metadata": {},
   "outputs": [],
   "source": [
    "pos_review = review['stars','text','useful'].filter(review['stars'] == 5)"
   ]
  },
  {
   "cell_type": "code",
   "execution_count": 6,
   "metadata": {},
   "outputs": [],
   "source": [
    "top_ten = pos_review.orderBy(pos_review['useful'].desc()).head(10)"
   ]
  },
  {
   "cell_type": "code",
   "execution_count": 7,
   "metadata": {},
   "outputs": [
    {
     "data": {
      "text/plain": [
       "[Row(stars=5.0, text='The Wynn Hotel. One word. Opulent. \\n\\nWynn, is a luxury resort and casino located on the Las Vegas Strip. Named after the casino developer Steve Wynn, this $2.7 billion resort together with Encore is the world\\'s seventh-largest hotels and one of the finest in the world. \\n\\nHolding the title for the highest rated resort company in the world with 16 Forbes Travel Guide Five-Star Awards, AAA five diamond, Mobil five-star, Michelin five star, and Zagat Survey Top U.S. Hotel ratings, as well as one Michelin star for its restaurant Wing Lei, the first Chinese restaurant to receive a Michelin Star in the country. \\n\\nThe Wynn is a genre almost entirely their own. Talk about a blend of opulent creativity and seductive comfort. Wynn Hotel designer Roger Thomas calls it \"Evocatect.\" The \"architecture that evokes wonderful moments in people\\'s lives.\" \\n\\nShare a moment alone or with someone special and walk through the sunlit Atrium, gaze at the immense beauty of the Parasols, dine at one of their Four-Star Award-winning restaurants, which holds more awards than any other independent resort in North America, shop at Chanel, Dior, or Louie Vuitton just to name a few, enjoy their epic casino gaming floor or just take a load off and stay at one of their exquisite rooms. \\n\\nWhatever you decide to do at the Wynn, their magnificent ambience and hospitality will create such an extraordinary emotional experience you will never forget.', useful=358),\n",
       " Row(stars=5.0, text='Wayne does a fantastic Job, always on time, my carpets are beautiful when he leaves as is my grout that he scrubs back to the way it looked the day it was being put in.  He is always ON TIME, and his rates are fantastic,  He is the best I have ever used.  Give this company a try.  He is also owner/operator so it is always important to support local businesses.', useful=278),\n",
       " Row(stars=5.0, text=\"This is one of the most interesting classic lofts complex this dude has seen.  In 1901, they built this place by Allegheny river to be the biggest cork factory in the world. This dude came to Pittsburgh in July 2016. Management here are courteous and pleasant. This place is only for rent; you can't own. They have high ceilings, red brick walls, gorgeous courtyard, lovely outdoor seats, fire pit and most importantly amazing neighbors.\\n\\nDogs are more than humans here. They have cool dogs shower at the basement. Maintenance staff are excellent here. Parking is ~$90/month. 1Br lofts ~$1700/month. Washer dryer are in unit. Concierge, business center and fitness are 24 hour. Dry cleaning is available. This dude will miss having dinners and tea with lovely neighbors by the courtyard watching the sunset. I could write pages of details. Ask if you have questions. \\n\\nNegatives: There is no perfect place. There are some ''fixable'' issues. I was hoping for a gas stove, digital thermostat, soft-closing cabinets and toilet seat. Also the elevator and corridors occasionally smell bad. \\n\\nGiving the enormous room, it would work perfectly for couples or hoarders here. I'm a minimalist and had a hard time filling my loft with stuff. Overall, it's a unique facility that is worth checking out. Five solid stars. My neighbors, I love you.\", useful=241),\n",
       " Row(stars=5.0, text=\"Wenn man auf dem Strip zu Fuß unterwegs ist, sollte man es nicht versäumen, auch mal in die LINQ Promenade abzubiegen. Sie befindet sich gegenüber vom Caesars Palace zwischen dem Hotel The LINQ Resort and Casino und dem Flamingo Hotel.\\n\\nEröffnet wurde diese Flaniermeile am 1. April 2014 und ist meines Erachtens eine wirkliche Bereicherung für diese Gegend. Erbaut wurde das Areal von der Caesars Entertainment und mit der Sängerin Britney Spears feierlich eröffnet.\\n\\nDie schön gestaltete Promenade bietet den Besuchern 400 Geschäfte und Restaurants in einer 200.000 Quadratmeter großen Fläche an. Am Ende der Straße wartet auf die Gäste die Hauptattraktion, der High Roller, ein 167 Meter hohes Riesenrad und damit das größte der Welt.\\n\\nUnter anderem befinden sich auf der Promenade O'Shea's Casino, Chayo, The Haute Doggery Hot Dog shop, Off the Strip Bistro, In-N-Out Burger, Sprinkles Cupcakes, Starbucks, Ghirardelli, Yard House, Tilted Kilt and Flour & Barley. Shops include Photo & Go, Pier 30, Bella Scarpa, 12A.M. Run, Chilli Beans, Goorin Bros. and Ruby Blue. \\n\\nBei In-N-Out Burger wird man zu den Hauptzeiten sicherlich lange warten müssen, denn die Absperrbänder lassen dies erahnen. Sicherlich momentan die beliebteste Burgerkette an der Westküste. Bei unserem Besuch, kurz vor Halloween, waren überall gruselige Gestalten aufgestellt. Eine wirklich tolle Idee, die bei den Besuchern der Promenade sehr gut ankam.\\n\\nEine weitere Attraktion der LINQ Promenade ist die Brooklyn Bowl, ein Musikveranstaltungsort mit einer Kapazität von mehr als 2.000 Konzertbesuchern. Brooklyn Bowl verfügt darüber hinaus über ein Restaurant, 32 Bowlingbahnen, nächtliche Live-Auftritte und einen Nachtclub.\\n\\nEinen Besuch der LINQ Promenade kann ich absolut empfehlen.\", useful=215),\n",
       " Row(stars=5.0, text=\"I stopped by Echo and Rig during lunch time on the weekend.  My server informed me that only brunch was being served, and that their regular menu is available at dinner times and on weekday lunches.  I really wanted to have a steak as I heard so much about their meats.  She talked to the kitchen and they were able to accommodate my request.  I went with the Spencer Steak.\\n\\nSpencer Steak ($29) - A Spencer steak is a 10oz. boneless rib eye.  Naturally I asked for my steak to be prepared medium rare.  All their steaks are cooked over red oak.  Some garlic chips and sauteed spinach accompanied my dish.  The steak tasted pretty good and was closer to being rare then medium rare.  My server explained to me that they do a true medium rare here and that many people are not used to it, and that she could put it back on the grill.  I thanked her but decided to eat the juicy steak as it was.  It was one of the better tasting steaks that I tried and surprised that the rib eye was under $30.\\n\\nBerry Shortcake ($6) - This consisted of berries, citrus shortcake, hibiscus syrup, whipped cream, and vanilla ice cream.  All the ingredients complemented each other really well and made for an incredible tasting dessert.  It was the perfect size to share with my part of 4.  All the desserts on the menu are priced at $6 and make for an affordable and delicious way to end the meal.\\n\\nOverall I was really impressed with my steak and dessert.  The service here was incredible as our server checked in on us throughout the course of the meal and made sure everyone was happy.  The next time I'm in the mood for steak and in Vegas, this will be the only place I will visit!\", useful=215),\n",
       " Row(stars=5.0, text=\"After spending a bunch of money on lunches and dinners during my stay in Las Vegas, it was good to find a place with reasonably priced breakfast options.  Located less then 2 miles from the Las Vegas City Center, this is an extremely convenient place to stop by for a quick bite to eat.   I know  everyone has been avoiding carbs, but for the few times that you do  choose to indulge in carbs, you will be hard pressed to find a better bagel.\\n\\nStandard bagel options include:\\nAsiago\\nBlueberry\\nChocolate Chip\\nCinnamon Raisin\\nCinnamon Sugar\\nCranberry\\nEgg\\nEverything\\nFrench Toast\\nGarlic\\n9-Grain\\nHoney Whole Wheat\\nOnion\\nPlain\\nPoppy Seed\\nPotato\\nPretzel\\nPumpernickel\\nSesame Seed\\n\\nWhile the following shmears are available:\\nPlain\\nOnion and Chive\\nSmoked Salmon\\nBlueberry\\nHoney Almond\\nStrawberry\\nGarden Veggie\\nGarlic & Herb\\nJalapeño Salsa\\nReduced Fat Plain\\nMaple\\n\\nThere are some gourmet bagel and special shmears available, depending on the season.  Honey almond is my personal favorite shmear.  Like all the other shmears it very creamy and light.  I love the taste of honey almond and it goes well with the cranberry bagel or cinnamon bagel.  \\n\\nOverall the bagels are soft, chewy and taste fresh whenever I have had them.  I've tried other chain brands and I have yet to find a better tasting bagel.  These bagels also remain fresh and taste great the following day.  I found this particular location to be clean and the staff to be friendly.  While other items such as sandwiches and egg sandwiches are available, I have yet to try those items.  I'll definitely be back whenever I'm in the Las Vegas area again.\", useful=210),\n",
       " Row(stars=5.0, text=\"Why spend hundreds of dollars bribing douchebag VIP hosts and currying favor with fickle tourist divas in the hopes of MAYBE scoring the proverbial happy ending?  The Red Rooster is a sure bet: people come here to party and to get laid, and don't bullshit about it.  It's a club without all the pretense and poseurs!  \\n\\nRun by a genial middle-aged couple out of their sprawling private residence, the Red Rooster is just plain folks, drinking and dancing and getting frisky.  Definitely not a room full of Barbies and hardbodies... but on the plus side, you won't be judged, ridiculed or taken advantage of.  People are welcoming and friendly, and you can definitely get some here, if your standards aren't impossibly high (or even reasonably high, truth be told)!\\n\\nBut even if you're not into having sex with strangers in public, this is the best entertainment deal in Vegas, hands down!  The people watching is phenomenal, with reality shows, dramas and pornos playing out LIVE in every corner.  The liquor policy is BYOB, but you check your bottle in at the bar, and they label it with your name and will pour you drinks all night long as you wander around in a state of sensory overload.  I had a BLAST here, and I didn't have sex with anyone or engage in anything more risque than a little booty-shaking on the dance floor (yes, there is a dance floor and dj spinning Top 40 hits)!  The best part is, Looky-Lous (as I admittedly was) are not frowned upon, and it's prefectly cool to just have a drink and kick back and enjoy the show.\\nIf you do want to participate, though, there are ample opportunities and extensive facilities -- a couples-only area upstairs, and an orgy room, indoor pool area, and myriad cozy little fuck-worthy nooks & crannies downstairs.\\nDefinitely not for the shy or faint of heart... but if you're into a different kind of experience that takes the idea of recreation to the next level, try it out!\", useful=208),\n",
       " Row(stars=5.0, text='Unser eher bescheidenes Motel war in der Nähe des riesigen Wynn Las Vegas Hotel, auf das wir immer neidisch schauten. Es ist ein Luxushotel, das im Jahre 2005 eröffnet wurde und nach dem Immobilienmogul Steve Wynn benannt wurde. Gleich daneben ist das im gleichen Stil gebaute Schwesternhotel Encore.\\n\\nBei seiner Eröffnung war es das teuerste Hotel am Strip und auf der Welt. Mir war vor zwei Jahren nicht klar, dass dies ebenfalls ein Casino-Hotel ist, da das Wynn mit keinen von der Straße zu bewundernden Attraktionen Besucher anlockt. Sehr sehenswert ist der \"Lake of Dreams\", auf den Bilder projiziert werden.\\n\\nDas Hotel steht für absolute Superlative in allen Bereichen und dem Gast soll hier nur das Beste geboten werden. Man kann hier Zimmer von mit 58 m² bis zu Suiten mit 650 m² buchen. Man kann hier einen Ferrari oder Maserati aus dem hauseigenen Fuhrpark für einen Ausflug mieten. Man kann auch den Golfplatz mit 18 Löchern nutzen oder sich von den dort arbeitenden Spitzenköchen verwöhnen lassen.\\n\\nIm Hotel befindet sich die imposante Kunstsammlung des Erbauers und man kann Theaterproduktionen, eine Artistik Show oder die  Wasserrevue Le Rêve besuchen. Den Abend kann man auch in diversen exklusiven Nachtclubs ausklingen lassen.\\n\\nBei unserem Rundgang durch das Hotel sind wir erst durch eine exklusive Einkaufspassage mit Geschäften von Chanel und Louis Vuitton gelaufen und sind dann an Bars, tollen Restaurants, Hochzeitskapellen und einem gigantisch großen Casino mit 1.800 Spielautomaten und 26 Pokertischen vorbeigekommen. Alles wirkt hier sehr edel und das Publikum hier im Hotel ist sehr gehoben.\\n\\nEin wirklich tolles Hotel das in Las Vegas seinesgleichen sucht.', useful=207),\n",
       " Row(stars=5.0, text='Auf unserer Rundreise haben wir häufig die Restaurantkette In-n-Out Burger besucht, die mit dem Versprechen \"Quality You Can Taste\" wirbt. In Las Vegas , an der Sahara Avenue, sind wir eingekehrt, da die Filiale am Strip total überlaufen ist. Im Internet konnte ich nachlesen, dass es das Unternehmen bereits seit 1948 gibt und es mittlerweile ca. 300 Restaurants im Westen der USA und Texas gibt.\\n\\nAm späten Abend war hier der Andrang nur mittelmäßig. Die Auswahl war einfach, da es nur drei verschiedene Burger und Pommes zur Auswahl gibt. Wenn man es dann zur Bestellung geschafft hat, bekommt man eine Nummer, die dann aufgerufen wird sobald die Bestellung fertig ist.\\n\\nAuf die Burger kommt nur gekühltes und kein gefrorenes Frischfleisch, das von der eigenen Fleischfabrik innerhalb von 24 Stunden geliefert wird. Die Kartoffeln für die Pommes werden im Restaurant aus frischen Kartoffeln hergestellt. Ich konnte es selber in der offenen Küche sehen, wie ein Mitarbeiter die Kartoffeln geschält und gewürfelt hat.\\n\\nPreislich bewegt man sich trotzdem weit unten, da man auf eine umfangreiche Auswahl verzichtet. Wenn man mit mehreren Leuten hier einkehrt, sollten die anderen ein Plätzchen im Restaurant sichern, da diese zu den Stoßzeiten ebenfalls rar sind.\\n\\nVor den meisten Läden findet man zwei gepflanzte Palmen, die gekreuzt wachsen und eine Anspielung auf den Lieblingsfilm des Inhabers \"Eine total, total verrückte Welt\" sein sollen. Eine weitere Marotte sind angedruckte Bibelstellen auf den Unterseiten der Getränkebecher.\\n\\nVon der Qualität des Essens und dem Preis- Leistungsverhältnis waren wir wirklich begeistert. Unser Lieblingsrestaurant während unserer Rundreise.', useful=207),\n",
       " Row(stars=5.0, text='Auf unserer Casino Besichtigungstour sind wir auch auf den noch recht neuen Park \"The Park\" gestoßen, der sich neben der T-Mobile Arena, dem Monte Carlo Hotel und dem New York-New York Resort befindet. Die vielen schattigen Sitzmöglichkeiten haben uns zu einer kleinen Pause eingeladen.\\n\\nIm April 2016 wurde dieser erste öffentliche Park von Las Vegas eröffnet und ist aus meiner Sicht wirklich gelungen. So hat man hier ca. 250 für diesen Ort geeignet Bäume gepflanzt und weitere 7.000 Pflanzen. Ergänzt wird das Konzept des Landschaftsarchitekten !melk mit einigen Wasserinstallationen.\\n\\nHerzstück des Parks ist sicherlich die 40 Fuß hohe Skulptur \"Bliss Dance\" und die 18 Meter hohen Baumkonstruktionen aus Stahl. Diese spenden den Besuchern Schatten und leuchten in der Nacht wunderschön. Die aufwendigen Konstruktionen wurden von einem Schiffsbauer in den Niederlanden gebaut. \\n\\nDer Park schlängelt sich auf der rechten Seite des New York-New York Resort entlang und bietet den Besuchern einige Lokalitäten mit frischen Drinks und Essen. So gibt es hier Beerhaus, Bruxie, SakeRok und California Pizza Kitchen. Im Eingangsbereichs des New York-New York Resort kann man auch Burger von der angesagten Restaurantkette Shake Shack käuflich erwerben.\\n\\nWir hatten uns aber lediglich ein schattiges Plätzchen gesucht und das bunte Treiben um uns herum beobachtet. Dieser Park ist wie in den USA üblich top gepflegt und sauber. Hier kann man sehr gut von der schrillen Casinostadt abschalten. Ein wirklich toll angelegter Park.', useful=203)]"
      ]
     },
     "execution_count": 7,
     "metadata": {},
     "output_type": "execute_result"
    }
   ],
   "source": [
    "top_ten"
   ]
  },
  {
   "cell_type": "markdown",
   "metadata": {},
   "source": [
    "### During what hour of the day do most checkins occur?"
   ]
  },
  {
   "cell_type": "code",
   "execution_count": 8,
   "metadata": {},
   "outputs": [
    {
     "name": "stdout",
     "output_type": "stream",
     "text": [
      "root\n",
      " |-- business_id: string (nullable = true)\n",
      " |-- date: string (nullable = true)\n",
      "\n"
     ]
    }
   ],
   "source": [
    "checkin.printSchema()"
   ]
  },
  {
   "cell_type": "markdown",
   "metadata": {},
   "source": [
    "<h3> First we try with pyspark functions</h3>"
   ]
  },
  {
   "cell_type": "code",
   "execution_count": 9,
   "metadata": {},
   "outputs": [],
   "source": [
    "split_list_udf = udf(lambda x: x.split(','), ArrayType(StringType())) # turn Date string into array for exploding"
   ]
  },
  {
   "cell_type": "code",
   "execution_count": 10,
   "metadata": {},
   "outputs": [],
   "source": [
    "checkin_list = checkin.withColumn(\"date_exploded\", f.explode(split_list_udf(col(\"date\"))))"
   ]
  },
  {
   "cell_type": "code",
   "execution_count": 11,
   "metadata": {},
   "outputs": [],
   "source": [
    "hours_df = checkin_list.withColumn('hour', hour(col(\"date_exploded\")))"
   ]
  },
  {
   "cell_type": "code",
   "execution_count": 12,
   "metadata": {},
   "outputs": [],
   "source": [
    "check_hour = hours_df.groupby(['hour']).count().sort('count', ascending=False)"
   ]
  },
  {
   "cell_type": "code",
   "execution_count": 13,
   "metadata": {},
   "outputs": [
    {
     "name": "stdout",
     "output_type": "stream",
     "text": [
      "+----+--------+\n",
      "|hour|   count|\n",
      "+----+--------+\n",
      "|null|18927198|\n",
      "|  19|   13481|\n",
      "|  23|   13207|\n",
      "|  22|   13191|\n",
      "|  18|   13177|\n",
      "|  21|   12960|\n",
      "|  20|   12553|\n",
      "|  17|   12304|\n",
      "|   0|   11577|\n",
      "|  16|   10416|\n",
      "|   1|    9803|\n",
      "|   2|    7258|\n",
      "|  15|    7000|\n",
      "|   3|    5225|\n",
      "|  14|    4340|\n",
      "|   4|    3547|\n",
      "|  13|    2910|\n",
      "|   5|    2348|\n",
      "|  12|    1597|\n",
      "|   6|    1450|\n",
      "|   7|    1020|\n",
      "|  11|     824|\n",
      "|   8|     809|\n",
      "|  10|     483|\n",
      "+----+--------+\n",
      "only showing top 24 rows\n",
      "\n"
     ]
    }
   ],
   "source": [
    "check_hour.show(24)"
   ]
  },
  {
   "cell_type": "markdown",
   "metadata": {},
   "source": [
    "<h3> Next we try with User Defined Functions</h3>\n",
    "<p>Interestingly, pyspark function creates a bunch of null values because it is sensitive to spacing issues. To get around this I converted the string to an arary and indexed the array which allowed me to then group, sort and show when checkins are.</p>"
   ]
  },
  {
   "cell_type": "code",
   "execution_count": 14,
   "metadata": {},
   "outputs": [],
   "source": [
    "hour_udf = udf(lambda x: int(x.split()[1].split(':')[0]), IntegerType())"
   ]
  },
  {
   "cell_type": "code",
   "execution_count": 15,
   "metadata": {},
   "outputs": [],
   "source": [
    "string_hour = checkin_list.withColumn(\"hour\", hour_udf(col(\"date_exploded\")))"
   ]
  },
  {
   "cell_type": "code",
   "execution_count": 16,
   "metadata": {},
   "outputs": [],
   "source": [
    "string_check_hour = string_hour.groupby(['hour']).count().sort('hour', ascending=False)"
   ]
  },
  {
   "cell_type": "code",
   "execution_count": 17,
   "metadata": {},
   "outputs": [
    {
     "name": "stdout",
     "output_type": "stream",
     "text": [
      "+----+-------+\n",
      "|hour|  count|\n",
      "+----+-------+\n",
      "|  23|1344117|\n",
      "|  22|1257437|\n",
      "|  21|1238808|\n",
      "|  20|1350195|\n",
      "|  19|1502271|\n",
      "|  18|1272108|\n",
      "|  17|1006102|\n",
      "|  16| 852076|\n",
      "|  15| 617830|\n",
      "|  14| 418340|\n",
      "|  13| 270145|\n",
      "|  12| 178910|\n",
      "|  11| 111769|\n",
      "|  10|  88486|\n",
      "|   9| 100568|\n",
      "|   8| 151065|\n",
      "|   7| 231417|\n",
      "|   6| 321764|\n",
      "|   5| 485129|\n",
      "|   4| 747453|\n",
      "|   3|1078939|\n",
      "|   2|1411255|\n",
      "|   1|1561788|\n",
      "|   0|1491176|\n",
      "+----+-------+\n",
      "\n"
     ]
    }
   ],
   "source": [
    "string_check_hour.show(24)"
   ]
  },
  {
   "cell_type": "markdown",
   "metadata": {},
   "source": [
    "### Sentiment analysis\n",
    "<p>Aknowledging the fact that people often use slang words, emphatic spelling, and mispell in life and in reviews, I let the expressions intersect themselves. I did not want to force a perspective on how people expression themselves in the written form. I considered a positive review as a review with 5 stars and a negative review as a review with 1 or less stars. My thinking is that 2-4 stars is an average review. Once I filtered the datasets based on these conditions, I then created a list of words used in the review that were not \"stop words\". After I found the intersection of the words used in positive and negative reviews I then filtered on the inverse of the intersection list. This allowed me to show the top 50 unique \"words\" used in positive and negative reviews. I was quite surprised by the slang words, acronyms and emphatic spelling that was in the resulting sets. </p>"
   ]
  },
  {
   "cell_type": "code",
   "execution_count": 18,
   "metadata": {},
   "outputs": [],
   "source": [
    "def stop(text):\n",
    "    STOPWORDS = {'i', 'we', 'ourselves', 'hers', 'between', 'yourself', 'but', 'again', 'there', 'about', 'once', 'during', 'out', 'very', 'having', 'with', 'they', 'own', 'an', 'be', 'some', 'for', 'do', 'its', 'yours', 'such', 'into', 'of', 'most', 'itself', 'other', 'off', 'is', 's', 'am', 'or', 'who', 'as', 'from', 'him', 'each', 'the', 'themselves', 'until', 'below', 'are', 'we', 'these', 'your', 'his', 'through', 'don', 'nor', 'me', 'were', 'her', 'more', 'himself', 'this', 'down', 'should', 'our', 'their', 'while', 'above', 'both', 'up', 'to', 'ours', 'had', 'she', 'all', 'no', 'when', 'at', 'any', 'before', 'them', 'same', 'and', 'been', 'have', 'in', 'will', 'on', 'does', 'yourselves', 'then', 'that', 'because', 'what', 'over', 'why', 'so', 'can', 'did', 'not', 'now', 'under', 'he', 'you', 'herself', 'has', 'just', 'where', 'too', 'only', 'myself', 'which', 'those', 'i', 'after', 'few', 'whom', 't', 'being', 'if', 'theirs', 'my', 'against', 'a', 'by', 'doing', 'it', 'how', 'further', 'was', 'here', 'than'}\n",
    "    WORD_RE = re.compile(r\"[\\w']+\") # any whitespace or apostrophe, used to split lines below\n",
    "\n",
    "    r_list = []\n",
    "    for word in WORD_RE.findall(text.lower()):\n",
    "        if word not in STOPWORDS:\n",
    "            r_list.append(word)\n",
    "            \n",
    "    return r_list\n",
    "\n",
    "stop_udf = udf(lambda x: stop(x), ArrayType(StringType())) # mapping words to an array before exploding"
   ]
  },
  {
   "cell_type": "code",
   "execution_count": 19,
   "metadata": {},
   "outputs": [],
   "source": [
    "col_reduced = pos_review['stars','text'] # minimize information carried\n",
    "neg_review = review['stars','text'].filter(review['stars'] <= 1) # minimize information carried"
   ]
  },
  {
   "cell_type": "markdown",
   "metadata": {},
   "source": [
    "### Map and Reduce the words into the respective positive and negative frames"
   ]
  },
  {
   "cell_type": "code",
   "execution_count": 20,
   "metadata": {},
   "outputs": [],
   "source": [
    "df_positive_count = col_reduced.withColumn('word',  f.explode(stop_udf(col('text'))))\\\n",
    "    .groupBy('word')\\\n",
    "    .count()\\\n",
    "    .alias(\"df_positive_count\")\n",
    "\n",
    "df_negative_count = neg_review.withColumn('word',  f.explode(stop_udf(col('text'))))\\\n",
    "    .groupBy('word')\\\n",
    "    .count()\\\n",
    "    .alias(\"df_negative_count\")"
   ]
  },
  {
   "cell_type": "code",
   "execution_count": 21,
   "metadata": {},
   "outputs": [],
   "source": [
    "# create a list of the intersection words to reduce the expense of replicating the process.\n",
    "overlap_words = df_positive_count.select('word').intersect(df_negative_count.select('word'))\\\n",
    "                .rdd.flatMap(lambda x:x).collect()"
   ]
  },
  {
   "cell_type": "code",
   "execution_count": 22,
   "metadata": {},
   "outputs": [
    {
     "name": "stdout",
     "output_type": "stream",
     "text": [
      "+--------------+-----+\n",
      "|          word|count|\n",
      "+--------------+-----+\n",
      "|      foodgasm|  328|\n",
      "|         eloff|  291|\n",
      "|         gluch|  248|\n",
      "|          jabz|  196|\n",
      "|incontournable|  188|\n",
      "|   annihilator|  173|\n",
      "|    onolicious|  170|\n",
      "|       yummmmy|  165|\n",
      "|     deliciosa|  159|\n",
      "|  satisfyingly|  159|\n",
      "|        fixler|  157|\n",
      "|       hojicha|  157|\n",
      "|         wigle|  155|\n",
      "|           ceg|  139|\n",
      "|   amaaaaazing|  136|\n",
      "|   amazinggggg|  136|\n",
      "|     heartwood|  135|\n",
      "|   ahhhhmazing|  129|\n",
      "|          emme|  126|\n",
      "|        boothe|  125|\n",
      "|        boyger|  125|\n",
      "|         artur|  122|\n",
      "|       mckenzi|  118|\n",
      "|         burek|  118|\n",
      "|        alodia|  117|\n",
      "|         safak|  114|\n",
      "|     bavette's|  113|\n",
      "|           f45|  111|\n",
      "|     mouthgasm|  110|\n",
      "|        sidell|  109|\n",
      "|         régal|  108|\n",
      "|           nui|  107|\n",
      "|  shutterbooth|  106|\n",
      "|      burgushi|  103|\n",
      "|      injeolmi|  102|\n",
      "|      deeelish|   99|\n",
      "|        cajeta|   98|\n",
      "|      yummmmmy|   98|\n",
      "|   deeelicious|   98|\n",
      "|           imr|   98|\n",
      "|           tdf|   97|\n",
      "|        popbar|   96|\n",
      "|   addictively|   96|\n",
      "|      divinely|   95|\n",
      "|  charcuteries|   94|\n",
      "|         muito|   94|\n",
      "|       hobgood|   92|\n",
      "|    mousseline|   91|\n",
      "|          jayd|   91|\n",
      "|     randyland|   90|\n",
      "+--------------+-----+\n",
      "only showing top 50 rows\n",
      "\n"
     ]
    }
   ],
   "source": [
    "# show top 50 positive words\n",
    "flt_pos_unique = df_positive_count.filter(~col('word').isin(overlap_words)).sort('count', ascending=False).show(50)"
   ]
  },
  {
   "cell_type": "code",
   "execution_count": 23,
   "metadata": {},
   "outputs": [
    {
     "name": "stdout",
     "output_type": "stream",
     "text": [
      "+---------------+-----+\n",
      "|           word|count|\n",
      "+---------------+-----+\n",
      "| unproffesional|  105|\n",
      "|      ineptness|   87|\n",
      "|       condones|   79|\n",
      "|   ripoffreport|   71|\n",
      "|       snarkily|   62|\n",
      "|   incompetents|   61|\n",
      "|    undelivered|   60|\n",
      "|         acanac|   58|\n",
      "|          wrost|   57|\n",
      "|unproffessional|   54|\n",
      "|     falsifying|   50|\n",
      "|       snottily|   48|\n",
      "|     fraudsters|   47|\n",
      "|   unsubscribed|   44|\n",
      "|     homelovers|   42|\n",
      "|     impolitely|   41|\n",
      "|consumeraffairs|   41|\n",
      "|     defrauding|   40|\n",
      "|        barlows|   39|\n",
      "|       ungloved|   35|\n",
      "|unexceptionable|   35|\n",
      "|    unexcusable|   35|\n",
      "|  unfriendliest|   34|\n",
      "|     creditcard|   31|\n",
      "|   'supervisor'|   31|\n",
      "|unprofessionals|   31|\n",
      "|   unempathetic|   31|\n",
      "|         voiers|   30|\n",
      "|     dealticker|   30|\n",
      "|       soggiest|   30|\n",
      "|         pesimo|   30|\n",
      "|           fahw|   30|\n",
      "|    negligently|   29|\n",
      "|       'manager|   29|\n",
      "|         worest|   29|\n",
      "|      discusted|   28|\n",
      "|     unlawfully|   28|\n",
      "|      snottiest|   28|\n",
      "|            rmi|   27|\n",
      "|     reprimands|   27|\n",
      "|       slipshod|   27|\n",
      "|          gager|   27|\n",
      "|       slimiest|   26|\n",
      "|       ontrac's|   26|\n",
      "|           cfpb|   26|\n",
      "|     fumigation|   26|\n",
      "|         theifs|   26|\n",
      "|       'policy'|   25|\n",
      "|        idiot's|   25|\n",
      "|            ybt|   25|\n",
      "+---------------+-----+\n",
      "only showing top 50 rows\n",
      "\n"
     ]
    }
   ],
   "source": [
    "# show top 50 negative words\n",
    "flt_neg_unique = df_negative_count.filter(~col('word').isin(overlap_words)).sort('count', ascending=False).show(50)"
   ]
  }
 ],
 "metadata": {
  "kernelspec": {
   "display_name": "Python 3",
   "language": "python",
   "name": "python3"
  },
  "language_info": {
   "codemirror_mode": {
    "name": "ipython",
    "version": 3
   },
   "file_extension": ".py",
   "mimetype": "text/x-python",
   "name": "python",
   "nbconvert_exporter": "python",
   "pygments_lexer": "ipython3",
   "version": "3.7.3"
  }
 },
 "nbformat": 4,
 "nbformat_minor": 2
}
