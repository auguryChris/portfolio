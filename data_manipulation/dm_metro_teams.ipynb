{
 "cells": [
  {
   "cell_type": "markdown",
   "metadata": {
    "deletable": false,
    "editable": false,
    "nbgrader": {
     "checksum": "b782e0547c33637a1b1fde040d79733a",
     "grade": false,
     "grade_id": "cell-a6c4f74309fc2379",
     "locked": true,
     "schema_version": 1,
     "solution": false
    }
   },
   "source": [
    "# Description\n",
    "Taking a file of metropolitan regions and associated sports teams from [assets/wikipedia_data.html](assets/wikipedia_data.html), I  answer some questions about each metropolitan region. Each of these regions may have one or more teams from the \"Big 4\": NFL (football, in [assets/nfl.csv](assets/nfl.csv)), MLB (baseball, in [assets/mlb.csv](assets/mlb.csv)), NBA (basketball, in [assets/nba.csv](assets/nba.csv) or NHL (hockey, in [assets/nhl.csv](assets/nhl.csv)). \n",
    "\n",
    "### For each sport I answer the question: \n",
    "<ul>\n",
    "<li>What is the win percentage's correlation with the population of the city it is in?</li>\n",
    "<li>Win/Loss ratio refers to the number of wins over the number of wins plus the number of losses.</li>\n",
    "<li>Average the win/loss ratios for those cities which have multiple teams of a single sport.</li>\n",
    "</ul>"
   ]
  },
  {
   "cell_type": "code",
   "execution_count": 9,
   "metadata": {},
   "outputs": [],
   "source": [
    "# First we import the necessary libraries\n",
    "import pandas as pd # Pandas for dataframes\n",
    "import numpy as np # For core usage \n",
    "import scipy.stats as stats # For Pearson R Coefficient & T Test\n",
    "import re # For Regular Expressions"
   ]
  },
  {
   "source": [
    "## First: Create Functions\n",
    "Modularize my code for repetitive downstream activities –– code efficiency."
   ],
   "cell_type": "markdown",
   "metadata": {}
  },
  {
   "cell_type": "code",
   "execution_count": 10,
   "metadata": {},
   "outputs": [],
   "source": [
    "def metro_func():\n",
    "    \"\"\"\n",
    "    Generates: cities (pd.DataFrame), nomen (dict)\n",
    "    \"\"\"\n",
    "    # Read datasets\n",
    "    cities=pd.read_html(\"assets/wikipedia_data.html\")[1]\n",
    "\n",
    "    # Defining nomenclature\n",
    "    nomen={\"New York City\":\"New York\",\"New Jersey\":\"New York\",\"Tampa Bay Area\":\"Tampa Bay\",\"Miami–Fort Lauderdale\":\"Miami\",\"Dallas-Fort Worth\":\"Dallas\",\"Texas\":\"Dallas\",\"Minneapolis–Saint Paul\":\"Minneapolis\",\"San Francisco Bay Area\":\"San Francisco\",\"Washington, D.C.\":\"DC\",\"Washington Capitals\":\"DC Capitals\",\"St.  Louis\":\"St. Louis\",\"Utah\":\"Salt Lake City\"}\n",
    "\n",
    "    # Cleaning cities dataframe\n",
    "    cities.rename({'Population (2016 est.)[8]':'Population','Metropolitan area':'Metro'}, axis=1, inplace=True)\n",
    "    cities = cities.replace(nomen)\n",
    "    cities = cities.replace(\"(\\[.+)\",'',regex=True) # new regex to get rid of notes\n",
    "    cities = cities.iloc[:-1,[0,3,5,6,7,8]]\n",
    "    cities['Population'] = cities['Population'].astype('int')\n",
    "\n",
    "    return nomen, cities"
   ]
  },
  {
   "cell_type": "code",
   "execution_count": 22,
   "metadata": {},
   "outputs": [],
   "source": [
    "def league_func(): \n",
    "    \"\"\"\n",
    "    Descriptions: imports, regex cleans, unicode strips, filters for 2018 seasons; merges metros with leagues into individual dataframes \n",
    "    grouping multi teams into one win/lss ratio stat\n",
    "\n",
    "    Returns: cities, nhl_metro_mean, nba_metro_mean, mlb_metro_mean, nfl_metro_mean (pd.DataFrame)\n",
    "    \"\"\"\n",
    "    # Import data\n",
    "    mlb_df=pd.read_csv(\"assets/mlb.csv\")\n",
    "    nhl_df=pd.read_csv(\"assets/nhl.csv\")\n",
    "    nba_df=pd.read_csv(\"assets/nba.csv\")\n",
    "    nfl_df=pd.read_csv(\"assets/nfl.csv\")\n",
    "\n",
    "    # Generate cities dataframe : cities\n",
    "    nomen, cities = metro_func()\n",
    "\n",
    "    # Cleaning nhl dataframe & isolating 2018 year\n",
    "    nhl_df = nhl_df.replace(\"(\\*$)\",'',regex=True).replace(nomen)\n",
    "    nhl_df = nhl_df[nhl_df['year'] == 2018]\n",
    "    fltr = df['team'].str.contains('(.*)(Division$)')\n",
    "    nhl_filtered = nhl_df[~fltr]\n",
    "    nhl=nhl_filtered.iloc[:,0:4].astype({'GP':'int','W':'int','L':'int'})\n",
    "\n",
    "    # Cleaning nba dataframe & isolating 2018 year\n",
    "    nba_df = nba_df.replace(\"(\\(.+)\",'',regex=True).replace(\"(\\*)\",'',regex=True).replace(nomen)\n",
    "    nba_df = nba_df[nba_df['year'] == 2018]\n",
    "    fltr = nba_df['team'].str.contains('(.*)(Division$)')\n",
    "    nba_filtered = nba_df[~fltr]\n",
    "    nba=nba_filtered.astype({'W':'int','L':'int','W/L%':'float'})\n",
    "\n",
    "    # Cleaning mlb dataframe & isolating 2018 year\n",
    "    mlb_df = mlb_df.replace(\"(\\(.+)\",'',regex=True).replace(\"(\\*)\",'',regex=True).replace(nomen)\n",
    "    mlb_df.rename({'W-L%':'W/L%'}, axis=1, inplace=True)\n",
    "    mlb_df = mlb_df[mlb_df['year'] == 2018]\n",
    "    fltr = mlb_df['team'].str.contains('(.*)(Division$)')\n",
    "    mlb_filtered = mlb_df[~fltr]\n",
    "    mlb=mlb_filtered.astype({'W':'int','L':'int','W/L%':'float'})\n",
    "\n",
    "    # Cleaning nfl dataframe & isolating 2018 year\n",
    "    nfl_df = nfl_df.replace(\"(\\+)\",'',regex=True).replace(\"(\\*)\",'',regex=True).replace(nomen)\n",
    "    nfl_df.rename({'W-L%':'W/L%'}, axis=1, inplace=True)\n",
    "    nfl_df = nfl_df[nfl_df['year'] == 2018]\n",
    "    fltr = nfl_df['team'].str.contains('AFC|NFC', regex=True)\n",
    "    nfl_filtered = nfl_df[~fltr]\n",
    "    nfl=nfl_filtered.astype({'W/L%':'float','W':'float','L':'float'})\n",
    "\n",
    "    # Strip Metro area from team name & set team as index\n",
    "\n",
    "    metro_list = list(cities['Metro']) + ['Florida','New Jersey','Colorado','Dallas','Vegas','Minnesota','Anaheim','San Jose','Arizona','Carolina','Golden State','Indiana','Brooklyn','Washington','Utah','Oakland','Texas','New England','Tennessee']\n",
    "\n",
    "    for c in metro_list:\n",
    "        nhl['team'] = nhl['team'].str.replace(f'{c} ', '')\n",
    "        nba['team'] = nba['team'].str.replace(f'{c} ', '')\n",
    "        mlb['team'] = mlb['team'].str.replace(f'{c} ', '')\n",
    "        nfl['team'] = nfl['team'].str.replace(f'{c} ', '') \n",
    "\n",
    "    # stripping the hidden unicode\n",
    "    nhl['team'] = nhl['team'].str.split().str.join(' ')\n",
    "    nba['team'] = nba['team'].str.split().str.join(' ')\n",
    "    mlb['team'] = mlb['team'].str.split().str.join(' ')\n",
    "    nfl['team'] = nfl['team'].str.split().str.join(' ')\n",
    "\n",
    "    # Explode the metro teams and create metro league dataframes\n",
    "    def split_to_list(str): \n",
    "        \"\"\"take a string with comma separated values and return a list\"\"\"\n",
    "        return re.findall(r'[\\w\\s]+?(?:[a-z])(?=[A-Z]|$)', str)\n",
    "    for league in ['NFL','MLB','NBA','NHL']:\n",
    "        cities[league]=cities[league].astype(str)\n",
    "        cities[league]=cities[league].apply(split_to_list)\n",
    "\n",
    "    nhl_metro = cities.explode('NHL').dropna()\n",
    "    nhl_metro = nhl_metro[['Metro','Population','NHL']]\n",
    "\n",
    "    nba_metro = cities.explode('NBA').dropna()\n",
    "    nba_metro = nba_metro[['Metro','Population','NBA']]\n",
    "    nba_metro['Population'] = nba_metro['Population'].astype(float)\n",
    "\n",
    "    mlb_metro = cities.explode('MLB').dropna()\n",
    "    mlb_metro = mlb_metro[['Metro','Population','MLB']]\n",
    "    mlb_metro['Population'] = mlb_metro['Population'].astype(float)\n",
    "\n",
    "    nfl_metro = cities.explode('NFL').dropna()\n",
    "    nfl_metro = nfl_metro[['Metro','Population','NFL']]\n",
    "    nfl_metro['Population'] = nfl_metro['Population'].astype(float)\n",
    "\n",
    "    # Merging the data into league data frames\n",
    "    nhl_df = pd.merge(nhl_metro,nhl,left_on='NHL',right_on='team', how='left')\n",
    "    nhl_df['NHL']=nhl_df['W']/(nhl_df['W']+nhl_df['L'])\n",
    "    nhl_metro_mean = nhl_df[['Metro','Population','NHL']].groupby('Metro').mean()\n",
    "\n",
    "    nba_df = pd.merge(nba_metro,nba,left_on='NBA',right_on='team', how='left')\n",
    "    nba_df['NBA']=nba_df['W']/(nba_df['W']+nba_df['L'])\n",
    "    nba_metro_mean = nba_df[['Metro','Population','NBA']].groupby('Metro').mean()\n",
    "\n",
    "    mlb_df = pd.merge(mlb_metro,mlb,left_on='MLB',right_on='team', how='left')\n",
    "    mlb_df['MLB']=mlb_df['W']/(mlb_df['W']+mlb_df['L'])\n",
    "    mlb_metro_mean = mlb_df[['Metro','Population','MLB']].groupby('Metro').mean() \n",
    "\n",
    "    nfl_df = pd.merge(nfl_metro,nfl,left_on='NFL',right_on='team', how='left')\n",
    "    nfl_df['NFL']=nfl_df['W']/(nfl_df['W']+nfl_df['L'])\n",
    "    nfl_metro_mean = nfl_df[['Metro','Population','NFL']].groupby('Metro').mean()\n",
    "\n",
    "    return cities, nhl_metro_mean, nba_metro_mean, mlb_metro_mean, nfl_metro_mean"
   ]
  },
  {
   "cell_type": "code",
   "execution_count": 35,
   "metadata": {},
   "outputs": [],
   "source": [
    "def metro_statistics():\n",
    "    \"\"\"\n",
    "    Descriptions: Consolidates leagues metro means into a single dataframe\n",
    "\n",
    "    Returns: metro_stats\n",
    "    \"\"\"\n",
    "    # Group and merge league win/loss ratios by metro area\n",
    "    cities, nhl_metro_mean, nba_metro_mean, mlb_metro_mean, nfl_metro_mean = league_func()\n",
    "\n",
    "    # Drop Population columns\n",
    "    nhl_metro_mean = nhl_metro_mean.drop(['Population'], axis=1)\n",
    "    nba_metro_mean = nba_metro_mean.drop(['Population'], axis=1)\n",
    "    mlb_metro_mean = mlb_metro_mean.drop(['Population'], axis=1)\n",
    "    nfl_metro_mean = nfl_metro_mean.drop(['Population'], axis=1)\n",
    "    \n",
    "    # Merging into a single data frame\n",
    "    metro_sports =pd.DataFrame()\n",
    "    metro_sports = cities[['Metro','Population']].join(nfl_metro_mean, on='Metro').join(nba_metro_mean, on='Metro').join(nhl_metro_mean, on='Metro').join(mlb_metro_mean, on='Metro').sort_values(by='Population', ascending=False)\n",
    "    metro_stats = metro_sports.set_index('Metro').drop(['Population'],axis=1)\n",
    "\n",
    "    return metro_stats"
   ]
  },
  {
   "cell_type": "markdown",
   "metadata": {
    "deletable": false,
    "editable": false,
    "nbgrader": {
     "checksum": "c6d3dce622c803925c862908d065cf19",
     "grade": false,
     "grade_id": "cell-712b2b5da63d4505",
     "locked": true,
     "schema_version": 1,
     "solution": false
    }
   },
   "source": [
    "## NHL Correlation\n",
    "For this question, I calculate the win percentage's correlation with the population of the city it is in for the **NHL** using **2018** data. The win percentage ratio is calculated using the following formula: win/(win+loss)."
   ]
  },
  {
   "cell_type": "code",
   "execution_count": 23,
   "metadata": {
    "deletable": false,
    "nbgrader": {
     "checksum": "da6a72885c9b6e5d798595ad409949e2",
     "grade": false,
     "grade_id": "cell-69b16e4386e58030",
     "locked": false,
     "schema_version": 1,
     "solution": true
    }
   },
   "outputs": [],
   "source": [
    "def nhl_correlation(): \n",
    "\n",
    "    # Group and merge league win/loss ratios by metro area\n",
    "    cities, nhl_metro_mean, nba_metro_mean, mlb_metro_mean, nfl_metro_mean = league_func()\n",
    "\n",
    "    #raise NotImplementedError()\n",
    "    \n",
    "    population_by_region = [] # pass in metropolitan area population from cities    \n",
    "    win_loss_by_region = [] # pass in win/loss ratio from nhl_df in the same order as cities[\"Metropolitan area\"]\n",
    "    for m in cities['Metro']:\n",
    "        if m in nhl_metro_mean.index:\n",
    "            population_by_region.append(nhl_metro_mean.loc[m,'Population'])\n",
    "            win_loss_by_region.append(nhl_metro_mean.loc[m,'NHL'])\n",
    "        else:\n",
    "            continue\n",
    "\n",
    "    \n",
    "    return stats.pearsonr(population_by_region, win_loss_by_region)[0]"
   ]
  },
  {
   "cell_type": "code",
   "execution_count": 24,
   "metadata": {},
   "outputs": [
    {
     "output_type": "execute_result",
     "data": {
      "text/plain": [
       "0.012486162921209909"
      ]
     },
     "metadata": {},
     "execution_count": 24
    }
   ],
   "source": [
    "nhl_correlation()"
   ]
  },
  {
   "source": [
    "## NBA Correlation\n",
    "For this question, I calculate the win percentage's correlation with the population of the city it is in for the **NBA** using **2018** data."
   ],
   "cell_type": "markdown",
   "metadata": {}
  },
  {
   "cell_type": "code",
   "execution_count": 26,
   "metadata": {
    "deletable": false,
    "nbgrader": {
     "checksum": "4d0f373c111ea3bdd32a32a149089eaf",
     "grade": false,
     "grade_id": "cell-5a5f21279e3d3572",
     "locked": false,
     "schema_version": 1,
     "solution": true
    }
   },
   "outputs": [],
   "source": [
    "def nba_correlation():\n",
    "\n",
    "    # Group and merge league win/loss ratios by metro area\n",
    "    cities, nhl_metro_mean, nba_metro_mean, mlb_metro_mean, nfl_metro_mean = league_func()\n",
    "\n",
    "    #raise NotImplementedError()\n",
    "    \n",
    "    population_by_region = [] # pass in metropolitan area population from cities\n",
    "    win_loss_by_region = [] # pass in win/loss ratio from nba_df in the same order as cities[\"Metropolitan area\"]\n",
    "    for m in cities['Metro']:\n",
    "        if m in nba_metro_mean.index:\n",
    "            population_by_region.append(nba_metro_mean.loc[m,'Population'])\n",
    "            win_loss_by_region.append(nba_metro_mean.loc[m,'NBA'])\n",
    "        else:\n",
    "            continue\n",
    "\n",
    "    return stats.pearsonr(population_by_region, win_loss_by_region)[0]"
   ]
  },
  {
   "cell_type": "code",
   "execution_count": 27,
   "metadata": {},
   "outputs": [
    {
     "output_type": "execute_result",
     "data": {
      "text/plain": [
       "-0.17657160252844614"
      ]
     },
     "metadata": {},
     "execution_count": 27
    }
   ],
   "source": [
    "nba_correlation()"
   ]
  },
  {
   "cell_type": "markdown",
   "metadata": {
    "deletable": false,
    "editable": false,
    "nbgrader": {
     "checksum": "47ea94e09b6dadf0d65aeed8105670b0",
     "grade": false,
     "grade_id": "cell-96e15e4335df78f4",
     "locked": true,
     "schema_version": 1,
     "solution": false
    }
   },
   "source": [
    "## MLB Correlation\n",
    "For this question, I calculate the win percentage's correlation with the population of the city it is in for the **MLB** using **2018** data."
   ]
  },
  {
   "cell_type": "code",
   "execution_count": 28,
   "metadata": {
    "deletable": false,
    "nbgrader": {
     "checksum": "a9240e8dba831a42d3be3429bd514764",
     "grade": false,
     "grade_id": "cell-33b00fc3f3467b0c",
     "locked": false,
     "schema_version": 1,
     "solution": true
    }
   },
   "outputs": [],
   "source": [
    "def mlb_correlation(): \n",
    "    \n",
    "    # Group and merge league win/loss ratios by metro area\n",
    "    cities, nhl_metro_mean, nba_metro_mean, mlb_metro_mean, nfl_metro_mean = league_func()\n",
    "\n",
    "    #raise NotImplementedError()\n",
    "    \n",
    "    population_by_region = [] # pass in metropolitan area population from cities\n",
    "    win_loss_by_region = [] # pass in win/loss ratio from mlb_df in the same order as cities[\"Metropolitan area\"]\n",
    "    for m in cities['Metro']:\n",
    "        if m in mlb_metro_mean.index:\n",
    "            population_by_region.append(mlb_metro_mean.loc[m,'Population'])\n",
    "            win_loss_by_region.append(mlb_metro_mean.loc[m,'MLB'])\n",
    "        else:\n",
    "            continue\n",
    "\n",
    "    return stats.pearsonr(population_by_region, win_loss_by_region)[0]"
   ]
  },
  {
   "cell_type": "code",
   "execution_count": 29,
   "metadata": {
    "deletable": false,
    "editable": false,
    "nbgrader": {
     "checksum": "cda33b094ba19ccc37a481e0dd29e0bc",
     "grade": true,
     "grade_id": "cell-764d4476f425c5a2",
     "locked": true,
     "points": 20,
     "schema_version": 1,
     "solution": false
    }
   },
   "outputs": [
    {
     "output_type": "execute_result",
     "data": {
      "text/plain": [
       "0.15027698302669307"
      ]
     },
     "metadata": {},
     "execution_count": 29
    }
   ],
   "source": [
    "mlb_correlation()"
   ]
  },
  {
   "cell_type": "markdown",
   "metadata": {
    "deletable": false,
    "editable": false,
    "nbgrader": {
     "checksum": "511f08958527f31870077609025a8cab",
     "grade": false,
     "grade_id": "cell-793df6c04dfb126e",
     "locked": true,
     "schema_version": 1,
     "solution": false
    }
   },
   "source": [
    "## NFL Correlation\n",
    "For this question, calculate the win percentage's correlation with the population of the city it is in for the **NFL** using **2018** data."
   ]
  },
  {
   "cell_type": "code",
   "execution_count": 30,
   "metadata": {
    "deletable": false,
    "nbgrader": {
     "checksum": "2a627681ebf0c86867820e8977d24e25",
     "grade": false,
     "grade_id": "cell-8ccebc209aeec8d9",
     "locked": false,
     "schema_version": 1,
     "solution": true
    }
   },
   "outputs": [],
   "source": [
    "def nfl_correlation(): \n",
    "    \n",
    "    # Group and merge league win/loss ratios by metro area\n",
    "    cities, nhl_metro_mean, nba_metro_mean, mlb_metro_mean, nfl_metro_mean = league_func()\n",
    "\n",
    "    #raise NotImplementedError()\n",
    "    \n",
    "    population_by_region = [] # pass in metropolitan area population from cities\n",
    "    win_loss_by_region = [] # pass in win/loss ratio from nfl_df in the same order as cities[\"Metropolitan area\"]\n",
    "    for m in cities['Metro']:\n",
    "        if m in nfl_metro_mean.index:\n",
    "            population_by_region.append(nfl_metro_mean.loc[m,'Population'])\n",
    "            win_loss_by_region.append(nfl_metro_mean.loc[m,'NFL'])\n",
    "        else:\n",
    "            continue\n",
    "\n",
    "\n",
    "    return stats.pearsonr(population_by_region, win_loss_by_region)[0]"
   ]
  },
  {
   "cell_type": "code",
   "execution_count": 31,
   "metadata": {
    "deletable": false,
    "editable": false,
    "nbgrader": {
     "checksum": "e9415d6399aa49e3a1a60813afdefa3b",
     "grade": true,
     "grade_id": "cell-de7b148b9554dbda",
     "locked": true,
     "points": 20,
     "schema_version": 1,
     "solution": false
    }
   },
   "outputs": [
    {
     "output_type": "execute_result",
     "data": {
      "text/plain": [
       "0.004922112149349428"
      ]
     },
     "metadata": {},
     "execution_count": 31
    }
   ],
   "source": [
    "nfl_correlation()"
   ]
  },
  {
   "cell_type": "markdown",
   "metadata": {
    "deletable": false,
    "editable": false,
    "nbgrader": {
     "checksum": "b02d5cd3273f561e4ae939bb2a41740c",
     "grade": false,
     "grade_id": "cell-97b49d8639e908c4",
     "locked": true,
     "schema_version": 1,
     "solution": false
    }
   },
   "source": [
    "## Hypothesis Test\n",
    "Here I am exploring the hypothesis that **given that an area has two sports teams in different sports, those teams will perform the same within their respective sports**. I explored this with a series of paired t-tests (so use [`ttest_rel`](https://docs.scipy.org/doc/scipy/reference/generated/scipy.stats.ttest_rel.html)) between all pairs of sports. <p>Are there any sports where we can reject the null hypothesis?</p> Again, average values where a sport has multiple teams in one region. I will only be including, for each sport, cities which have teams engaged in that sport: dropping others as appropriate. "
   ]
  },
  {
   "cell_type": "code",
   "execution_count": 36,
   "metadata": {
    "deletable": false,
    "nbgrader": {
     "checksum": "6d78c961eb66f8d8c81f06d33ae8f393",
     "grade": false,
     "grade_id": "cell-92f25f44b8d1179f",
     "locked": false,
     "schema_version": 1,
     "solution": true
    }
   },
   "outputs": [],
   "source": [
    "def sports_team_performance():\n",
    "\n",
    "    # Consolidates leagues metro means into a single dataframe\n",
    "    metro_stats = metro_statistics()\n",
    "\n",
    "    #raise NotImplementedError()\n",
    "\n",
    "    # Note: p_values is a full dataframe, so df.loc[\"NFL\",\"NBA\"] should be the same as df.loc[\"NBA\",\"NFL\"] and\n",
    "    # df.loc[\"NFL\",\"NFL\"] should return np.nan\n",
    "    sports = ['NFL', 'NBA', 'NHL', 'MLB']\n",
    "    p_values = pd.DataFrame({k:np.nan for k in sports}, index=sports)\n",
    "    for key in p_values.keys():\n",
    "        for k in p_values.keys():\n",
    "            p_values.at[key,k] = stats.ttest_rel(metro_stats[key],metro_stats[k], nan_policy='omit')[1]\n",
    "\n",
    "    return p_values"
   ]
  },
  {
   "cell_type": "code",
   "execution_count": 37,
   "metadata": {
    "deletable": false,
    "editable": false,
    "nbgrader": {
     "checksum": "2a596ab421a45cc01168d10e8fbb8f89",
     "grade": true,
     "grade_id": "cell-fb4b9cb5ff4570a6",
     "locked": true,
     "points": 20,
     "schema_version": 1,
     "solution": false
    }
   },
   "outputs": [
    {
     "output_type": "execute_result",
     "data": {
      "text/plain": [
       "          NFL       NBA       NHL       MLB\n",
       "NFL       NaN  0.941792  0.030883  0.802069\n",
       "NBA  0.941792       NaN  0.022297  0.950540\n",
       "NHL  0.030883  0.022297       NaN  0.000708\n",
       "MLB  0.802069  0.950540  0.000708       NaN"
      ],
      "text/html": "<div>\n<style scoped>\n    .dataframe tbody tr th:only-of-type {\n        vertical-align: middle;\n    }\n\n    .dataframe tbody tr th {\n        vertical-align: top;\n    }\n\n    .dataframe thead th {\n        text-align: right;\n    }\n</style>\n<table border=\"1\" class=\"dataframe\">\n  <thead>\n    <tr style=\"text-align: right;\">\n      <th></th>\n      <th>NFL</th>\n      <th>NBA</th>\n      <th>NHL</th>\n      <th>MLB</th>\n    </tr>\n  </thead>\n  <tbody>\n    <tr>\n      <th>NFL</th>\n      <td>NaN</td>\n      <td>0.941792</td>\n      <td>0.030883</td>\n      <td>0.802069</td>\n    </tr>\n    <tr>\n      <th>NBA</th>\n      <td>0.941792</td>\n      <td>NaN</td>\n      <td>0.022297</td>\n      <td>0.950540</td>\n    </tr>\n    <tr>\n      <th>NHL</th>\n      <td>0.030883</td>\n      <td>0.022297</td>\n      <td>NaN</td>\n      <td>0.000708</td>\n    </tr>\n    <tr>\n      <th>MLB</th>\n      <td>0.802069</td>\n      <td>0.950540</td>\n      <td>0.000708</td>\n      <td>NaN</td>\n    </tr>\n  </tbody>\n</table>\n</div>"
     },
     "metadata": {},
     "execution_count": 37
    }
   ],
   "source": [
    "sports_team_performance()"
   ]
  },
  {
   "cell_type": "code",
   "execution_count": null,
   "metadata": {},
   "outputs": [],
   "source": []
  }
 ],
 "metadata": {
  "coursera": {
   "schema_names": [
    "mads_data_manipulation_v2_assignment4"
   ]
  },
  "kernelspec": {
   "name": "python3",
   "display_name": "Python 3"
  },
  "language_info": {
   "codemirror_mode": {
    "name": "ipython",
    "version": 3
   },
   "file_extension": ".py",
   "mimetype": "text/x-python",
   "name": "python",
   "nbconvert_exporter": "python",
   "pygments_lexer": "ipython3",
   "version": "3.8.2"
  }
 },
 "nbformat": 4,
 "nbformat_minor": 4
}