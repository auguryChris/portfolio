{
 "cells": [
  {
   "cell_type": "markdown",
   "source": [
    "## Sampling a Data Stream\n",
    "\n",
    "Say we are interested in understanding the distribution (counts) of emojis in a (potentially unlimited) stream of tweets. However, remember that one of the biggest challenges in mining data streams is that **we have limited storage capacity for the very high volume of incoming data, which may arrive at a very high velocity as well**. So for hyppothetical purposes, **we cannot store or process all tweets at once, but are constrained to deal with only one or a few tweets at a time**"
   ],
   "metadata": {}
  },
  {
   "cell_type": "code",
   "execution_count": 1,
   "source": [
    "import matplotlib.pyplot as plt\n",
    "%matplotlib inline\n",
    "import json\n",
    "from emoji import UNICODE_EMOJI\n",
    "import os\n",
    "from pathlib import Path\n",
    "from collections import defaultdict\n",
    "from random import Random\n",
    "import numpy as np\n",
    "from collections import Counter\n",
    "\n",
    "print('done')"
   ],
   "outputs": [
    {
     "output_type": "stream",
     "name": "stdout",
     "text": [
      "done\n"
     ]
    }
   ],
   "metadata": {}
  },
  {
   "cell_type": "code",
   "execution_count": 2,
   "source": [
    "# navigate github folders for asset library\n",
    "#p=Path(os.getcwd())\n",
    "#os.chdir(p.parent)\n",
    "#os.getcwd()"
   ],
   "outputs": [],
   "metadata": {}
  },
  {
   "cell_type": "code",
   "execution_count": 3,
   "source": [
    "def extract_emojis(text):\n",
    "    \"\"\"\n",
    "    Extract all emojis from a str\n",
    "    \"\"\"\n",
    "    return [ch for ch in text if ch in UNICODE_EMOJI]\n",
    "\n",
    "class TwitterStream:\n",
    "    \"\"\"\n",
    "    Used to simulate a Twitter stream. \n",
    "    \"\"\"\n",
    "    \n",
    "    def __init__(self, data_file):\n",
    "        self.data_file = data_file\n",
    "        self.data = open(self.data_file, \"r\")\n",
    "    \n",
    "    def __iter__(self):\n",
    "        return self.reset()\n",
    "    \n",
    "    def __next__(self):\n",
    "        next_line = self.data.readline()\n",
    "        if next_line:\n",
    "            return json.loads(next_line)[\"text\"]\n",
    "        else:\n",
    "            raise StopIteration\n",
    "    \n",
    "    def __del__(self):\n",
    "        if not self.data.closed:\n",
    "            self.data.close()\n",
    "    \n",
    "    def reset(self):\n",
    "        if not self.data.closed:\n",
    "            self.data.close()\n",
    "        self.data = open(self.data_file, \"r\")\n",
    "        return self"
   ],
   "outputs": [],
   "metadata": {}
  },
  {
   "cell_type": "code",
   "execution_count": 4,
   "source": [
    "twitter_stream = TwitterStream(\"assets/tweets\")  # instantiate a Twitter stream from a data file\n",
    "\n",
    "# use a for-loop to iterate through the stream, just like iterating over a list\n",
    "for index, tweet in enumerate(twitter_stream):\n",
    "    print(index, tweet)\n",
    "    if index >= 3:  # only prints the first 4 tweets\n",
    "        break\n",
    "\n",
    "twitter_stream.reset() # reset the stream so that it begins with the first tweet\n",
    "print()\n",
    "\n",
    "# OR\n",
    "# use a while-loop together with the \"next\" function to retrieve one tweet from the stream at a time\n",
    "index = 0\n",
    "while index < 4: \n",
    "    print(index, next(twitter_stream)) # the built-in \"next\" function retrieves the next item in an iterator\n",
    "    index += 1\n",
    "\n",
    "del twitter_stream, index"
   ],
   "outputs": [
    {
     "output_type": "stream",
     "name": "stdout",
     "text": [
      "0 Recently arrived in Australia - just been out on my evening dog walk and decided to give @petercrouch podcast a listen - wow...what have I been missing - absolutely hilarious! #thatpetercrouchpodcast\n",
      "1 Lmaoooooo love you allll\n",
      "2 Good morning! kita mo nga naman isang panibagong araw para maging malungkot ulit🤧\n",
      "3 Here we go ⚓️\n",
      "\n",
      "0 Recently arrived in Australia - just been out on my evening dog walk and decided to give @petercrouch podcast a listen - wow...what have I been missing - absolutely hilarious! #thatpetercrouchpodcast\n",
      "1 Lmaoooooo love you allll\n",
      "2 Good morning! kita mo nga naman isang panibagong araw para maging malungkot ulit🤧\n",
      "3 Here we go ⚓️\n"
     ]
    }
   ],
   "metadata": {}
  },
  {
   "cell_type": "markdown",
   "source": [
    "Many sampling algorithms require \"tossing a coin\", that is, a psudo-random generator (PRG). To make our lives easier in this notebook we are going to create a special \"history-preserving\" PRG."
   ],
   "metadata": {}
  },
  {
   "cell_type": "code",
   "execution_count": 5,
   "source": [
    "class HistPresvRandom:\n",
    "    \"\"\"\n",
    "    History-preserving Random Number Generator\n",
    "    \"\"\"\n",
    "    \n",
    "    def __init__(self, seed=None):\n",
    "        self.prg = Random(seed)\n",
    "        self.hist = defaultdict(list)\n",
    "    \n",
    "    def random(self): # works exactly like random.random()\n",
    "        num = self.prg.random()\n",
    "        self.hist[\"random\"].append(num)\n",
    "        return num\n",
    "    \n",
    "    def sample(self, population): # works exactly like random.sample(population, 1)[0]\n",
    "        num = self.prg.sample(population, 1)[0]\n",
    "        self.hist[\"sample\"].append(num)\n",
    "        return num\n",
    "\n",
    "hist_presv_random = HistPresvRandom(0)\n",
    "print(f'\"random\" method: {hist_presv_random.random()}')\n",
    "print(f'\"sample\" method: {hist_presv_random.sample(range(10))}')\n",
    "\n",
    "del hist_presv_random"
   ],
   "outputs": [
    {
     "output_type": "stream",
     "name": "stdout",
     "text": [
      "\"random\" method: 0.8444218515250481\n",
      "\"sample\" method: 6\n"
     ]
    }
   ],
   "metadata": {}
  },
  {
   "cell_type": "code",
   "execution_count": 6,
   "source": [
    "# Random Sampling\n",
    "class RandomSampler:\n",
    "    \n",
    "    def __init__(self, in_sample_prob, seed=None):\n",
    "        \n",
    "        self.in_sample_prob = in_sample_prob\n",
    "        self.random = HistPresvRandom(seed) # used whenever randomness is needed in your solution\n",
    "        self.sample, self.counts = list(), defaultdict(int) # recommended to use defaultdict, but an ordinary dict works fine too\n",
    "    \n",
    "    def _process_new_item(self, item):\n",
    "        \"\"\"\n",
    "        Applies random sampling to a newly arrived item\n",
    "        \"\"\"\n",
    "        if self.random.random() < in_sample_prob:\n",
    "            \n",
    "            # append \n",
    "            self.sample.append(item)\n",
    "            \n",
    "            \n",
    "            # extract emojis\n",
    "            # add to counts    \n",
    "            for e in extract_emojis(item):\n",
    "                self.counts[e] += 1\n",
    "                  \n",
    "\n",
    "    \n",
    "    def do_sampling(self, stream):\n",
    "        \"\"\"\n",
    "        Iterates over a stream and performs random sampling\n",
    "        \"\"\"\n",
    "        \n",
    "        self.sample.clear() # clear the existing sample\n",
    "        self.counts.clear() # clear the existing counts\n",
    "        \n",
    "        for item in stream: # iterate over the stream\n",
    "            \n",
    "            # perform random sampling\n",
    "            self._process_new_item(item)\n",
    "            \n",
    "            # returns a copy of sample and counts at the end of every iteration for grading - code given\n",
    "            yield self.sample.copy(), self.counts.copy()"
   ],
   "outputs": [],
   "metadata": {}
  },
  {
   "cell_type": "code",
   "execution_count": 7,
   "source": [
    "in_sample_prob, seed = 0.1, 42\n",
    "rand_sam = RandomSampler(in_sample_prob, seed)\n",
    "\n",
    "# Do sampling. Don't have to collect the results. Just exhaust the stream\n",
    "for _ in rand_sam.do_sampling(TwitterStream(\"assets/tweets\")):\n",
    "    pass\n",
    "\n",
    "sorted_counts = {emoji: rand_sam.counts[emoji] for emoji in sorted(rand_sam.counts.keys(), key=rand_sam.counts.get, reverse=True)}\n",
    "print(sorted_counts)"
   ],
   "outputs": [
    {
     "output_type": "stream",
     "name": "stdout",
     "text": [
      "{'😂': 194, '😭': 69, '❤': 57, '🤣': 51, '✨': 50, '🏻': 40, '🔥': 37, '🥺': 35, '🙏': 32, '👏': 32, '😍': 30, '👍': 29, '♥': 23, '💕': 21, '🇸': 20, '♀': 20, '😅': 20, '☺': 18, '🥰': 17, '🇦': 16, '😎': 16, '🏽': 16, '💜': 16, '💚': 15, '🏾': 15, '😊': 14, '😆': 14, '😢': 14, '🍍': 14, '💪': 13, '😳': 13, '😩': 12, '‼': 12, '♂': 12, '🤭': 12, '💙': 11, '👇': 11, '💖': 10, '😱': 10, '💛': 10, '😹': 10, '🤔': 9, '🖤': 9, '🎉': 9, '🚨': 9, '🙄': 9, '♻': 9, '🙌': 8, '💦': 8, '❗': 8, '😷': 8, '🤷': 8, '😈': 8, '💀': 8, '⚡': 8, '😔': 7, '🥵': 7, '😁': 7, '⭕': 7, '🏅': 7, '💗': 7, '🌹': 7, '✌': 7, '⚠': 7, '😘': 6, '🌟': 6, '😌': 6, '🌸': 6, '🗣': 6, '🤪': 6, '😤': 6, '🤦': 6, '❣': 5, '🍑': 5, '💔': 5, '✊': 5, '🤤': 5, '💓': 5, '🦋': 5, '😇': 5, '💎': 5, '🇬': 5, '🇨': 5, '😥': 5, '⚰': 5, '🙂': 5, '👋': 5, '↙': 5, '👉': 5, '🐰': 5, '🐨': 5, '💣': 5, '🥳': 5, '✅': 5, '🐬': 5, '💘': 4, '😉': 4, '😐': 4, '🌺': 4, '💝': 4, '🇪': 4, '▶': 4, '🇧': 4, '👩': 4, '🙃': 4, '😄': 4, '😚': 4, '🤩': 4, '☀': 4, '🏃': 4, '⭐': 4, '▫': 4, '🇳': 4, '🔴': 4, '😙': 3, '🐶': 3, '☝': 3, '🇷': 3, '🥴': 3, '😡': 3, '👑': 3, '🇩': 3, '🇴': 3, '🎀': 3, '🇺': 3, '🇵': 3, '🔃': 3, '🤾': 3, '😃': 3, '😺': 3, '🎊': 3, '🙇': 3, '🤡': 3, '💥': 3, '🤫': 3, '☹': 3, '🌈': 3, '🤙': 3, '👀': 3, '🏼': 3, '😋': 3, '🇫': 3, '🎁': 3, '📱': 3, '💰': 3, '😜': 3, '💭': 3, '😀': 3, '↗': 3, '🇰': 3, '👊': 3, '🤘': 2, '☁': 2, '💞': 2, '📢': 2, '💻': 2, '👎': 2, '🔒': 2, '♠': 2, '🌾': 2, '🚫': 2, '🆘': 2, '😝': 2, '🙊': 2, '🌱': 2, '🎈': 2, '😴': 2, '🤨': 2, '😕': 2, '💯': 2, '🥋': 2, '🃏': 2, '⬇': 2, '🦠': 2, '🇲': 2, '🎵': 2, '🧟': 2, '😲': 2, '🤞': 2, '🌌': 2, '🥇': 2, '🍻': 2, '💠': 2, '🇱': 2, '👨': 2, '🍒': 2, '🌷': 2, '💢': 2, '👌': 2, '💃': 2, '🤟': 2, '👧': 2, '⬅': 2, '🌚': 2, '🍊': 2, '🎸': 2, '🥁': 2, '💍': 2, '💫': 2, '🔹': 2, '🔠': 2, '👆': 1, '\\U0001f971': 1, '🎴': 1, '👰': 1, '💐': 1, '🕺': 1, '🧠': 1, '✋': 1, '💌': 1, '☕': 1, '☃': 1, '\\U0001f90d': 1, '⚽': 1, '🐕': 1, '🐠': 1, '🦀': 1, '🙅': 1, '🇻': 1, '🍂': 1, '🤲': 1, '😟': 1, '😑': 1, '🇹': 1, '🤧': 1, '😣': 1, '😰': 1, '😨': 1, '😯': 1, '☎': 1, '🤕': 1, '🔗': 1, '👻': 1, '🐝': 1, '😞': 1, '🚀': 1, '🏐': 1, '🤢': 1, '🧢': 1, '🐙': 1, '🍛': 1, '🍰': 1, '🤮': 1, '⛄': 1, '🦉': 1, '🍋': 1, '♦': 1, '\\U0001f90e': 1, '👣': 1, '🦞': 1, '💶': 1, '✏': 1, '🤐': 1, '😻': 1, '📼': 1, '📣': 1, '◀': 1, '↖': 1, '🍳': 1, '🙋': 1, '📥': 1, '🏴': 1, '🗯': 1, '🏿': 1, '🎮': 1, '⛓': 1, '🥕': 1, '🔟': 1, '🌠': 1, '😠': 1, '🎤': 1, '⬆': 1, '👯': 1, '✖': 1, '🇶': 1, '🇿': 1, '🙆': 1, '🌝': 1, '👈': 1, '🐷': 1, '©': 1, '⏰': 1, '😒': 1, '™': 1, '🐴': 1, '🙈': 1, '🎶': 1, '🔞': 1, '🛑': 1, '☔': 1, '🤰': 1, '😬': 1, '🤚': 1, '🐑': 1, '💧': 1, '➡': 1, '🥈': 1, '🥉': 1, '🤬': 1, '🍫': 1, '🍣': 1, '🐸': 1, '🧚': 1, '🚶': 1, '⁉': 1, '🧐': 1, '📸': 1, '🎞': 1, '🔁': 1, '🙁': 1, '😪': 1, '📍': 1, '🛌': 1, '😏': 1, '❇': 1, '🐿': 1, '❄': 1, '🐐': 1, '😗': 1, '🌙': 1, '🍇': 1, '🤓': 1, '📲': 1, '🇼': 1, '⚓': 1, '🏳': 1, '🥂': 1, '🐾': 1, '😛': 1, '🔵': 1, '🏆': 1, '🐯': 1, '👤': 1, '💁': 1}\n"
     ]
    }
   ],
   "metadata": {}
  },
  {
   "cell_type": "markdown",
   "source": [
    "## Reservoir Sampling"
   ],
   "metadata": {}
  },
  {
   "cell_type": "code",
   "execution_count": 8,
   "source": [
    "class ReservoirSampler:\n",
    "    \n",
    "    def __init__(self, sample_size, seed=None):\n",
    "        \n",
    "        self.sample_size = sample_size\n",
    "        self.random = HistPresvRandom(seed) # used whenever randomness is needed in your solution\n",
    "        self.sample, self.counts = list(), defaultdict(int)\n",
    "    \n",
    "    def _process_new_item(self, item, index):\n",
    "        \"\"\"\n",
    "        Decides whether a new item should be added to the sample and adjusts the counts accordingly\n",
    "        \"\"\"\n",
    "        \n",
    "        if self.random.random() < sample_size/(index+1):\n",
    "            \n",
    "            # remove jth sample\n",
    "            j = self.random.sample(range(len(self.sample)))\n",
    "            del self.sample[j]\n",
    "            \n",
    "            # append new\n",
    "            self.sample.append(item)\n",
    "            \n",
    "            # reinitialize dictionary\n",
    "            self.counts = defaultdict(int)\n",
    "            \n",
    "            # add sample counts back to dict\n",
    "            for s in self.sample:  \n",
    "                for e in extract_emojis(s):\n",
    "                    self.counts[e] += 1   \n",
    "          \n",
    "    \n",
    "    def do_sampling(self, stream):\n",
    "        \"\"\"\n",
    "        Iterates over a stream and performs reservoir sampling\n",
    "        \"\"\"\n",
    "        \n",
    "        self.sample.clear() # clear the existing sample\n",
    "        self.counts.clear() # clear the existing counts\n",
    "        \n",
    "        for index, item in enumerate(stream): # iterate over the stream\n",
    "            \n",
    "            # initialize\n",
    "            if len(self.sample) < sample_size:\n",
    "                # append \n",
    "                self.sample.append(item)\n",
    "                \n",
    "                # add to counts    \n",
    "                for e in extract_emojis(item):\n",
    "                    self.counts[e] += 1\n",
    "\n",
    "            else:\n",
    "                self._process_new_item(item,index) #item, index\n",
    "                \n",
    "            \n",
    "            # returns a copy of sample and counts at the end of every iteration for grading - code given\n",
    "            yield self.sample.copy(), self.counts.copy()"
   ],
   "outputs": [],
   "metadata": {}
  },
  {
   "cell_type": "code",
   "execution_count": 10,
   "source": [
    "sample_size, seed = 100, 0\n",
    "resv = ReservoirSampler(sample_size, seed)\n",
    "\n",
    "# Do sampling. Don't have to collect the results. Just exhaust the stream\n",
    "for _ in resv.do_sampling(TwitterStream(\"assets/tweets\")):\n",
    "    pass\n",
    "\n",
    "sorted_counts = {emoji: resv.counts[emoji] for emoji in sorted(resv.counts.keys(), key=resv.counts.get, reverse=True)}\n",
    "print(sorted_counts)"
   ],
   "outputs": [
    {
     "output_type": "stream",
     "name": "stdout",
     "text": [
      "{'😭': 24, '🥰': 18, '❤': 11, '😂': 8, '💙': 8, '🥺': 7, '😍': 7, '🇸': 6, '🇺': 5, '✨': 4, '‼': 4, '♂': 3, '🏆': 3, '😘': 2, '👍': 2, '☺': 2, '❗': 2, '👩': 2, '🙃': 2, '😋': 2, '🔥': 2, '👑': 2, '💕': 2, '♥': 2, '😩': 2, '😏': 1, '🎶': 1, '☀': 1, '🎵': 1, '🐟': 1, '🐰': 1, '👫': 1, '💋': 1, '😈': 1, '💚': 1, '🏀': 1, '🏈': 1, '🎤': 1, '😠': 1, '🌈': 1, '⚽': 1, '✌': 1, '🏼': 1, '😷': 1, '🤦': 1, '🏻': 1, '🤓': 1, '🇦': 1, '🤷': 1, '🏿': 1, '🐳': 1, '💰': 1, '✅': 1, '🥇': 1, '👏': 1, '👉': 1, '\\U0001f9be': 1, '😞': 1, '📸': 1, '🤑': 1, '🙏': 1, '🏾': 1, '🙆': 1, '🏽': 1, '🍪': 1, '😇': 1, '😉': 1, '🥴': 1, '🏯': 1, '🦅': 1, '😱': 1, '😓': 1, '👇': 1, '🤗': 1, '💓': 1, '😤': 1, '🐱': 1, '🐥': 1, '🍼': 1, '😪': 1}\n"
     ]
    }
   ],
   "metadata": {}
  },
  {
   "cell_type": "code",
   "execution_count": 11,
   "source": [
    "fig, ax = plt.subplots(figsize=(10, 6))\n",
    "ax.bar(range(len(sorted_counts)), sorted_counts.values())\n",
    "ax.set_xlabel(\"Rank\")\n",
    "ax.set_ylabel(\"Frequency\")\n",
    "ax.set_title(\"Emoji Distribution\")\n",
    "\n",
    "del fig, ax"
   ],
   "outputs": [
    {
     "output_type": "display_data",
     "data": {
      "text/plain": [
       "<Figure size 720x432 with 1 Axes>"
      ],
      "image/png": "[encoded data removed]"
     },
     "metadata": {
      "needs_background": "light"
     }
    }
   ],
   "metadata": {}
  },
  {
   "cell_type": "markdown",
   "source": [],
   "metadata": {}
  },
  {
   "cell_type": "markdown",
   "source": [
    "## Counting in a Data Stream"
   ],
   "metadata": {}
  },
  {
   "cell_type": "code",
   "execution_count": 12,
   "source": [
    "# provides simple and deterministic hash functions\n",
    "class HashFunction:\n",
    "    def __init__(self, num_slots):\n",
    "        self.num_slots = num_slots\n",
    "        \n",
    "    def __call__(self, x):\n",
    "        return (hash(self) + hash(x)) % self.num_slots"
   ],
   "outputs": [],
   "metadata": {}
  },
  {
   "cell_type": "markdown",
   "source": [
    "Bloom filter doesn't really count items in a data stream but is able to tell\n",
    "* that an item has *definitely not appeared* in the data stream so far; or\n",
    "\n",
    "\n",
    "* that an item has *possibly appeared* in the data stream so far."
   ],
   "metadata": {}
  },
  {
   "cell_type": "code",
   "execution_count": 13,
   "source": [
    "class BloomFilter:\n",
    "    \n",
    "    def __init__(self, num_slots, num_hash_fns):\n",
    "        \n",
    "        self.slots = np.zeros(num_slots, dtype=int)\n",
    "        self.hash_fns = [HashFunction(num_slots) for _ in range(num_hash_fns)] # A list of distinct hash functions\n",
    "    \n",
    "    def check_appearance(self, item):\n",
    "        \"\"\"\n",
    "        Returns a bool value indicating whether an item has appeared or not\n",
    "        \"\"\"\n",
    "        # Check if any slots are 0\n",
    "        appeared = []\n",
    "        for i, h in enumerate(self.hash_fns):\n",
    "            if self.slots[self.hash_fns[i](item)] == 0:\n",
    "                appeared.append(False)\n",
    "            else:\n",
    "                appeared.append(True)\n",
    "        \n",
    "        has_appeared = np.all(appeared) # check's if all are True\n",
    "        \n",
    "        return has_appeared\n",
    "    \n",
    "    def do_filtering(self, stream):\n",
    "        \"\"\"\n",
    "        Iterates over a stream, collects items of interest, calculates the fingerprints and records the appearance\n",
    "        \"\"\"\n",
    "        \n",
    "        self.slots = np.zeros_like(self.slots) # reset the slots\n",
    "        \n",
    "        for item in stream: # iterate over the stream\n",
    "            \n",
    "            # for each emoji find look up hash\n",
    "            for ch in extract_emojis(item):\n",
    "                # for each hash change slot to 1\n",
    "                for i, h in enumerate(self.hash_fns):  \n",
    "                    self.slots[self.hash_fns[i](ch)] = 1\n",
    "            \n",
    "            # returns a copy of slots at the end of every iteration for grading - code given\n",
    "            yield self.slots.copy()"
   ],
   "outputs": [],
   "metadata": {}
  },
  {
   "cell_type": "code",
   "execution_count": 15,
   "source": [
    "twitter_stream = TwitterStream(\"assets/tweets\")\n",
    "bl_flt = BloomFilter(7919, 5)\n",
    "\n",
    "# Collect emojis that appeared and that didn't appear\n",
    "emojis_appeared = set()\n",
    "for tweet in twitter_stream:\n",
    "    emojis_appeared = emojis_appeared.union(extract_emojis(tweet))\n",
    "emojis_not_appeared = set(UNICODE_EMOJI.keys()) - emojis_appeared\n",
    "\n",
    "# Do filtering. Don't have to collect the results. Just exhaust the stream\n",
    "for _ in bl_flt.do_filtering(twitter_stream):\n",
    "    pass"
   ],
   "outputs": [],
   "metadata": {}
  },
  {
   "cell_type": "markdown",
   "source": [
    "## Lossy Counter\n",
    "\n",
    "Let's now implement a lossy counter for emojis. The lossy counter should maintain counts of all emojis seen so far and only update the counts once a \"bucket\" of tweets arrive. The \"update\" of counts should include increments due to the emojis contained in the new bucket and decrements because we want to gradually get rid of less recent emojis."
   ],
   "metadata": {}
  },
  {
   "cell_type": "code",
   "execution_count": 16,
   "source": [
    "class LossyCounter:\n",
    "    \n",
    "    def __init__(self, bucket_size):\n",
    "        \n",
    "        self.bucket_size = bucket_size\n",
    "        self.counts = defaultdict(int) # recommended to use defaultdict, but an ordinary dict works fine too\n",
    "    \n",
    "    def do_counting(self, stream):\n",
    "        \"\"\"\n",
    "        Iterates over a stream, counts the items and drops the infrequent ones in a bucket\n",
    "        \"\"\"\n",
    "        \n",
    "        self.counts.clear() # reset the counts\n",
    "        num_items_in_bucket = 0 # optional: the current number of items in the \"bucket\"\n",
    "        temp_bucket = defaultdict(int)\n",
    "        item_count = 0\n",
    "                \n",
    "        for item in stream: # iterate over the stream\n",
    "                       \n",
    "            # temp bucket\n",
    "            if num_items_in_bucket + 1 < self.bucket_size:\n",
    "\n",
    "                for ch in extract_emojis(item):\n",
    "                    temp_bucket[ch] += 1\n",
    "                    \n",
    "                # increment count\n",
    "                num_items_in_bucket += 1\n",
    "                \n",
    "            else: \n",
    "                \n",
    "\n",
    "                #print(f\"stream size = {item_count}\")\n",
    "                #print(f\"num_items_in_bucket = {num_items_in_bucket}\")\n",
    "                #print(temp_bucket)\n",
    "                \n",
    "                # add the final sample to the bucket\n",
    "                for ch in extract_emojis(item):\n",
    "                    temp_bucket[ch] += 1\n",
    "                \n",
    "                # pass the new bucket\n",
    "                for temp in temp_bucket:\n",
    "                    self.counts[temp] += temp_bucket[temp]\n",
    "                    \n",
    "                # subtract from lossy counter\n",
    "                for key in self.counts:\n",
    "                    self.counts[key] = self.counts[key] - 1\n",
    "                    \n",
    "                #print(f\"before removing bins{self.counts}\")\n",
    "                # remove zero\n",
    "                self.counts = defaultdict(int, {x:y for x,y in self.counts.items() if y>0})\n",
    "                \n",
    "                # reset buckets\n",
    "                num_items_in_bucket = 0\n",
    "                temp_bucket = defaultdict(int)\n",
    "            \n",
    "            # increment count\n",
    "            item_count += 1\n",
    "            \n",
    "            \n",
    "            # returns a copy of counts at the end of every iteration for grading - code given\n",
    "            yield self.counts.copy()\n",
    "            \n",
    "        if len(self.counts.keys()) == 0: # extreme case bucket not full\n",
    "                \n",
    "            self.counts = temp_bucket\n",
    "            \n",
    "            yield self.counts.copy()"
   ],
   "outputs": [],
   "metadata": {}
  },
  {
   "cell_type": "code",
   "execution_count": 17,
   "source": [
    "bucket_size = 100\n",
    "lossy = LossyCounter(bucket_size)\n",
    "\n",
    "# Do counting. Don't have to collect the results. Just exhaust the stream\n",
    "for _ in lossy.do_counting(TwitterStream(\"assets/tweets\")):\n",
    "    pass\n",
    "\n",
    "sorted_counts = {emoji: lossy.counts[emoji] for emoji in sorted(lossy.counts.keys(), key=lossy.counts.get, reverse=True)}\n",
    "print(sorted_counts)"
   ],
   "outputs": [
    {
     "output_type": "stream",
     "name": "stdout",
     "text": [
      "{'😂': 1304, '😭': 911, '❤': 592, '🤣': 401, '🥺': 318, '✨': 317, '🥰': 236, '🔥': 231, '🏻': 228, '🙏': 207, '😍': 205, '💙': 175, '👏': 106, '♥': 97, '♀': 94, '😊': 77, '👍': 72, '💕': 69, '☺': 53, '‼': 47, '🤔': 44, '♂': 25, '💜': 22, '🏼': 21, '😅': 18, '👇': 16, '💦': 13, '😔': 13, '💔': 12, '🤒': 11, '🙇': 11, '💎': 11, '⭐': 10, '😢': 10, '🤦': 9, '👑': 9, '🌸': 7, '😆': 7, '🏾': 7, '🏷': 7, '🏽': 6, '😘': 6, '🤷': 6, '💀': 5, '🙄': 5, '❗': 5, '💢': 5, '💚': 4, '😋': 4, '🇸': 4, '😹': 4, '🤐': 4, '👥': 4, '💥': 4, '💛': 3, '🐥': 3, '😡': 2, '🎁': 2, '💪': 2, '😠': 2, '🤤': 2, '🚨': 2, '🤪': 2, '📣': 2, '😀': 2, '🍆': 2, '😏': 2, '🤮': 1, '😩': 1, '🤭': 1, '🔘': 1, '🖤': 1, '😃': 1, '👀': 1, '▶': 1, '😷': 1, '😁': 1, '〰': 1}\n"
     ]
    }
   ],
   "metadata": {}
  },
  {
   "cell_type": "code",
   "execution_count": 18,
   "source": [
    "fig, ax = plt.subplots(figsize=(10, 6))\n",
    "ax.bar(range(len(sorted_counts)), sorted_counts.values())\n",
    "ax.set_xlabel(\"Rank\")\n",
    "ax.set_ylabel(\"Frequency\")\n",
    "ax.set_title(\"Emoji Distribution\")\n",
    "\n",
    "del fig, ax"
   ],
   "outputs": [
    {
     "output_type": "display_data",
     "data": {
      "text/plain": [
       "<Figure size 720x432 with 1 Axes>"
      ],
      "image/png": "[encoded data removed]"
     },
     "metadata": {
      "needs_background": "light"
     }
    }
   ],
   "metadata": {}
  },
  {
   "cell_type": "markdown",
   "source": [],
   "metadata": {}
  },
  {
   "cell_type": "code",
   "execution_count": null,
   "source": [],
   "outputs": [],
   "metadata": {}
  }
 ],
 "metadata": {
  "interpreter": {
   "hash": "aee8b7b246df8f9039afb4144a1f6fd8d2ca17a180786b69acc140d282b71a49"
  },
  "kernelspec": {
   "name": "python3",
   "display_name": "Python 3.9.6 64-bit"
  },
  "language_info": {
   "codemirror_mode": {
    "name": "ipython",
    "version": 3
   },
   "file_extension": ".py",
   "mimetype": "text/x-python",
   "name": "python",
   "nbconvert_exporter": "python",
   "pygments_lexer": "ipython3",
   "version": "3.9.6"
  }
 },
 "nbformat": 4,
 "nbformat_minor": 2
}